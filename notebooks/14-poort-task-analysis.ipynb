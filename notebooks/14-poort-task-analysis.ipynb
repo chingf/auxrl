{
 "cells": [
  {
   "cell_type": "code",
   "execution_count": 73,
   "id": "2cd8b711",
   "metadata": {},
   "outputs": [],
   "source": [
    "import pickle\n",
    "import numpy as np\n",
    "import matplotlib.pyplot as plt\n",
    "import pandas as pd\n",
    "import seaborn as sns\n",
    "import torch\n",
    "import os\n",
    "from auxrl.Agent import Agent\n",
    "from auxrl.networks.Network import Network\n",
    "import yaml\n",
    "from auxrl.environments.PoortTask import Env as Env \n",
    "from acme import specs\n",
    "from configs import engram_dir\n",
    "from scipy.stats import ttest_ind"
   ]
  },
  {
   "cell_type": "code",
   "execution_count": 57,
   "id": "d5a4145d",
   "metadata": {},
   "outputs": [],
   "source": [
    "device = torch.device('cuda' if torch.cuda.is_available() else 'cpu')"
   ]
  },
  {
   "cell_type": "markdown",
   "id": "84125903",
   "metadata": {},
   "source": [
    "# Data Collection Helper Functions"
   ]
  },
  {
   "cell_type": "code",
   "execution_count": 58,
   "id": "94d2a6e8",
   "metadata": {},
   "outputs": [],
   "source": [
    "def get_responses(model, _iter, epoch):\n",
    "    fname = f'{base_exp}_{model}'\n",
    "    fname_nnet_dir = f'{engram_dir}nnets/{exp}/{fname}_{_iter}/'\n",
    "    with open(f'{engram_dir}params/{exp}/{fname}.yaml', 'r') as f:\n",
    "        parameters = yaml.safe_load(f)\n",
    "    parameters['fname'] = f'{exp}/{fname}_{_iter}'\n",
    "    parameters['internal_dim'] = dim\n",
    "    parameters['nn_yaml'] = nn_yaml\n",
    "    \n",
    "    np.random.seed(_iter)\n",
    "    env = Env(**parameters['dset_args'])\n",
    "    np.random.seed()\n",
    "    env_spec = specs.make_environment_spec(env)\n",
    "    network = Network(env_spec, device=device, **parameters['network_args'])\n",
    "    agent = Agent(env_spec, network, device=device, **parameters['agent_args'])\n",
    "    if epoch is not None:\n",
    "        try:\n",
    "            agent.load_network(fname_nnet_dir, episode=epoch, encoder_only=False)\n",
    "        except:\n",
    "            return None, None, None, None\n",
    "\n",
    "    vertical_response = []\n",
    "    angled_response = []\n",
    "    approach_response = []\n",
    "    n_states = 3\n",
    "    all_responses = []\n",
    "\n",
    "    for shift in range(env.n_approach_states):\n",
    "        approach_state = env.approach_states[shift]\n",
    "        obs = torch.tensor(approach_state).float().unsqueeze(0).unsqueeze(0)\n",
    "        agent._network.encoder(obs, save_conv_activity=True)\n",
    "        conv_activity = agent._network.encoder._prev_conv_activity.numpy()\n",
    "        if shift < n_states:\n",
    "            approach_response.append(conv_activity)\n",
    "        all_responses.append(conv_activity)\n",
    "\n",
    "    for shift in range(env.n_grating_states):\n",
    "        obs = np.roll(env.base_vertical_state, -shift)\n",
    "        obs = torch.tensor(obs).float().unsqueeze(0).unsqueeze(0)\n",
    "        agent._network.encoder(obs, save_conv_activity=True)\n",
    "        conv_activity = agent._network.encoder._prev_conv_activity.numpy()\n",
    "        if shift < n_states:\n",
    "            vertical_response.append(conv_activity)\n",
    "        all_responses.append(conv_activity)\n",
    "\n",
    "    for shift in range(env.n_grating_states):\n",
    "        obs = np.roll(env.base_angled_state, -shift)\n",
    "        obs = torch.tensor(obs).float().unsqueeze(0).unsqueeze(0)\n",
    "        agent._network.encoder(obs, save_conv_activity=True)\n",
    "        conv_activity = agent._network.encoder._prev_conv_activity.numpy()\n",
    "        if shift < n_states:\n",
    "            angled_response.append(conv_activity)\n",
    "        all_responses.append(conv_activity)\n",
    "\n",
    "    vertical_response = np.array(vertical_response).reshape((n_states,-1))\n",
    "    angled_response = np.array(angled_response).reshape((n_states,-1))\n",
    "    approach_response = np.array(approach_response).reshape((n_states,-1))\n",
    "    all_responses = np.array(all_responses).squeeze()\n",
    "    all_responses = all_responses.reshape((all_responses.shape[0],-1))\n",
    "    return vertical_response, angled_response, approach_response, all_responses"
   ]
  },
  {
   "cell_type": "code",
   "execution_count": 59,
   "id": "72044400",
   "metadata": {},
   "outputs": [],
   "source": [
    "def add_popln_metrics(results):\n",
    "    results['vert_mean'] = np.mean(results['vert'], axis=0)\n",
    "    results['angle_mean'] = np.mean(results['angle'], axis=0)\n",
    "    results['approach_mean'] = np.mean(results['approach'], axis=0)\n",
    "#     results['popln_std'] = np.std(\n",
    "#         np.vstack((results['vert'], results['angle'])), axis=0)\n",
    "    results['popln_std'] = np.std(results['all'], axis=0)\n",
    "    results['si'] = np.divide((\n",
    "        results['vert_mean'] - results['angle_mean']),\n",
    "        results['popln_std'] + 1E-10)\n",
    "    results['popln_si'] = np.sqrt(np.square(results['si']).mean())"
   ]
  },
  {
   "cell_type": "code",
   "execution_count": 60,
   "id": "381586c0",
   "metadata": {},
   "outputs": [],
   "source": [
    "def get_pre_post_data(model):\n",
    "    data = []\n",
    "    for _iter in range(30):\n",
    "        _data = {'pre': {}, 'post': {}}\n",
    "        pre_v, pre_a, pre_app, pre_all = get_responses(model, _iter, pre_epoch)\n",
    "        post_v, post_a, post_app, post_all = get_responses(model, _iter, post_epoch)\n",
    "        if pre_v is None or post_v is None: continue\n",
    "        _data['pre']['vert'] = pre_v\n",
    "        _data['pre']['angle'] = pre_a\n",
    "        _data['pre']['approach'] = pre_app\n",
    "        _data['pre']['all'] = pre_all\n",
    "        _data['post']['vert'] = post_v\n",
    "        _data['post']['angle'] = post_a\n",
    "        _data['post']['approach'] = post_app\n",
    "        _data['post']['all'] = post_all\n",
    "        add_popln_metrics(_data['pre'])\n",
    "        add_popln_metrics(_data['post'])\n",
    "        data.append(_data)\n",
    "    return data"
   ]
  },
  {
   "cell_type": "markdown",
   "id": "9d817e7a",
   "metadata": {},
   "source": [
    "# Plotting Helper Functions"
   ]
  },
  {
   "cell_type": "code",
   "execution_count": 61,
   "id": "a69866f9",
   "metadata": {},
   "outputs": [],
   "source": [
    "from scipy.stats import norm"
   ]
  },
  {
   "cell_type": "code",
   "execution_count": 62,
   "id": "a3d0ab59",
   "metadata": {},
   "outputs": [],
   "source": [
    "figsize = (1.5, 1.3)"
   ]
  },
  {
   "cell_type": "code",
   "execution_count": 63,
   "id": "1b4268df",
   "metadata": {},
   "outputs": [],
   "source": [
    "def plot_selectivity_bar_change(data, thresh=0.25, figname=None):\n",
    "    df = {'Condition': [], 'Selectivity': [], 'Proportion': []}\n",
    "    for _data in data:\n",
    "        n_neurons = _data['pre']['si'].size\n",
    "        v_s = np.sum(_data['pre']['si'] > thresh)/n_neurons\n",
    "        a_s = np.sum(_data['pre']['si'] < -thresh)/n_neurons\n",
    "        n_s = np.sum(np.abs(_data['pre']['si']) <= thresh)/n_neurons\n",
    "        df['Condition'].extend(['Pre-Learning']*3)\n",
    "        df['Selectivity'].extend(['Vertical', 'Angled', 'None'])\n",
    "        df['Proportion'].extend([v_s, a_s, n_s])\n",
    "        v_s = np.sum(_data['post']['si'] > thresh)/n_neurons\n",
    "        a_s = np.sum(_data['post']['si'] < -thresh)/n_neurons\n",
    "        n_s = np.sum(np.abs(_data['post']['si']) <= thresh)/n_neurons\n",
    "        df['Condition'].extend(['Post-Learning']*3)\n",
    "        df['Selectivity'].extend(['Vertical', 'Angled', 'None'])\n",
    "        df['Proportion'].extend([v_s, a_s, n_s])\n",
    "    df = pd.DataFrame(df)\n",
    "\n",
    "    fig, ax = plt.subplots(figsize=figsize, constrained_layout=True)\n",
    "    sns.barplot(x='Selectivity', y='Proportion', hue='Condition', palette=['gray', 'C1'], data=df)\n",
    "    ax.get_legend().remove()\n",
    "    plt.xticks([0,1,2], ['V', 'A', 'N/A'])\n",
    "    plt.yticks([0,0.5])\n",
    "    if figname is not None:\n",
    "        plt.savefig(figname + '.png', dpi=300, transparent=True)\n",
    "    plt.show()"
   ]
  },
  {
   "cell_type": "code",
   "execution_count": 84,
   "id": "22f84fff",
   "metadata": {},
   "outputs": [],
   "source": [
    "def plot_selectivity_distribution_change(data, step_size=0.5, figname=None):\n",
    "    df = {'Condition': [], 'SI': []}\n",
    "    for _data in data:\n",
    "        n_neurons = _data['pre']['si'].size\n",
    "        df['Condition'].extend(['Pre-Learning']*n_neurons)\n",
    "        df['SI'].extend(_data['pre']['si'].tolist())\n",
    "        df['Condition'].extend(['Post-Learning']*n_neurons)\n",
    "        df['SI'].extend(_data['post']['si'].tolist())\n",
    "    df = pd.DataFrame(df)\n",
    "    \n",
    "    fig, ax = plt.subplots(figsize=figsize, constrained_layout=True)\n",
    "    pre_data = df[df['Condition']=='Pre-Learning']['SI']\n",
    "    post_data = df[df['Condition']=='Post-Learning']['SI']\n",
    "    plt.hist(pre_data, bins=15, density=True, alpha=0.3, color='gray')\n",
    "    plt.hist(post_data, bins=15, density=True, alpha=0.3, color='C1')\n",
    "    xmin, xmax = plt.xlim()\n",
    "    x = np.linspace(xmin, xmax, 1000)\n",
    "    mu, std = norm.fit(pre_data)\n",
    "    p = norm.pdf(x, mu, std)\n",
    "    plt.scatter(mu, norm.pdf(mu, mu, std), color='gray', alpha=0.8, s=15)\n",
    "    plt.plot(x, p, 'gray')\n",
    "    mu, std = norm.fit(post_data)\n",
    "    p = norm.pdf(x, mu, std)\n",
    "    plt.scatter(mu, norm.pdf(mu, mu, std), color='C1', alpha=0.8, s=15)\n",
    "    plt.plot(x, p, 'C1')\n",
    "    ax.axvline(0, color='black', linestyle='--', alpha=0.5)\n",
    "    ax.set_xlabel('S.I.')\n",
    "    ax.set_ylabel('Proportion')\n",
    "    plt.xticks([-2, 0, 2])\n",
    "    if figname is not None:\n",
    "        plt.savefig(figname + '.png', dpi=300, transparent=True)\n",
    "    plt.show()\n",
    "    \n",
    "    t_stat, p_value = ttest_ind(pre_data, post_data, equal_var=False, alternative='less')\n",
    "    print(f\"T-statistic: {t_stat}\")\n",
    "    print(f\"P-value: {p_value}\")\n",
    "    alpha = 0.05\n",
    "    if p_value < alpha:\n",
    "        print(\"Reject the null hypothesis: The mean of group2 is significantly larger than the mean of group1.\")\n",
    "    else:\n",
    "        print(\"Fail to reject the null hypothesis: There's no significant evidence that the mean of group2 is smaller than the mean of group1.\")"
   ]
  },
  {
   "cell_type": "markdown",
   "id": "00c9f36c",
   "metadata": {},
   "source": [
    "# Population Analysis"
   ]
  },
  {
   "cell_type": "code",
   "execution_count": 75,
   "id": "12c8e66a",
   "metadata": {},
   "outputs": [],
   "source": [
    "pre_epoch = 0\n",
    "post_epoch = 300\n",
    "dim = 32\n",
    "nn_yaml = 'dm'\n",
    "base_exp = 'poorttask_flipped_clipnorm.05'\n",
    "exp = f'{base_exp}_{nn_yaml}_dim{dim}'"
   ]
  },
  {
   "cell_type": "markdown",
   "id": "2a0aace0",
   "metadata": {},
   "source": [
    "### With Positive Sample"
   ]
  },
  {
   "cell_type": "code",
   "execution_count": 82,
   "id": "eb2821ff",
   "metadata": {},
   "outputs": [],
   "source": [
    "data = get_pre_post_data('g0_-2_entro-3')"
   ]
  },
  {
   "cell_type": "code",
   "execution_count": 85,
   "id": "bab08988",
   "metadata": {},
   "outputs": [
    {
     "data": {
      "image/png": "[encoded data removed]",
      "text/plain": [
       "<Figure size 150x130 with 1 Axes>"
      ]
     },
     "metadata": {},
     "output_type": "display_data"
    },
    {
     "name": "stdout",
     "output_type": "stream",
     "text": [
      "T-statistic: -12.436490085386184\n",
      "P-value: 9.006369264492703e-36\n",
      "Reject the null hypothesis: The mean of group2 is significantly larger than the mean of group1.\n"
     ]
    }
   ],
   "source": [
    "plot_selectivity_distribution_change(data, figname='4g')"
   ]
  },
  {
   "cell_type": "code",
   "execution_count": 51,
   "id": "f00585b6",
   "metadata": {},
   "outputs": [
    {
     "data": {
      "image/png": "[encoded data removed]",
      "text/plain": [
       "<Figure size 150x130 with 1 Axes>"
      ]
     },
     "metadata": {},
     "output_type": "display_data"
    }
   ],
   "source": [
    "plot_selectivity_bar_change(data, thresh=1, figname='4f')"
   ]
  },
  {
   "cell_type": "markdown",
   "id": "996278cb",
   "metadata": {},
   "source": [
    "### MF only"
   ]
  },
  {
   "cell_type": "code",
   "execution_count": 86,
   "id": "44a31c99",
   "metadata": {},
   "outputs": [],
   "source": [
    "data = get_pre_post_data('mf0')"
   ]
  },
  {
   "cell_type": "code",
   "execution_count": 87,
   "id": "be079e9f",
   "metadata": {},
   "outputs": [
    {
     "data": {
      "image/png": "[encoded data removed]",
      "text/plain": [
       "<Figure size 150x130 with 1 Axes>"
      ]
     },
     "metadata": {},
     "output_type": "display_data"
    },
    {
     "name": "stdout",
     "output_type": "stream",
     "text": [
      "T-statistic: -12.08869158958493\n",
      "P-value: 6.536429334029709e-34\n",
      "Reject the null hypothesis: The mean of group2 is significantly larger than the mean of group1.\n"
     ]
    }
   ],
   "source": [
    "plot_selectivity_distribution_change(data, figname='S4b')"
   ]
  },
  {
   "cell_type": "code",
   "execution_count": 69,
   "id": "3192dc5e",
   "metadata": {},
   "outputs": [
    {
     "data": {
      "image/png": "[encoded data removed]",
      "text/plain": [
       "<Figure size 150x130 with 1 Axes>"
      ]
     },
     "metadata": {},
     "output_type": "display_data"
    }
   ],
   "source": [
    "plot_selectivity_bar_change(data, thresh=1, figname='S4c')"
   ]
  },
  {
   "cell_type": "markdown",
   "id": "bd4872ed",
   "metadata": {},
   "source": [
    "### Prediction Only"
   ]
  },
  {
   "cell_type": "code",
   "execution_count": 88,
   "id": "580a65b0",
   "metadata": {},
   "outputs": [],
   "source": [
    "data = get_pre_post_data('noq_g0_-1_entro-2')"
   ]
  },
  {
   "cell_type": "code",
   "execution_count": 89,
   "id": "b64fa033",
   "metadata": {},
   "outputs": [
    {
     "data": {
      "image/png": "[encoded data removed]",
      "text/plain": [
       "<Figure size 150x130 with 1 Axes>"
      ]
     },
     "metadata": {},
     "output_type": "display_data"
    },
    {
     "name": "stdout",
     "output_type": "stream",
     "text": [
      "T-statistic: -0.24373495205391657\n",
      "P-value: 0.40371839263923787\n",
      "Fail to reject the null hypothesis: There's no significant evidence that the mean of group2 is smaller than the mean of group1.\n"
     ]
    }
   ],
   "source": [
    "plot_selectivity_distribution_change(data, figname='S4b')"
   ]
  },
  {
   "cell_type": "code",
   "execution_count": 72,
   "id": "eb741e87",
   "metadata": {},
   "outputs": [
    {
     "data": {
      "image/png": "[encoded data removed]",
      "text/plain": [
       "<Figure size 150x130 with 1 Axes>"
      ]
     },
     "metadata": {},
     "output_type": "display_data"
    }
   ],
   "source": [
    "plot_selectivity_bar_change(data, thresh=1, figname='S4c')"
   ]
  },
  {
   "cell_type": "code",
   "execution_count": null,
   "id": "e8acd041",
   "metadata": {},
   "outputs": [],
   "source": []
  }
 ],
 "metadata": {
  "kernelspec": {
   "display_name": "Python 3 (ipykernel)",
   "language": "python",
   "name": "python3"
  },
  "language_info": {
   "codemirror_mode": {
    "name": "ipython",
    "version": 3
   },
   "file_extension": ".py",
   "mimetype": "text/x-python",
   "name": "python",
   "nbconvert_exporter": "python",
   "pygments_lexer": "ipython3",
   "version": "3.10.6"
  }
 },
 "nbformat": 4,
 "nbformat_minor": 5
}
