{
 "cells": [
  {
   "cell_type": "code",
   "execution_count": 10,
   "metadata": {},
   "outputs": [],
   "source": [
    "import pickle\n",
    "import numpy as np\n",
    "import matplotlib.pyplot as plt\n",
    "import pandas as pd\n",
    "import seaborn as sns\n",
    "import os\n",
    "from scipy.stats import sem\n",
    "import matplotlib.cm as cm\n",
    "from configs import engram_dir\n",
    "import sys"
   ]
  },
  {
   "cell_type": "code",
   "execution_count": 11,
   "metadata": {},
   "outputs": [],
   "source": [
    "sys.path.append(os.path.abspath('../scripts/model_parameters'))"
   ]
  },
  {
   "cell_type": "code",
   "execution_count": 12,
   "metadata": {},
   "outputs": [],
   "source": [
    "from gridworld import parameter_map"
   ]
  },
  {
   "cell_type": "markdown",
   "metadata": {},
   "source": [
    "# Helper functions"
   ]
  },
  {
   "cell_type": "code",
   "execution_count": 9,
   "metadata": {},
   "outputs": [],
   "source": [
    "def get_colors(models):\n",
    "    cmap = cm.get_cmap('Oranges')\n",
    "    c_steps = np.linspace(0.4, 0.8, 4, endpoint=True)\n",
    "    colors = []\n",
    "    for model in models:\n",
    "        if model.startswith('mf'):\n",
    "            colors.append('C0')\n",
    "        elif model.startswith('entro'):\n",
    "            colors.append('C2')\n",
    "        elif model.startswith('iqn'):\n",
    "            colors.append('C4')\n",
    "        elif model.startswith('g0.8'):\n",
    "            colors.append(cmap(c_steps[3]))\n",
    "        elif model.startswith('g0.5'):\n",
    "            colors.append(cmap(c_steps[2]))\n",
    "        elif model.startswith('g0.25'):\n",
    "            colors.append(cmap(c_steps[1]))\n",
    "        elif model.startswith('g0'):\n",
    "            colors.append(cmap(c_steps[0]))\n",
    "        else:\n",
    "            colors.append('black')\n",
    "    return colors"
   ]
  },
  {
   "cell_type": "code",
   "execution_count": 4,
   "metadata": {},
   "outputs": [],
   "source": [
    "def smooth(xs, ys, n=3):\n",
    "    vals = np.copy(ys)\n",
    "    smoothed = np.convolve(ys, np.ones(n)/n, mode='same')\n",
    "    vals[1:-1] = smoothed[1:-1]\n",
    "    return vals\n",
    "\n",
    "def get_df(base, zs, net_yaml):\n",
    "    data = {\n",
    "        'valid_score': [], 'valid_steps':[], 'dims': [],\n",
    "        'episode': [], 'model': [], 'z': [], 'step': [], 'file': []}\n",
    "    for z in zs:\n",
    "        task_dir = f'{base}_{net_yaml}_dim{z}_shuffobs'\n",
    "        task_dir = f'{engram_dir}pickles/{task_dir}/'\n",
    "        if not os.path.exists(task_dir): continue\n",
    "        for pickle_file in os.listdir(task_dir):\n",
    "            if not pickle_file.endswith('.p'): continue\n",
    "            pickle_file = f'{task_dir}{pickle_file}'\n",
    "            with open(pickle_file, 'rb') as f:\n",
    "                results = pickle.load(f)\n",
    "            valid_score = results['valid_score']\n",
    "            valid_steps = results['valid_steps_per_ep']\n",
    "            episode = results['episode']\n",
    "            model = results['model']\n",
    "            step = results['step']\n",
    "            for i in range(len(valid_score)):\n",
    "                if valid_score[i] == None: continue\n",
    "                data['valid_score'].append(valid_score[i])\n",
    "                data['valid_steps'].append(valid_steps[i])\n",
    "                data['dims'].append(z)\n",
    "                data['episode'].append(episode[i])\n",
    "                _model = model[i].split(base+'_')[-1]\n",
    "                data['model'].append(_model)\n",
    "                data['z'].append(z)\n",
    "                data['step'].append(step[i])\n",
    "                data['file'].append(pickle_file)\n",
    "    df = pd.DataFrame(data)\n",
    "    return df"
   ]
  },
  {
   "cell_type": "code",
   "execution_count": 5,
   "metadata": {},
   "outputs": [],
   "source": [
    "def plot(\n",
    "    df, plot_key, plot_ep, figsize=(6.4*0.75, 4.8*0.75),\n",
    "    fnames=None, figname=None, labels=None,\n",
    "    smooth_plot=True, smooth_plot_n=2, colors=None,\n",
    "    legend_title=None, ylim=None, plot_title=None, show_legend=True,\n",
    "    ylabel='Avg Episode Score', xlim=None):\n",
    "    \n",
    "    fig, ax = plt.subplots(figsize=figsize, constrained_layout=True)\n",
    "    zs = np.sort(np.unique(df['z']))\n",
    "    episode = np.sort(np.unique(df['episode']))\n",
    "    if fnames is None:\n",
    "        fnames = np.unique(df['model'])\n",
    "    for fname_idx, fname in enumerate(fnames):\n",
    "        line = []\n",
    "        shading_width = []\n",
    "        shading_lower = []\n",
    "        shading_upper = []\n",
    "        for z in zs:\n",
    "            df_subset = df[(df['model']==fname) & (df['z']==z)]\n",
    "            means = []\n",
    "            sems = []\n",
    "            val_len = 0\n",
    "            for ep in episode:\n",
    "                vals = df_subset[df_subset['episode']==ep]\n",
    "                vals = vals[plot_key]\n",
    "                means.append(np.mean(vals))\n",
    "                sems.append(sem(vals))\n",
    "                if ep == plot_ep:\n",
    "                    val_len = len(vals)\n",
    "            means = np.array(means)\n",
    "            sems = np.array(sems)\n",
    "            if z == 5:\n",
    "                print(fname)\n",
    "                print(f'Mean: {means[plot_ep]}, SEM: {sems[plot_ep]} for {val_len} vals')\n",
    "            line.append(means[plot_ep])\n",
    "            shading_width.append(sems[plot_ep])\n",
    "        line = np.array(line)\n",
    "        shading_width = np.array(shading_width)\n",
    "        if smooth_plot:\n",
    "            line = smooth(zs, line, smooth_plot_n)\n",
    "            shading_width = smooth(zs, shading_width, smooth_plot_n)\n",
    "        shading_lower = line - shading_width\n",
    "        shading_upper = line + shading_width\n",
    "        x_axis = zs\n",
    "        if colors is not None:\n",
    "            color = colors[fname_idx]\n",
    "        else:\n",
    "            color = None\n",
    "        if labels != None:\n",
    "            label = fname_labels[fname_idx]\n",
    "        else:\n",
    "            label = fname\n",
    "        ax.plot(x_axis, line, label=label, color=color, alpha=0.8)\n",
    "        ax.fill_between(x_axis, shading_lower, shading_upper, alpha=0.2,color=color)\n",
    "    if show_legend: plt.legend(title=legend_title)\n",
    "    if ylabel != None:\n",
    "        plt.ylabel(ylabel)\n",
    "    if ylim != None:\n",
    "        plt.ylim(ylim[0], ylim[1])\n",
    "    if xlim != None:\n",
    "        plt.xlim(xlim[0], xlim[1])\n",
    "    if plot_title != None:\n",
    "        plt.title(plot_title)\n",
    "    plt.xlabel('Latent Size')\n",
    "    if figname != None:\n",
    "        plt.savefig(figname + '.png', dpi=300, transparent=True)\n",
    "    plt.show()"
   ]
  },
  {
   "cell_type": "markdown",
   "metadata": {},
   "source": [
    "# Task A"
   ]
  },
  {
   "cell_type": "code",
   "execution_count": 6,
   "metadata": {},
   "outputs": [],
   "source": [
    "zs = np.arange(2, 22)\n",
    "base = 'gridworld_discount0.9_eps1.0'"
   ]
  },
  {
   "cell_type": "code",
   "execution_count": 7,
   "metadata": {},
   "outputs": [],
   "source": [
    "recalculate = True\n",
    "if recalculate:\n",
    "    task_df = get_df(base, zs, 'dm_large_q')\n",
    "    with open('pickles/2c_taskA.p', 'wb') as f:\n",
    "        pickle.dump(task_df, f)\n",
    "else:\n",
    "    with open('pickles/2c_taskA.p', 'rb') as f:\n",
    "        task_df = pickle.load(f)"
   ]
  },
  {
   "cell_type": "code",
   "execution_count": 16,
   "metadata": {},
   "outputs": [
    {
     "name": "stdout",
     "output_type": "stream",
     "text": [
      "mf0\n",
      "Mean: 0.8133333333333335, SEM: 0.06798692684790379 for 25 vals\n",
      "entro-1\n",
      "Mean: 0.936, SEM: 0.03321757678409741 for 25 vals\n",
      "g0_-2_entro-1\n",
      "Mean: 0.9946666666666667, SEM: 0.005333333333333333 for 25 vals\n",
      "g0.25_-2_entro-1\n",
      "Mean: 1.0, SEM: 0.0 for 25 vals\n",
      "g0.5_-3_entro-2\n",
      "Mean: 0.9573333333333334, SEM: 0.024 for 25 vals\n",
      "g0.8_-4_entro0\n",
      "Mean: 0.9253333333333335, SEM: 0.029393876913398138 for 25 vals\n"
     ]
    },
    {
     "data": {
      "image/png": "[encoded data removed]",
      "text/plain": [
       "<Figure size 108x108 with 1 Axes>"
      ]
     },
     "metadata": {
      "needs_background": "light"
     },
     "output_type": "display_data"
    }
   ],
   "source": [
    "plot(\n",
    "    task_df, 'valid_score', 600, figsize=(1.5, 1.5),\n",
    "    fnames=models,\n",
    "    show_legend=False,\n",
    "    smooth_plot=True, smooth_plot_n=4,\n",
    "    colors=get_colors(models),\n",
    "    ylim=(0,1), ylabel='Episode Score', #xlim=[7,20]\n",
    "    )"
   ]
  },
  {
   "cell_type": "markdown",
   "metadata": {},
   "source": [
    "# Task B"
   ]
  },
  {
   "cell_type": "code",
   "execution_count": 10,
   "metadata": {},
   "outputs": [],
   "source": [
    "zs = np.arange(2, 22)\n",
    "base = 'frozentransfer_gridworld_discount0.9_eps1.0'"
   ]
  },
  {
   "cell_type": "code",
   "execution_count": 17,
   "metadata": {},
   "outputs": [],
   "source": [
    "recalculate = True\n",
    "if recalculate:\n",
    "    task_df = get_df(base, zs, 'dm_large_q')\n",
    "    with open('pickles/2c_frozentransfer.p', 'wb') as f:\n",
    "        pickle.dump(task_df, f)\n",
    "else:\n",
    "    with open('pickles/2c_frozentransfer.p', 'rb') as f:\n",
    "        task_df = pickle.load(f)"
   ]
  },
  {
   "cell_type": "code",
   "execution_count": 18,
   "metadata": {},
   "outputs": [],
   "source": [
    "models = parameter_map['selected_models_large_q']()[0]\n",
    "#models = parameter_map['selected_models_grid_shuffle']()[0]"
   ]
  },
  {
   "cell_type": "code",
   "execution_count": 22,
   "metadata": {},
   "outputs": [],
   "source": [
    "_models = [\n",
    " 'g0_-2_entro-1',\n",
    " 'g0.25_-2_entro-1',\n",
    " 'g0.5_-3_entro-2',\n",
    " 'g0.8_-4_entro0']"
   ]
  },
  {
   "cell_type": "code",
   "execution_count": 23,
   "metadata": {},
   "outputs": [
    {
     "name": "stdout",
     "output_type": "stream",
     "text": [
      "g0_-2_entro-1\n",
      "Mean: 0.44000000000000017, SEM: 0.04760952285695233 for 25 vals\n",
      "g0.25_-2_entro-1\n",
      "Mean: 0.44000000000000017, SEM: 0.050184843513938725 for 25 vals\n",
      "g0.5_-3_entro-2\n",
      "Mean: 0.4346666666666667, SEM: 0.050934962161273564 for 25 vals\n",
      "g0.8_-4_entro0\n",
      "Mean: 0.3653333333333333, SEM: 0.041832115962809314 for 25 vals\n"
     ]
    },
    {
     "data": {
      "image/png": "[encoded data removed]",
      "text/plain": [
       "<Figure size 108x108 with 1 Axes>"
      ]
     },
     "metadata": {
      "needs_background": "light"
     },
     "output_type": "display_data"
    }
   ],
   "source": [
    "plot(\n",
    "    task_df, 'valid_score', 100, figsize=(1.5, 1.5),\n",
    "    fnames=_models,\n",
    "    show_legend=False,\n",
    "    smooth_plot=True, smooth_plot_n=3,\n",
    "    colors=get_colors(_models),\n",
    "    ylim=(0,1), ylabel='Episode Score', xlim=[6,21],\n",
    "    #figname='2c'\n",
    "    )"
   ]
  },
  {
   "cell_type": "code",
   "execution_count": 24,
   "metadata": {},
   "outputs": [
    {
     "name": "stdout",
     "output_type": "stream",
     "text": [
      "g0_-2_entro-1\n",
      "Mean: 0.816, SEM: 0.053924501405686186 for 25 vals\n",
      "g0.25_-2_entro-1\n",
      "Mean: 0.9146666666666668, SEM: 0.02388863048955856 for 25 vals\n",
      "g0.5_-3_entro-2\n",
      "Mean: 0.7226666666666668, SEM: 0.06355866348267326 for 25 vals\n",
      "g0.8_-4_entro0\n",
      "Mean: 0.6559999999999999, SEM: 0.057822205141341745 for 25 vals\n"
     ]
    },
    {
     "data": {
      "image/png": "[encoded data removed]",
      "text/plain": [
       "<Figure size 108x108 with 1 Axes>"
      ]
     },
     "metadata": {
      "needs_background": "light"
     },
     "output_type": "display_data"
    }
   ],
   "source": [
    "plot(\n",
    "    task_df, 'valid_score', 200, figsize=(1.5, 1.5),\n",
    "    fnames=_models,\n",
    "    show_legend=False,\n",
    "    smooth_plot=True, smooth_plot_n=3,\n",
    "    colors=get_colors(_models),\n",
    "    ylim=(0,1), ylabel='Episode Score', xlim=[6,21],\n",
    "    #figname='2c'\n",
    "    )"
   ]
  },
  {
   "cell_type": "markdown",
   "metadata": {},
   "source": [
    "# Test"
   ]
  },
  {
   "cell_type": "code",
   "execution_count": 4,
   "metadata": {},
   "outputs": [],
   "source": [
    "zs = np.arange(2, 22)"
   ]
  },
  {
   "cell_type": "code",
   "execution_count": 5,
   "metadata": {},
   "outputs": [],
   "source": [
    "recalculate = True\n",
    "if recalculate:\n",
    "    task_df = get_df('frozentransfer_new_gridworld8x8_shuffobs', zs, 'dm_large_q')\n",
    "#     with open('pickles/2c_frozentransfer.p', 'wb') as f:\n",
    "#         pickle.dump(task_df, f)\n",
    "else:\n",
    "    with open('pickles/2c_frozentransfer.p', 'rb') as f:\n",
    "        task_df = pickle.load(f)"
   ]
  },
  {
   "cell_type": "code",
   "execution_count": 6,
   "metadata": {},
   "outputs": [
    {
     "data": {
      "text/plain": [
       "array(['entro2', 'g0.25_-2_entro0', 'g0.5_-2_entro0', 'g0.8_-4_entro0',\n",
       "       'g0_-2_entro-1', 'mf0'], dtype=object)"
      ]
     },
     "execution_count": 6,
     "metadata": {},
     "output_type": "execute_result"
    }
   ],
   "source": [
    "np.unique(task_df['model'])"
   ]
  },
  {
   "cell_type": "code",
   "execution_count": 45,
   "metadata": {},
   "outputs": [
    {
     "name": "stdout",
     "output_type": "stream",
     "text": [
      "mf\n",
      "Mean: nan, SEM: nan for 0 vals\n",
      "entro\n",
      "Mean: nan, SEM: nan for 0 vals\n",
      "g0_-2_entro-1\n",
      "Mean: 0.5766666666666668, SEM: 0.06300580767489838 for 30 vals\n",
      "g0.25_-2_entro0\n",
      "Mean: 0.7433333333333333, SEM: 0.05543627040691276 for 30 vals\n",
      "g0.5_-2_entro0\n",
      "Mean: 0.7166666666666666, SEM: 0.06731011321485182 for 30 vals\n",
      "g0.8_-4_entro0\n",
      "Mean: 0.6533333333333334, SEM: 0.06153838785730926 for 30 vals\n"
     ]
    },
    {
     "data": {
      "image/png": "[encoded data removed]",
      "text/plain": [
       "<Figure size 150x150 with 1 Axes>"
      ]
     },
     "metadata": {},
     "output_type": "display_data"
    }
   ],
   "source": [
    "colors = cm.get_cmap('Oranges')\n",
    "c_steps = np.linspace(0.4, 0.8, 4, endpoint=True)\n",
    "plot(\n",
    "    task_df, 'valid_score', 100, figsize=(1.5, 1.5),\n",
    "    fnames=['mf', 'entro', 'g0_-2_entro-1', 'g0.25_-2_entro0', 'g0.5_-2_entro0', 'g0.8_-4_entro0'],\n",
    "    show_legend=False,\n",
    "    smooth_plot=True, smooth_plot_n=3,\n",
    "    colors=['C0', 'C2', colors(c_steps[0]), colors(c_steps[1]), colors(c_steps[2]), colors(c_steps[3])],\n",
    "    ylim=(0,1), ylabel='Episode Score', xlim=[6,21], figname='2c'\n",
    "    )"
   ]
  },
  {
   "cell_type": "code",
   "execution_count": null,
   "metadata": {},
   "outputs": [],
   "source": [
    "# Task B\n",
    "\n",
    "zs = np.arange(2, 22)\n",
    "\n",
    "recalculate = False\n",
    "if recalculate:\n",
    "    task_df = get_df('frozentransfer_new_gridworld8x8_shuffobs', zs, 'dm_large_q')\n",
    "    with open('pickles/2c_frozentransfer.p', 'wb') as f:\n",
    "        pickle.dump(task_df, f)\n",
    "else:\n",
    "    with open('pickles/2c_frozentransfer.p', 'rb') as f:\n",
    "        task_df = pickle.load(f)\n",
    "\n",
    "np.unique(task_df['model'])\n",
    "\n",
    "colors = cm.get_cmap('Oranges')\n",
    "c_steps = np.linspace(0.4, 0.8, 4, endpoint=True)\n",
    "plot(\n",
    "    task_df, 'valid_score', 100, figsize=(1.5, 1.5),\n",
    "    fnames=['mf', 'entro', 'g0_-2_entro-1', 'g0.25_-2_entro0', 'g0.5_-2_entro0', 'g0.8_-4_entro0'],\n",
    "    show_legend=False,\n",
    "    smooth_plot=True, smooth_plot_n=3,\n",
    "    colors=['C0', 'C2', colors(c_steps[0]), colors(c_steps[1]), colors(c_steps[2]), colors(c_steps[3])],\n",
    "    ylim=(0,1), ylabel='Episode Score', xlim=[6,21], figname='2c'\n",
    "    )"
   ]
  }
 ],
 "metadata": {
  "kernelspec": {
   "display_name": "Python 3",
   "language": "python",
   "name": "python3"
  },
  "language_info": {
   "codemirror_mode": {
    "name": "ipython",
    "version": 3
   },
   "file_extension": ".py",
   "mimetype": "text/x-python",
   "name": "python",
   "nbconvert_exporter": "python",
   "pygments_lexer": "ipython3",
   "version": "3.7.3"
  }
 },
 "nbformat": 4,
 "nbformat_minor": 5
}
