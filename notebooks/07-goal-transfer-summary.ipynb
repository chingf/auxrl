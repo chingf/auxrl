{
 "cells": [
  {
   "cell_type": "code",
   "execution_count": 1,
   "id": "516b90a2",
   "metadata": {},
   "outputs": [],
   "source": [
    "import pickle\n",
    "import numpy as np\n",
    "import matplotlib.pyplot as plt\n",
    "import pandas as pd\n",
    "import seaborn as sns\n",
    "import os\n",
    "from scipy.stats import sem\n",
    "import matplotlib.cm as cm\n",
    "from configs import engram_dir"
   ]
  },
  {
   "cell_type": "markdown",
   "id": "794a2b20",
   "metadata": {},
   "source": [
    "# Helper functions"
   ]
  },
  {
   "cell_type": "code",
   "execution_count": 2,
   "id": "32670551",
   "metadata": {},
   "outputs": [],
   "source": [
    "def smooth(xs, ys, n=3):\n",
    "    vals = np.copy(ys)\n",
    "    smoothed = np.convolve(ys, np.ones(n)/n, mode='same')\n",
    "    vals[1:-1] = smoothed[1:-1]\n",
    "    return vals\n",
    "\n",
    "def get_df(base, zs, net_yaml):\n",
    "    data = {\n",
    "        'valid_score': [], 'valid_steps':[], 'dims': [],\n",
    "        'episode': [], 'model': [], 'z': [], 'step': [], 'file': []}\n",
    "    for z in zs:\n",
    "        task_dir = f'{base}_{net_yaml}_dim{z}'\n",
    "        task_dir = f'{engram_dir}pickles/{task_dir}/'\n",
    "        if not os.path.exists(task_dir): continue\n",
    "        for pickle_file in os.listdir(task_dir):\n",
    "            if not pickle_file.endswith('.p'): continue\n",
    "            pickle_file = f'{task_dir}{pickle_file}'\n",
    "            with open(pickle_file, 'rb') as f:\n",
    "                results = pickle.load(f)\n",
    "            valid_score = results['valid_score']\n",
    "            valid_steps = results['valid_steps_per_ep']\n",
    "            episode = results['episode']\n",
    "            model = results['model']\n",
    "            step = results['step']\n",
    "            for i in range(len(valid_score)):\n",
    "                if valid_score[i] == None: continue\n",
    "                data['valid_score'].append(valid_score[i])\n",
    "                data['valid_steps'].append(valid_steps[i])\n",
    "                data['dims'].append(z)\n",
    "                data['episode'].append(episode[i])\n",
    "                _model = model[i].split(base+'_')[-1]\n",
    "                data['model'].append(_model)\n",
    "                data['z'].append(z)\n",
    "                data['step'].append(step[i])\n",
    "                data['file'].append(pickle_file)\n",
    "    df = pd.DataFrame(data)\n",
    "    return df"
   ]
  },
  {
   "cell_type": "code",
   "execution_count": 3,
   "id": "7660cf9c",
   "metadata": {},
   "outputs": [],
   "source": [
    "def plot(\n",
    "    df, plot_key, plot_ep, figsize=(6.4*0.75, 4.8*0.75),\n",
    "    fnames=None, figname=None, labels=None,\n",
    "    smooth_plot=True, smooth_plot_n=2, colors=None,\n",
    "    legend_title=None, ylim=None, plot_title=None, show_legend=True,\n",
    "    ylabel='Avg Episode Score', xlim=None):\n",
    "    \n",
    "    fig, ax = plt.subplots(figsize=figsize, constrained_layout=True)\n",
    "    zs = np.sort(np.unique(df['z']))\n",
    "    episode = np.sort(np.unique(df['episode']))\n",
    "    if fnames is None:\n",
    "        fnames = np.unique(df['model'])\n",
    "    for fname_idx, fname in enumerate(fnames):\n",
    "        line = []\n",
    "        shading_width = []\n",
    "        shading_lower = []\n",
    "        shading_upper = []\n",
    "        for z in zs:\n",
    "            df_subset = df[(df['model']==fname) & (df['z']==z)]\n",
    "            means = []\n",
    "            sems = []\n",
    "            val_len = 0\n",
    "            for ep in episode:\n",
    "                vals = df_subset[df_subset['episode']==ep]\n",
    "                vals = vals[plot_key]\n",
    "                means.append(np.mean(vals))\n",
    "                sems.append(sem(vals))\n",
    "                if ep == plot_ep:\n",
    "                    val_len = len(vals)\n",
    "            means = np.array(means)\n",
    "            sems = np.array(sems)\n",
    "            if z == 5:\n",
    "                print(fname)\n",
    "                print(f'Mean: {means[plot_ep]}, SEM: {sems[plot_ep]} for {val_len} vals')\n",
    "            line.append(means[plot_ep])\n",
    "            shading_width.append(sems[plot_ep])\n",
    "        line = np.array(line)\n",
    "        shading_width = np.array(shading_width)\n",
    "        if smooth_plot:\n",
    "            line = smooth(zs, line, smooth_plot_n)\n",
    "            shading_width = smooth(zs, shading_width, smooth_plot_n)\n",
    "        shading_lower = line - shading_width\n",
    "        shading_upper = line + shading_width\n",
    "        x_axis = zs\n",
    "        if colors is not None:\n",
    "            color = colors[fname_idx]\n",
    "        else:\n",
    "            color = None\n",
    "        if labels != None:\n",
    "            label = fname_labels[fname_idx]\n",
    "        else:\n",
    "            label = fname\n",
    "        ax.plot(x_axis, line, label=label, color=color, alpha=0.8)\n",
    "        ax.fill_between(x_axis, shading_lower, shading_upper, alpha=0.2,color=color)\n",
    "    if show_legend: plt.legend(title=legend_title)\n",
    "    if ylabel != None:\n",
    "        plt.ylabel(ylabel)\n",
    "    if ylim != None:\n",
    "        plt.ylim(ylim[0], ylim[1])\n",
    "    if xlim != None:\n",
    "        plt.xlim(xlim[0], xlim[1])\n",
    "    if plot_title != None:\n",
    "        plt.title(plot_title)\n",
    "    plt.xlabel('Latent Size')\n",
    "    if figname != None:\n",
    "        plt.savefig(figname + '.png', dpi=300, transparent=True)\n",
    "    plt.show()"
   ]
  },
  {
   "cell_type": "markdown",
   "id": "4eb09fa0",
   "metadata": {},
   "source": [
    "# Task A"
   ]
  },
  {
   "cell_type": "code",
   "execution_count": 6,
   "id": "c30f762f",
   "metadata": {},
   "outputs": [],
   "source": [
    "zs = np.arange(2, 22)"
   ]
  },
  {
   "cell_type": "code",
   "execution_count": 8,
   "id": "c96cfcfd",
   "metadata": {},
   "outputs": [],
   "source": [
    "recalculate = False\n",
    "if recalculate:\n",
    "    task_df = get_df('new_gridworld8x8_shuffobs', zs, 'dm_large_q')\n",
    "    with open('pickles/2c_taskA.p', 'wb') as f:\n",
    "        pickle.dump(task_df, f)\n",
    "else:\n",
    "    with open('pickles/2c_taskA.p', 'rb') as f:\n",
    "        task_df = pickle.load(f)"
   ]
  },
  {
   "cell_type": "code",
   "execution_count": 9,
   "id": "2ed76748",
   "metadata": {},
   "outputs": [
    {
     "data": {
      "text/plain": [
       "array(['entro-1', 'entro-2', 'entro0', 'entro1', 'entro2',\n",
       "       'g0.25_-2_entro-1', 'g0.25_-2_entro-2', 'g0.25_-2_entro0',\n",
       "       'g0.25_-2_entro1', 'g0.25_-3_entro-1', 'g0.25_-3_entro-2',\n",
       "       'g0.25_-3_entro0', 'g0.25_-3_entro1', 'g0.5_-2_entro-1',\n",
       "       'g0.5_-2_entro-2', 'g0.5_-2_entro0', 'g0.5_-2_entro1',\n",
       "       'g0.5_-3_entro-1', 'g0.5_-3_entro-2', 'g0.5_-3_entro0',\n",
       "       'g0.5_-3_entro1', 'g0.8_-3_entro-1', 'g0.8_-3_entro-2',\n",
       "       'g0.8_-3_entro0', 'g0.8_-3_entro1', 'g0.8_-4_entro-1',\n",
       "       'g0.8_-4_entro-2', 'g0.8_-4_entro0', 'g0.8_-4_entro1',\n",
       "       'g0_-2_entro-1', 'g0_-2_entro-2', 'g0_-2_entro0', 'g0_-2_entro1',\n",
       "       'mf-1', 'mf0', 'mf1'], dtype=object)"
      ]
     },
     "execution_count": 9,
     "metadata": {},
     "output_type": "execute_result"
    }
   ],
   "source": [
    "np.unique(task_df['model'])"
   ]
  },
  {
   "cell_type": "code",
   "execution_count": 33,
   "id": "95e054d3",
   "metadata": {},
   "outputs": [
    {
     "name": "stdout",
     "output_type": "stream",
     "text": [
      "mf\n",
      "Mean: nan, SEM: nan for 0 vals\n",
      "entro\n",
      "Mean: nan, SEM: nan for 0 vals\n",
      "g0_-2_entro-1\n",
      "Mean: 1.0, SEM: 0.0 for 45 vals\n",
      "g0.25_-2_entro0\n",
      "Mean: 1.0, SEM: 0.0 for 45 vals\n",
      "g0.5_-2_entro0\n",
      "Mean: 0.9688888888888889, SEM: 0.023098870107095427 for 45 vals\n",
      "g0.8_-4_entro0\n",
      "Mean: 0.9666666666666667, SEM: 0.012712834523274564 for 45 vals\n"
     ]
    },
    {
     "data": {
      "image/png": "[encoded data removed]",
      "text/plain": [
       "<Figure size 150x150 with 1 Axes>"
      ]
     },
     "metadata": {},
     "output_type": "display_data"
    }
   ],
   "source": [
    "colors = cm.get_cmap('Oranges')\n",
    "c_steps = np.linspace(0.4, 0.8, 4, endpoint=True)\n",
    "plot(\n",
    "    task_df, 'valid_score', 600, figsize=(1.5, 1.5),\n",
    "    fnames=['mf', 'entro', 'g0_-2_entro-1', 'g0.25_-2_entro0', 'g0.5_-2_entro0', 'g0.8_-4_entro0'],\n",
    "    show_legend=False,\n",
    "    smooth_plot=True, smooth_plot_n=4,\n",
    "    colors=['C0', 'C2', colors(c_steps[0]), colors(c_steps[1]), colors(c_steps[2]), colors(c_steps[3])],\n",
    "    ylim=(0,1), ylabel='Episode Score', xlim=[7,20]\n",
    "    )"
   ]
  },
  {
   "cell_type": "markdown",
   "id": "2a9d2588",
   "metadata": {},
   "source": [
    "# Task B"
   ]
  },
  {
   "cell_type": "code",
   "execution_count": 10,
   "id": "5a7708c1",
   "metadata": {},
   "outputs": [],
   "source": [
    "zs = np.arange(2, 22)"
   ]
  },
  {
   "cell_type": "code",
   "execution_count": 43,
   "id": "d7cbb50b",
   "metadata": {},
   "outputs": [],
   "source": [
    "recalculate = False\n",
    "if recalculate:\n",
    "    task_df = get_df('frozentransfer_new_gridworld8x8_shuffobs', zs, 'dm_large_q')\n",
    "    with open('pickles/2c_frozentransfer.p', 'wb') as f:\n",
    "        pickle.dump(task_df, f)\n",
    "else:\n",
    "    with open('pickles/2c_frozentransfer.p', 'rb') as f:\n",
    "        task_df = pickle.load(f)"
   ]
  },
  {
   "cell_type": "code",
   "execution_count": 44,
   "id": "99b1a783",
   "metadata": {},
   "outputs": [
    {
     "data": {
      "text/plain": [
       "array(['entro2', 'g0.25_-2_entro0', 'g0.5_-2_entro0', 'g0.8_-4_entro0',\n",
       "       'g0_-2_entro-1', 'mf0'], dtype=object)"
      ]
     },
     "execution_count": 44,
     "metadata": {},
     "output_type": "execute_result"
    }
   ],
   "source": [
    "np.unique(task_df['model'])"
   ]
  },
  {
   "cell_type": "code",
   "execution_count": 45,
   "id": "eb0ca1bc",
   "metadata": {},
   "outputs": [
    {
     "name": "stdout",
     "output_type": "stream",
     "text": [
      "mf\n",
      "Mean: nan, SEM: nan for 0 vals\n",
      "entro\n",
      "Mean: nan, SEM: nan for 0 vals\n",
      "g0_-2_entro-1\n",
      "Mean: 0.5766666666666668, SEM: 0.06300580767489838 for 30 vals\n",
      "g0.25_-2_entro0\n",
      "Mean: 0.7433333333333333, SEM: 0.05543627040691276 for 30 vals\n",
      "g0.5_-2_entro0\n",
      "Mean: 0.7166666666666666, SEM: 0.06731011321485182 for 30 vals\n",
      "g0.8_-4_entro0\n",
      "Mean: 0.6533333333333334, SEM: 0.06153838785730926 for 30 vals\n"
     ]
    },
    {
     "data": {
      "image/png": "[encoded data removed]",
      "text/plain": [
       "<Figure size 150x150 with 1 Axes>"
      ]
     },
     "metadata": {},
     "output_type": "display_data"
    }
   ],
   "source": [
    "colors = cm.get_cmap('Oranges')\n",
    "c_steps = np.linspace(0.4, 0.8, 4, endpoint=True)\n",
    "plot(\n",
    "    task_df, 'valid_score', 100, figsize=(1.5, 1.5),\n",
    "    fnames=['mf', 'entro', 'g0_-2_entro-1', 'g0.25_-2_entro0', 'g0.5_-2_entro0', 'g0.8_-4_entro0'],\n",
    "    show_legend=False,\n",
    "    smooth_plot=True, smooth_plot_n=3,\n",
    "    colors=['C0', 'C2', colors(c_steps[0]), colors(c_steps[1]), colors(c_steps[2]), colors(c_steps[3])],\n",
    "    ylim=(0,1), ylabel='Episode Score', xlim=[6,21], figname='2c'\n",
    "    )"
   ]
  },
  {
   "cell_type": "markdown",
   "id": "91fa1e03",
   "metadata": {},
   "source": [
    "# Test"
   ]
  },
  {
   "cell_type": "code",
   "execution_count": 4,
   "id": "7ad43f88",
   "metadata": {},
   "outputs": [],
   "source": [
    "zs = np.arange(2, 22)"
   ]
  },
  {
   "cell_type": "code",
   "execution_count": 5,
   "id": "84adc83a",
   "metadata": {},
   "outputs": [],
   "source": [
    "recalculate = True\n",
    "if recalculate:\n",
    "    task_df = get_df('frozentransfer_new_gridworld8x8_shuffobs', zs, 'dm_large_q')\n",
    "#     with open('pickles/2c_frozentransfer.p', 'wb') as f:\n",
    "#         pickle.dump(task_df, f)\n",
    "else:\n",
    "    with open('pickles/2c_frozentransfer.p', 'rb') as f:\n",
    "        task_df = pickle.load(f)"
   ]
  },
  {
   "cell_type": "code",
   "execution_count": 6,
   "id": "8fa047bc",
   "metadata": {},
   "outputs": [
    {
     "data": {
      "text/plain": [
       "array(['entro2', 'g0.25_-2_entro0', 'g0.5_-2_entro0', 'g0.8_-4_entro0',\n",
       "       'g0_-2_entro-1', 'mf0'], dtype=object)"
      ]
     },
     "execution_count": 6,
     "metadata": {},
     "output_type": "execute_result"
    }
   ],
   "source": [
    "np.unique(task_df['model'])"
   ]
  },
  {
   "cell_type": "code",
   "execution_count": 45,
   "id": "bbf23cb5",
   "metadata": {},
   "outputs": [
    {
     "name": "stdout",
     "output_type": "stream",
     "text": [
      "mf\n",
      "Mean: nan, SEM: nan for 0 vals\n",
      "entro\n",
      "Mean: nan, SEM: nan for 0 vals\n",
      "g0_-2_entro-1\n",
      "Mean: 0.5766666666666668, SEM: 0.06300580767489838 for 30 vals\n",
      "g0.25_-2_entro0\n",
      "Mean: 0.7433333333333333, SEM: 0.05543627040691276 for 30 vals\n",
      "g0.5_-2_entro0\n",
      "Mean: 0.7166666666666666, SEM: 0.06731011321485182 for 30 vals\n",
      "g0.8_-4_entro0\n",
      "Mean: 0.6533333333333334, SEM: 0.06153838785730926 for 30 vals\n"
     ]
    },
    {
     "data": {
      "image/png": "[encoded data removed]",
      "text/plain": [
       "<Figure size 150x150 with 1 Axes>"
      ]
     },
     "metadata": {},
     "output_type": "display_data"
    }
   ],
   "source": [
    "colors = cm.get_cmap('Oranges')\n",
    "c_steps = np.linspace(0.4, 0.8, 4, endpoint=True)\n",
    "plot(\n",
    "    task_df, 'valid_score', 100, figsize=(1.5, 1.5),\n",
    "    fnames=['mf', 'entro', 'g0_-2_entro-1', 'g0.25_-2_entro0', 'g0.5_-2_entro0', 'g0.8_-4_entro0'],\n",
    "    show_legend=False,\n",
    "    smooth_plot=True, smooth_plot_n=3,\n",
    "    colors=['C0', 'C2', colors(c_steps[0]), colors(c_steps[1]), colors(c_steps[2]), colors(c_steps[3])],\n",
    "    ylim=(0,1), ylabel='Episode Score', xlim=[6,21], figname='2c'\n",
    "    )"
   ]
  },
  {
   "cell_type": "code",
   "execution_count": null,
   "id": "4f1dceb4",
   "metadata": {},
   "outputs": [],
   "source": [
    "# Task B\n",
    "\n",
    "zs = np.arange(2, 22)\n",
    "\n",
    "recalculate = False\n",
    "if recalculate:\n",
    "    task_df = get_df('frozentransfer_new_gridworld8x8_shuffobs', zs, 'dm_large_q')\n",
    "    with open('pickles/2c_frozentransfer.p', 'wb') as f:\n",
    "        pickle.dump(task_df, f)\n",
    "else:\n",
    "    with open('pickles/2c_frozentransfer.p', 'rb') as f:\n",
    "        task_df = pickle.load(f)\n",
    "\n",
    "np.unique(task_df['model'])\n",
    "\n",
    "colors = cm.get_cmap('Oranges')\n",
    "c_steps = np.linspace(0.4, 0.8, 4, endpoint=True)\n",
    "plot(\n",
    "    task_df, 'valid_score', 100, figsize=(1.5, 1.5),\n",
    "    fnames=['mf', 'entro', 'g0_-2_entro-1', 'g0.25_-2_entro0', 'g0.5_-2_entro0', 'g0.8_-4_entro0'],\n",
    "    show_legend=False,\n",
    "    smooth_plot=True, smooth_plot_n=3,\n",
    "    colors=['C0', 'C2', colors(c_steps[0]), colors(c_steps[1]), colors(c_steps[2]), colors(c_steps[3])],\n",
    "    ylim=(0,1), ylabel='Episode Score', xlim=[6,21], figname='2c'\n",
    "    )"
   ]
  }
 ],
 "metadata": {
  "kernelspec": {
   "display_name": "Python 3 (ipykernel)",
   "language": "python",
   "name": "python3"
  },
  "language_info": {
   "codemirror_mode": {
    "name": "ipython",
    "version": 3
   },
   "file_extension": ".py",
   "mimetype": "text/x-python",
   "name": "python",
   "nbconvert_exporter": "python",
   "pygments_lexer": "ipython3",
   "version": "3.10.6"
  }
 },
 "nbformat": 4,
 "nbformat_minor": 5
}
