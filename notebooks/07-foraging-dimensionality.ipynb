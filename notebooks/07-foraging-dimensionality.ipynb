{
 "cells": [
  {
   "cell_type": "code",
   "execution_count": 1,
   "metadata": {},
   "outputs": [
    {
     "name": "stderr",
     "output_type": "stream",
     "text": [
      "<frozen importlib._bootstrap>:219: RuntimeWarning: scipy._lib.messagestream.MessageStream size changed, may indicate binary incompatibility. Expected 56 from C header, got 64 from PyObject\n"
     ]
    }
   ],
   "source": [
    "import pickle\n",
    "import numpy as np\n",
    "import matplotlib.pyplot as plt\n",
    "import pandas as pd\n",
    "import yaml\n",
    "import seaborn as sns\n",
    "import configs\n",
    "import os\n",
    "import torch\n",
    "from scipy.stats import pearsonr\n",
    "from deer.agent import NeuralAgent\n",
    "from deer.learning_algos.CRAR_torch import CRAR\n",
    "from sklearn.decomposition import PCA\n",
    "import deer.controllers as bc \n",
    "import yaml\n",
    "from scipy.stats import pearsonr\n",
    "from deer.policies import EpsilonGreedyPolicy, FixedFigure8Policy  "
   ]
  },
  {
   "cell_type": "code",
   "execution_count": 2,
   "metadata": {},
   "outputs": [],
   "source": [
    "from deer.environments.Foraging import MyEnv as Env"
   ]
  },
  {
   "cell_type": "code",
   "execution_count": 3,
   "metadata": {},
   "outputs": [],
   "source": [
    "import torch\n",
    "torch.cuda.is_available = lambda : False"
   ]
  },
  {
   "cell_type": "markdown",
   "metadata": {},
   "source": [
    "# Parameters"
   ]
  },
  {
   "cell_type": "code",
   "execution_count": 4,
   "metadata": {},
   "outputs": [],
   "source": [
    "engram_dir = '/Volumes/aronov-locker/Ching/rl/'\n",
    "engram_dir = '/mnt/smb/locker/aronov-locker/Ching/rl/'\n",
    "internal_dim = 10\n",
    "generic_exp_name = 'foraging_w_SR'\n",
    "exp_name = f'{generic_exp_name}_dm_dim{internal_dim}'\n",
    "latents_dir = f'{engram_dir}latents/{exp_name}/'\n",
    "nnets_dir = f'{engram_dir}nnets/{exp_name}/'\n",
    "pickle_dir = f'{engram_dir}pickles/{exp_name}/'"
   ]
  },
  {
   "cell_type": "markdown",
   "metadata": {},
   "source": [
    "# Helper functions"
   ]
  },
  {
   "cell_type": "code",
   "execution_count": 5,
   "metadata": {},
   "outputs": [],
   "source": [
    "def gini(x):\n",
    "    total = 0\n",
    "    for i, xi in enumerate(x[:-1], 1):\n",
    "        total += np.sum(np.abs(xi - x[i:]))\n",
    "    return total / (len(x)**2 * np.mean(x))"
   ]
  },
  {
   "cell_type": "markdown",
   "metadata": {},
   "source": [
    "# Run test experiments"
   ]
  },
  {
   "cell_type": "code",
   "execution_count": 6,
   "metadata": {},
   "outputs": [],
   "source": [
    "from sklearn.decomposition import KernelPCA"
   ]
  },
  {
   "cell_type": "code",
   "execution_count": 13,
   "metadata": {},
   "outputs": [
    {
     "name": "stdout",
     "output_type": "stream",
     "text": [
      "foraging_w_SR_entro_19\n",
      "foraging_w_SR_entro_6\n",
      "foraging_w_SR_mb_11\n",
      "foraging_w_SR_mf_10\n",
      "foraging_w_SR_sr_8\n",
      "foraging_w_SR_mf_22\n",
      "foraging_w_SR_sr_10\n",
      "foraging_w_SR_entro_4\n",
      "foraging_w_SR_sr_7\n",
      "foraging_w_SR_sr_33\n",
      "foraging_w_SR_sr_0\n",
      "foraging_w_SR_sr_31\n",
      "foraging_w_SR_sr_15\n",
      "foraging_w_SR_entro_5\n",
      "foraging_w_SR_sr_6\n",
      "foraging_w_SR_mf_34\n",
      "foraging_w_SR_mb_16\n",
      "foraging_w_SR_sr_35\n",
      "foraging_w_SR_mf_6\n",
      "foraging_w_SR_sr_21\n",
      "foraging_w_SR_mb_31\n",
      "foraging_w_SR_entro_22\n",
      "foraging_w_SR_mf_30\n",
      "foraging_w_SR_entro_27\n",
      "foraging_w_SR_sr_19\n",
      "foraging_w_SR_mb_19\n",
      "foraging_w_SR_sr_5\n",
      "foraging_w_SR_mb_15\n",
      "foraging_w_SR_sr_22\n",
      "foraging_w_SR_mf_23\n",
      "foraging_w_SR_entro_3\n",
      "foraging_w_SR_entro_8\n",
      "foraging_w_SR_mb_33\n",
      "foraging_w_SR_mb_25\n",
      "foraging_w_SR_sr_30\n",
      "foraging_w_SR_entro_32\n",
      "foraging_w_SR_mb_3\n",
      "foraging_w_SR_entro_11\n",
      "foraging_w_SR_entro_7\n",
      "foraging_w_SR_entro_30\n",
      "foraging_w_SR_entro_20\n",
      "foraging_w_SR_mb_5\n",
      "foraging_w_SR_sr_13\n",
      "foraging_w_SR_mf_3\n",
      "foraging_w_SR_entro_25\n",
      "foraging_w_SR_mb_26\n",
      "foraging_w_SR_mf_0\n",
      "foraging_w_SR_entro_26\n",
      "foraging_w_SR_mf_15\n",
      "foraging_w_SR_sr_27\n",
      "foraging_w_SR_entro_2\n",
      "foraging_w_SR_mf_28\n",
      "foraging_w_SR_mf_14\n",
      "foraging_w_SR_sr_18\n",
      "foraging_w_SR_mf_20\n",
      "foraging_w_SR_entro_13\n",
      "foraging_w_SR_sr_20\n",
      "foraging_w_SR_mf_8\n",
      "foraging_w_SR_sr_14\n",
      "foraging_w_SR_sr_11\n",
      "foraging_w_SR_mb_4\n",
      "foraging_w_SR_entro_17\n",
      "foraging_w_SR_mf_7\n",
      "foraging_w_SR_mb_27\n",
      "foraging_w_SR_mf_24\n",
      "foraging_w_SR_sr_25\n",
      "foraging_w_SR_mb_30\n",
      "foraging_w_SR_mb_12\n",
      "foraging_w_SR_entro_10\n",
      "foraging_w_SR_entro_31\n",
      "foraging_w_SR_mf_33\n",
      "foraging_w_SR_sr_2\n",
      "foraging_w_SR_sr_16\n",
      "foraging_w_SR_sr_23\n",
      "foraging_w_SR_entro_24\n",
      "foraging_w_SR_mb_21\n",
      "foraging_w_SR_mf_26\n",
      "foraging_w_SR_mf_11\n",
      "foraging_w_SR_mb_34\n",
      "foraging_w_SR_entro_21\n",
      "foraging_w_SR_mb_32\n",
      "foraging_w_SR_mf_18\n",
      "foraging_w_SR_entro_29\n",
      "foraging_w_SR_mb_7\n",
      "foraging_w_SR_mb_6\n",
      "foraging_w_SR_mb_17\n",
      "foraging_w_SR_mf_2\n",
      "foraging_w_SR_mf_4\n",
      "foraging_w_SR_sr_4\n",
      "foraging_w_SR_mf_27\n",
      "foraging_w_SR_mb_35\n",
      "foraging_w_SR_mb_23\n",
      "foraging_w_SR_entro_28\n",
      "foraging_w_SR_sr_17\n",
      "foraging_w_SR_mb_0\n",
      "foraging_w_SR_mf_12\n",
      "foraging_w_SR_mf_16\n",
      "foraging_w_SR_entro_14\n",
      "foraging_w_SR_mf_5\n",
      "foraging_w_SR_entro_18\n",
      "foraging_w_SR_mf_19\n",
      "foraging_w_SR_entro_33\n",
      "foraging_w_SR_entro_23\n",
      "foraging_w_SR_mb_29\n",
      "foraging_w_SR_mb_13\n",
      "foraging_w_SR_mb_8\n",
      "foraging_w_SR_mb_14\n",
      "foraging_w_SR_entro_15\n",
      "foraging_w_SR_mb_24\n",
      "foraging_w_SR_sr_26\n",
      "foraging_w_SR_entro_35\n",
      "foraging_w_SR_entro_0\n",
      "foraging_w_SR_mb_9\n",
      "foraging_w_SR_sr_3\n",
      "foraging_w_SR_sr_34\n",
      "foraging_w_SR_mf_32\n",
      "foraging_w_SR_mf_1\n",
      "foraging_w_SR_mf_29\n",
      "foraging_w_SR_entro_34\n",
      "foraging_w_SR_mf_13\n",
      "foraging_w_SR_sr_28\n",
      "foraging_w_SR_sr_32\n",
      "foraging_w_SR_entro_1\n",
      "foraging_w_SR_sr_24\n",
      "foraging_w_SR_mf_9\n",
      "foraging_w_SR_mb_28\n",
      "foraging_w_SR_sr_9\n",
      "foraging_w_SR_mb_2\n",
      "foraging_w_SR_mf_17\n",
      "foraging_w_SR_mb_22\n",
      "foraging_w_SR_mb_20\n",
      "foraging_w_SR_entro_12\n",
      "foraging_w_SR_mb_18\n",
      "foraging_w_SR_sr_1\n",
      "foraging_w_SR_entro_16\n",
      "foraging_w_SR_mb_1\n",
      "foraging_w_SR_mf_35\n",
      "foraging_w_SR_mf_31\n",
      "foraging_w_SR_entro_9\n",
      "foraging_w_SR_sr_29\n",
      "foraging_w_SR_sr_12\n",
      "foraging_w_SR_mb_10\n",
      "foraging_w_SR_mf_21\n",
      "foraging_w_SR_mf_25\n"
     ]
    }
   ],
   "source": [
    "model = []\n",
    "gini_coeff = []\n",
    "auc = []\n",
    "entro = []\n",
    "components = []\n",
    "for model_name in os.listdir(nnets_dir):\n",
    "    print(model_name)\n",
    "    if 'foraging' not in model_name: continue\n",
    "    if 'mb' in model_name:\n",
    "        fname = f'{generic_exp_name}_mb'\n",
    "        model.append('mb')\n",
    "    elif 'mf' in model_name:\n",
    "        fname = f'{generic_exp_name}_mf'\n",
    "        model.append('mf')\n",
    "    elif 'entro' in model_name:\n",
    "        fname = f'{generic_exp_name}_entro'\n",
    "        model.append('entro')\n",
    "    elif 'sr' in model_name:\n",
    "        fname = f'{generic_exp_name}_sr'\n",
    "        model.append('diffusive')\n",
    "    else:\n",
    "        continue\n",
    "    with open(f'{engram_dir}params/{fname}.yaml', 'r') as f:\n",
    "        parameters = yaml.safe_load(f)\n",
    "    parameters['fname'] = f'{exp_name}/{model_name}'\n",
    "    parameters['internal_dim'] = internal_dim\n",
    "    env = Env(                                                                     \n",
    "        rng=np.random.RandomState(),\n",
    "        give_rewards=parameters['foraging_give_rewards'],                           \n",
    "        higher_dim_obs=parameters['higher_dim_obs'],                               \n",
    "        size_maze=parameters['size_maze'])\n",
    "    rng = np.random.RandomState()\n",
    "    learning_algo = CRAR(                                                          \n",
    "        env, parameters['freeze_interval'], parameters['batch_size'], rng,         \n",
    "        internal_dim=parameters['internal_dim'], lr=parameters['learning_rate'],\n",
    "        nn_yaml=parameters['nn_yaml'], yaml_mods=parameters['yaml_mods'],          \n",
    "        double_Q=True, loss_weights=parameters['loss_weights'],                    \n",
    "        encoder_type=parameters['encoder_type']\n",
    "        )   \n",
    "    train_policy = EpsilonGreedyPolicy(                                     \n",
    "        learning_algo, env.nActions(), rng, epsilon=1.)             \n",
    "    test_policy = EpsilonGreedyPolicy(                                      \n",
    "        learning_algo, env.nActions(), rng, 0.)  \n",
    "    agent = NeuralAgent(                                                        \n",
    "        env, learning_algo, parameters['replay_memory_size'], 1,                \n",
    "        parameters['batch_size'], rng, save_dir=engram_dir,                     \n",
    "        train_policy=train_policy, test_policy=test_policy)\n",
    "    agent.attach(bc.LearningRateController(                                     \n",
    "        initial_learning_rate=parameters['learning_rate'],                      \n",
    "        learning_rate_decay=parameters['learning_rate_decay'],                  \n",
    "        periodicity=1))                                                         \n",
    "    agent.attach(bc.TrainerController(                                          \n",
    "        evaluate_on='action',  periodicity=parameters['update_frequency'],      \n",
    "        show_episode_avg_V_value=True, show_avg_Bellman_residual=True))         \n",
    "    best_controller = bc.FindBestController(                                    \n",
    "        validationID=Env.VALIDATION_MODE, testID=None, unique_fname=fname)      \n",
    "    agent.attach(best_controller)                                               \n",
    "    agent.attach(bc.InterleavedTestEpochController(                             \n",
    "        id=Env.VALIDATION_MODE, epoch_length=parameters['steps_per_test'],      \n",
    "        periodicity=1, show_score=True, summarize_every=10, unique_fname=fname))\n",
    "    try:\n",
    "        agent.setNetwork(parameters['fname'] + '/fname', nEpoch=51)\n",
    "    except:\n",
    "        print(f'Skipping {model_name}')\n",
    "\n",
    "    agent._in_episode = True\n",
    "    agent._mode = 0 # Testing mode with plan_depth=0\n",
    "    initState = env.reset(agent._mode)\n",
    "    inputDims = env.inputDimensions()\n",
    "    for i in range(len(inputDims)):\n",
    "        if inputDims[i][0] > 1:\n",
    "            agent._state[i][1:] = initState[i][1:]\n",
    "    agent._Vs_on_last_episode = []\n",
    "    is_terminal = False\n",
    "    reward = 0\n",
    "    \n",
    "    # Get latents\n",
    "    all_possib_inp = [] \n",
    "    quadrant_labels = [] # which quadrant\n",
    "    maze_x = []\n",
    "    maze_y = []\n",
    "    env.create_map()\n",
    "    for y_a in range(env._size_maze):\n",
    "        for x_a in range(env._size_maze):                \n",
    "            if env._map[x_a, y_a] != 1:\n",
    "                if env._higher_dim_obs:\n",
    "                    all_possib_inp.append(env.get_higher_dim_obs([x_a, y_a]))\n",
    "                else:\n",
    "                    all_possib_inp.append(env.get_low_dim_obs([x_a, y_a]))\n",
    "                quadrant_label = 0 if x_a < env._size_maze//2 else 2\n",
    "                quadrant_label += (0 if y_a < env._size_maze//2 else 1)\n",
    "                quadrant_labels.append(quadrant_label)\n",
    "                maze_x.append(x_a)\n",
    "                maze_y.append(y_a)\n",
    "    with torch.no_grad():\n",
    "        latents = learning_algo.crar.encoder(\n",
    "            torch.tensor(all_possib_inp).float()).cpu().numpy()\n",
    "    if latents.ndim == 4: # data_format='channels_last' -> 'channels_first'\n",
    "        latents = np.transpose(latents, (0, 3, 1, 2))\n",
    "        \n",
    "    pca = PCA(n_components=0.9) #KernelPCA(kernel='poly', remove_zero_eig=True)\n",
    "    reduced_latents = pca.fit_transform(latents)\n",
    "    var_ratio = pca.explained_variance_ratio_ #eigenvalues_\n",
    "    var_gini = gini(var_ratio)\n",
    "    var_curve = np.cumsum(var_ratio)\n",
    "    var_auc = np.trapz(var_curve, dx=1/var_curve.size)\n",
    "    n_components = var_ratio.size\n",
    "    var_entro = -np.sum(var_ratio * np.log(var_ratio)) / np.log(2) #bits\n",
    "    \n",
    "    gini_coeff.append(var_gini)\n",
    "    auc.append(var_auc)\n",
    "    entro.append(var_entro)\n",
    "    components.append(n_components)"
   ]
  },
  {
   "cell_type": "code",
   "execution_count": 14,
   "metadata": {},
   "outputs": [],
   "source": [
    "df = pd.DataFrame({\n",
    "    'model': np.array(model),\n",
    "    'gini_coeff': np.array(gini_coeff),\n",
    "    'auc': np.array(auc),\n",
    "    'entropy': np.array(entro),\n",
    "    'components': np.array(components)\n",
    "    })"
   ]
  },
  {
   "cell_type": "code",
   "execution_count": 15,
   "metadata": {},
   "outputs": [
    {
     "data": {
      "text/plain": [
       "<AxesSubplot: xlabel='model', ylabel='gini_coeff'>"
      ]
     },
     "execution_count": 15,
     "metadata": {},
     "output_type": "execute_result"
    },
    {
     "data": {
      "image/png": "[encoded data removed]",
      "text/plain": [
       "<Figure size 640x480 with 1 Axes>"
      ]
     },
     "metadata": {},
     "output_type": "display_data"
    }
   ],
   "source": [
    "sns.barplot(x='model', y='gini_coeff', data=df)"
   ]
  },
  {
   "cell_type": "code",
   "execution_count": 16,
   "metadata": {},
   "outputs": [
    {
     "data": {
      "text/plain": [
       "<AxesSubplot: xlabel='model', ylabel='auc'>"
      ]
     },
     "execution_count": 16,
     "metadata": {},
     "output_type": "execute_result"
    },
    {
     "data": {
      "image/png": "[encoded data removed]",
      "text/plain": [
       "<Figure size 640x480 with 1 Axes>"
      ]
     },
     "metadata": {},
     "output_type": "display_data"
    }
   ],
   "source": [
    "sns.barplot(x='model', y='auc', data=df)"
   ]
  },
  {
   "cell_type": "code",
   "execution_count": 17,
   "metadata": {},
   "outputs": [
    {
     "data": {
      "text/plain": [
       "<AxesSubplot: xlabel='model', ylabel='entropy'>"
      ]
     },
     "execution_count": 17,
     "metadata": {},
     "output_type": "execute_result"
    },
    {
     "data": {
      "image/png": "[encoded data removed]",
      "text/plain": [
       "<Figure size 640x480 with 1 Axes>"
      ]
     },
     "metadata": {},
     "output_type": "display_data"
    }
   ],
   "source": [
    "sns.barplot(x='model', y='entropy', data=df)"
   ]
  },
  {
   "cell_type": "code",
   "execution_count": null,
   "metadata": {},
   "outputs": [],
   "source": []
  },
  {
   "cell_type": "code",
   "execution_count": null,
   "metadata": {},
   "outputs": [],
   "source": []
  }
 ],
 "metadata": {
  "kernelspec": {
   "display_name": "Python [conda env:.conda-auxrl]",
   "language": "python",
   "name": "conda-env-.conda-auxrl-py"
  },
  "language_info": {
   "codemirror_mode": {
    "name": "ipython",
    "version": 3
   },
   "file_extension": ".py",
   "mimetype": "text/x-python",
   "name": "python",
   "nbconvert_exporter": "python",
   "pygments_lexer": "ipython3",
   "version": "3.8.13"
  }
 },
 "nbformat": 4,
 "nbformat_minor": 5
}
