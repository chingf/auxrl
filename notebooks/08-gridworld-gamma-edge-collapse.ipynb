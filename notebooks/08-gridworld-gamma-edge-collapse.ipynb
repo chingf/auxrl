{
 "cells": [
  {
   "cell_type": "code",
   "execution_count": 1,
   "id": "4b8a6164",
   "metadata": {},
   "outputs": [],
   "source": [
    "import sys\n",
    "import logging\n",
    "import pickle\n",
    "import yaml\n",
    "import matplotlib.cm as cm\n",
    "from joblib import Parallel, delayed\n",
    "import numpy as np\n",
    "import matplotlib.pyplot as plt\n",
    "from sklearn.decomposition import PCA\n",
    "import os\n",
    "import time\n",
    "import seaborn as sns\n",
    "import pandas as pd\n",
    "from configs import engram_dir"
   ]
  },
  {
   "cell_type": "markdown",
   "id": "cee402cb",
   "metadata": {},
   "source": [
    "# Parameters"
   ]
  },
  {
   "cell_type": "code",
   "execution_count": 2,
   "id": "452c362e",
   "metadata": {},
   "outputs": [],
   "source": [
    "episodes = np.arange(0, 650, 50)\n",
    "episodes = np.arange(0, 650, 100)"
   ]
  },
  {
   "cell_type": "code",
   "execution_count": 3,
   "id": "ddba807b",
   "metadata": {},
   "outputs": [],
   "source": [
    "internal_dim = 17\n",
    "generic_exp_name = 'new_gridworld8x8_shuffobs'\n",
    "network_yaml = 'dm_large_q'\n",
    "models = ['g0_-2_entro-1',\n",
    "        'g0.25_-2_entro0',\n",
    "        'g0.5_-2_entro0',\n",
    "        'g0.8_-4_entro0']"
   ]
  },
  {
   "cell_type": "code",
   "execution_count": 4,
   "id": "208137f6",
   "metadata": {},
   "outputs": [],
   "source": [
    "exp_name = f'{generic_exp_name}_{network_yaml}_dim{internal_dim}'\n",
    "nnets_dir = f'{engram_dir}nnets/{exp_name}/'\n",
    "pickle_dir = f'{engram_dir}pickles/{exp_name}/'\n",
    "analysis_dir = f'{engram_dir}analysis/{exp_name}/'"
   ]
  },
  {
   "cell_type": "markdown",
   "id": "b920f082",
   "metadata": {},
   "source": [
    "# Load analysis"
   ]
  },
  {
   "cell_type": "code",
   "execution_count": 5,
   "id": "875c6149",
   "metadata": {},
   "outputs": [],
   "source": [
    "dfs = []\n",
    "for episode in episodes:\n",
    "    with open(f'{analysis_dir}representation_df_ep{episode}.p', 'rb') as f:\n",
    "        repr_df = pickle.load(f)\n",
    "    repr_df.model = repr_df.model.str[len(generic_exp_name)+1:]\n",
    "    repr_df['episode'] = episode\n",
    "    dfs.append(repr_df)\n",
    "dfs = pd.concat(dfs)"
   ]
  },
  {
   "cell_type": "code",
   "execution_count": 6,
   "id": "3687bcb3",
   "metadata": {},
   "outputs": [],
   "source": [
    "results = {\n",
    "    'inner product': [],\n",
    "    'model': [],\n",
    "    'episode': []\n",
    "    }\n",
    "iterations = np.unique(dfs['iteration'])\n",
    "for i in iterations:\n",
    "    df = dfs[dfs['iteration']==i]\n",
    "    goal_state = df.iloc[0]['goal_state']\n",
    "    \n",
    "    # Collect relevant states\n",
    "    min_val = np.unique(df['x']).min()\n",
    "    max_val = np.unique(df['x']).max()\n",
    "    xys = [\n",
    "        [min_val, max_val], [min_val, min_val],\n",
    "        [max_val, min_val], [max_val, max_val]\n",
    "    ]\n",
    "            \n",
    "    # Get pairwise angles\n",
    "    for idx_1, xy1 in enumerate(xys):\n",
    "        for xy2 in xys[idx_1+1:]:\n",
    "            df_xy1 = df[(df['x']==xy1[0])&(df['y']==xy1[1])]\n",
    "            df_xy2 = df[(df['x']==xy2[0])&(df['y']==xy2[1])]\n",
    "            for model in models:\n",
    "                df_xy1_model = df_xy1[df_xy1['model']==model]\n",
    "                df_xy2_model = df_xy2[df_xy2['model']==model]\n",
    "                for episode in episodes:\n",
    "                    _df1 = df_xy1_model[df_xy1_model['episode']==episode]\n",
    "                    _df2 = df_xy2_model[df_xy2_model['episode']==episode]\n",
    "                    if len(_df1.index) == 0: continue\n",
    "                    assert(len(_df1.index)==1)\n",
    "                    assert(len(_df2.index)==1)\n",
    "                    arr1 = np.array(_df1.iloc[0]['latents'])\n",
    "                    arr2 = np.array(_df2.iloc[0]['latents'])\n",
    "                    sim = np.dot(arr1, arr2)/(np.linalg.norm(arr1)*np.linalg.norm(arr2))\n",
    "                    results['inner product'].append(sim)\n",
    "                    results['model'].append(model)\n",
    "                    results['episode'].append(episode)"
   ]
  },
  {
   "cell_type": "code",
   "execution_count": 7,
   "id": "4dc9282f",
   "metadata": {},
   "outputs": [],
   "source": [
    "df = pd.DataFrame(results)"
   ]
  },
  {
   "cell_type": "code",
   "execution_count": 11,
   "id": "0bb63676",
   "metadata": {},
   "outputs": [
    {
     "data": {
      "image/png": "[encoded data removed]",
      "text/plain": [
       "<Figure size 175x150 with 1 Axes>"
      ]
     },
     "metadata": {},
     "output_type": "display_data"
    }
   ],
   "source": [
    "fig, ax = plt.subplots(figsize=(1.75, 1.5), constrained_layout=True)\n",
    "colors = cm.get_cmap('Oranges')\n",
    "c_steps = np.linspace(0.4, 0.8, 4, endpoint=True)\n",
    "sns.lineplot(y='inner product', x='episode',\n",
    "    hue_order=models,\n",
    "    hue='model',\n",
    "    data=df, legend=None,\n",
    "    palette=[colors(i) for i in c_steps]\n",
    "    )\n",
    "plt.ylim(0,1)\n",
    "plt.xlabel('Training Steps')\n",
    "plt.ylabel('Corner States\\nInner Product')\n",
    "plt.savefig('2e.png', dpi=300, transparent=True)\n",
    "plt.show()"
   ]
  },
  {
   "cell_type": "code",
   "execution_count": 18,
   "id": "76f9dcc2",
   "metadata": {},
   "outputs": [
    {
     "data": {
      "image/png": "[encoded data removed]",
      "text/plain": [
       "<Figure size 175x150 with 1 Axes>"
      ]
     },
     "metadata": {},
     "output_type": "display_data"
    }
   ],
   "source": [
    "fig, ax = plt.subplots(figsize=(1.75, 1.5), constrained_layout=True)\n",
    "colors = cm.get_cmap('Oranges')\n",
    "c_steps = np.linspace(0.4, 0.8, 4, endpoint=True)\n",
    "sns.barplot(y='inner product', x='model',\n",
    "    #hue_order=models,\n",
    "    #hue='model',\n",
    "    data=df[df['episode']==600],\n",
    "    palette=[colors(i) for i in c_steps]\n",
    "    )\n",
    "plt.ylim(0,1)\n",
    "plt.xlabel('$\\gamma$')\n",
    "plt.xticks([0,1,2,3], [0, 0.25, 0.5, 0.8])\n",
    "plt.ylabel('Corner States\\nInner Product')\n",
    "plt.savefig('2e.png', dpi=300, transparent=True)\n",
    "plt.show()"
   ]
  },
  {
   "cell_type": "code",
   "execution_count": null,
   "id": "8a281bf5",
   "metadata": {},
   "outputs": [],
   "source": []
  }
 ],
 "metadata": {
  "kernelspec": {
   "display_name": "Python 3 (ipykernel)",
   "language": "python",
   "name": "python3"
  },
  "language_info": {
   "codemirror_mode": {
    "name": "ipython",
    "version": 3
   },
   "file_extension": ".py",
   "mimetype": "text/x-python",
   "name": "python",
   "nbconvert_exporter": "python",
   "pygments_lexer": "ipython3",
   "version": "3.10.6"
  }
 },
 "nbformat": 4,
 "nbformat_minor": 5
}
