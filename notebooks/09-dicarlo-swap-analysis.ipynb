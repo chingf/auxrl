{
 "cells": [
  {
   "cell_type": "code",
   "execution_count": 1,
   "metadata": {},
   "outputs": [],
   "source": [
    "import sys\n",
    "import logging\n",
    "import pickle\n",
    "import yaml\n",
    "import matplotlib.cm as cm\n",
    "from joblib import Parallel, delayed\n",
    "import numpy as np\n",
    "import matplotlib.pyplot as plt\n",
    "import os\n",
    "import time\n",
    "import configs"
   ]
  },
  {
   "cell_type": "code",
   "execution_count": 2,
   "metadata": {},
   "outputs": [],
   "source": [
    "sys.path.append('..')\n",
    "from scripts.model_parameters.dicarlo_swap import *"
   ]
  },
  {
   "cell_type": "markdown",
   "metadata": {},
   "source": [
    "# Parameters"
   ]
  },
  {
   "cell_type": "code",
   "execution_count": 37,
   "metadata": {},
   "outputs": [],
   "source": [
    "internal_dim = 16\n",
    "network_yaml = 'dm'\n",
    "generic_exp_name_pre = 'postbug_gridworld8x8_shuffobs'\n",
    "generic_exp_name_post = f'dicarlo_swap_{generic_exp_name_pre}'\n",
    "param_loading_func = postbug_contig"
   ]
  },
  {
   "cell_type": "code",
   "execution_count": 38,
   "metadata": {},
   "outputs": [],
   "source": [
    "engram_dir = '/Volumes/aronov-locker/Ching/rl/'\n",
    "engram_dir = '/mnt/smb/locker/aronov-locker/Ching/rl/' # Axon path"
   ]
  },
  {
   "cell_type": "markdown",
   "metadata": {},
   "source": [
    "# Loading analysis dataframes and swap parameters"
   ]
  },
  {
   "cell_type": "code",
   "execution_count": 39,
   "metadata": {},
   "outputs": [],
   "source": [
    "def get_repr_df(generic_exp_name):\n",
    "    exp_name = f'{generic_exp_name}_{network_yaml}_dim{internal_dim}'\n",
    "    nnets_dir = f'{engram_dir}nnets/{exp_name}/'\n",
    "    analysis_dir = f'{engram_dir}analysis/{exp_name}/'\n",
    "    with open(f'{analysis_dir}representation_df.p', 'rb') as f:\n",
    "        repr_df = pickle.load(f)\n",
    "    return repr_df"
   ]
  },
  {
   "cell_type": "code",
   "execution_count": 40,
   "metadata": {},
   "outputs": [],
   "source": [
    "def get_fr_map(generic_exp_name, model, i, unit):\n",
    "    repr_df = get_repr_df(generic_exp_name)\n",
    "    _df = repr_df[repr_df['model'] == f'{generic_exp_name}_{model}']\n",
    "    _df = _df[_df['iteration'] == i]\n",
    "    \n",
    "    width = np.max(_df['x']) + 2\n",
    "    height = np.max(_df['y']) + 2\n",
    "    _sample = np.array(_df.head(1)['latents'].item())\n",
    "    n_units = _sample.size\n",
    "    heatmap = np.zeros((n_units, width, height))\n",
    "    for _, row in _df.iterrows():\n",
    "        x = row['x']\n",
    "        y = row['y']\n",
    "        latents = np.array(row['latents'])\n",
    "        heatmap[:,x,y] = latents\n",
    "    m = heatmap[unit]\n",
    "    m[m<0] = 0\n",
    "    return m"
   ]
  },
  {
   "cell_type": "code",
   "execution_count": 41,
   "metadata": {},
   "outputs": [],
   "source": [
    "swap_params = param_loading_func()"
   ]
  },
  {
   "cell_type": "markdown",
   "metadata": {},
   "source": [
    "# Make encoder receptive fields"
   ]
  },
  {
   "cell_type": "code",
   "execution_count": 42,
   "metadata": {},
   "outputs": [
    {
     "data": {
      "image/png": "[encoded data removed]",
      "text/plain": [
       "<Figure size 400x300 with 1 Axes>"
      ]
     },
     "metadata": {},
     "output_type": "display_data"
    }
   ],
   "source": [
    "for key in swap_params.keys():\n",
    "    _swap_params = swap_params[key]\n",
    "    key_split = key[::-1].index('_')\n",
    "    model = key[:-key_split-1]\n",
    "    i = int(key[-key_split:])\n",
    "    unit = int(_swap_params['chosen_unit'])\n",
    "    try:\n",
    "        fr_pre = get_fr_map(generic_exp_name_pre, model, i, unit)\n",
    "        fr_post = get_fr_map(generic_exp_name_post, model, i, unit)\n",
    "        fr_pre /= fr_pre.max()\n",
    "        fr_post /= fr_post.max()\n",
    "    except:\n",
    "        continue\n",
    "        \n",
    "    plt.figure(figsize=(4,3))\n",
    "    a = fr_pre[_swap_params['a']]\n",
    "    b = fr_pre[_swap_params['b']]\n",
    "    c = fr_pre[_swap_params['c']]\n",
    "    d = fr_pre[_swap_params['d']]\n",
    "    e = fr_pre[_swap_params['e']]\n",
    "    f = fr_pre[_swap_params['f']]\n",
    "    plt.plot([0,1,2], [a,b,c], color='red', marker='o')\n",
    "    plt.plot([0,1,2], [d,e,f], color='blue', marker='o')\n",
    "    a = fr_post[_swap_params['a']]\n",
    "    b = fr_post[_swap_params['b']]\n",
    "    c = fr_post[_swap_params['c']]\n",
    "    d = fr_post[_swap_params['d']]\n",
    "    e = fr_post[_swap_params['e']]\n",
    "    f = fr_post[_swap_params['f']]\n",
    "    plt.plot([0,1,2], [a,b,c], color='red', linestyle='--', marker='o')\n",
    "    plt.plot([0,1,2], [d,e,f], color='blue', linestyle='--', marker='o')\n",
    "    plt.title(f'{model}, iteration {i}')"
   ]
  },
  {
   "cell_type": "code",
   "execution_count": null,
   "metadata": {},
   "outputs": [],
   "source": []
  }
 ],
 "metadata": {
  "kernelspec": {
   "display_name": "Python [conda env:.conda-auxrl]",
   "language": "python",
   "name": "conda-env-.conda-auxrl-py"
  },
  "language_info": {
   "codemirror_mode": {
    "name": "ipython",
    "version": 3
   },
   "file_extension": ".py",
   "mimetype": "text/x-python",
   "name": "python",
   "nbconvert_exporter": "python",
   "pygments_lexer": "ipython3",
   "version": "3.8.13"
  }
 },
 "nbformat": 4,
 "nbformat_minor": 2
}
