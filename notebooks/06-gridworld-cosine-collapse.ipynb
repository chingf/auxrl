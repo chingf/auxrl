{
 "cells": [
  {
   "cell_type": "code",
   "execution_count": 1,
   "metadata": {},
   "outputs": [],
   "source": [
    "import sys\n",
    "import logging\n",
    "import pickle\n",
    "import yaml\n",
    "import matplotlib.cm as cm\n",
    "from joblib import Parallel, delayed\n",
    "import numpy as np\n",
    "import matplotlib.pyplot as plt\n",
    "from sklearn.decomposition import PCA\n",
    "import os\n",
    "import time\n",
    "import seaborn as sns\n",
    "import pandas as pd\n",
    "from configs import engram_dir"
   ]
  },
  {
   "cell_type": "markdown",
   "metadata": {},
   "source": [
    "# Parameters"
   ]
  },
  {
   "cell_type": "code",
   "execution_count": 11,
   "metadata": {},
   "outputs": [],
   "source": [
    "episodes = np.arange(0, 600, 50)"
   ]
  },
  {
   "cell_type": "code",
   "execution_count": 4,
   "metadata": {},
   "outputs": [],
   "source": [
    "internal_dim = 10\n",
    "generic_exp_name = 'new_gridworld8x8_shuffobs'\n",
    "network_yaml = 'dm'\n",
    "models = ['mf1', 'g0_-2_entro1', 'entro0']"
   ]
  },
  {
   "cell_type": "code",
   "execution_count": 3,
   "metadata": {},
   "outputs": [],
   "source": [
    "internal_dim = 10\n",
    "generic_exp_name = 'iqn_shuffobs'\n",
    "network_yaml = 'iqn'\n",
    "models = ['mf1']"
   ]
  },
  {
   "cell_type": "code",
   "execution_count": 4,
   "metadata": {},
   "outputs": [],
   "source": [
    "exp_name = f'{generic_exp_name}_{network_yaml}_dim{internal_dim}'\n",
    "nnets_dir = f'{engram_dir}nnets/{exp_name}/'\n",
    "pickle_dir = f'{engram_dir}pickles/{exp_name}/'\n",
    "analysis_dir = f'{engram_dir}analysis/{exp_name}/'"
   ]
  },
  {
   "cell_type": "markdown",
   "metadata": {},
   "source": [
    "# Load analysis"
   ]
  },
  {
   "cell_type": "code",
   "execution_count": 7,
   "metadata": {},
   "outputs": [],
   "source": [
    "recalculate = True"
   ]
  },
  {
   "cell_type": "code",
   "execution_count": 8,
   "metadata": {},
   "outputs": [],
   "source": [
    "if 'iqn' in generic_exp_name:\n",
    "    pfile = 'pickles/1g_cos_collapse_iqn.p'\n",
    "else:\n",
    "    pfile = 'pickles/1g_cos_collapse.p'"
   ]
  },
  {
   "cell_type": "code",
   "execution_count": null,
   "metadata": {},
   "outputs": [],
   "source": [
    "if recalculate:\n",
    "    dfs = []\n",
    "    for episode in episodes:\n",
    "        with open(f'{analysis_dir}representation_df_ep{episode}.p', 'rb') as f:\n",
    "            repr_df = pickle.load(f)\n",
    "        repr_df.model = repr_df.model.str[len(generic_exp_name)+1:]\n",
    "        repr_df['episode'] = episode\n",
    "        dfs.append(repr_df)\n",
    "    dfs = pd.concat(dfs)\n",
    "    results = {\n",
    "        'inner product': [],\n",
    "        'model': [],\n",
    "        'episode': []\n",
    "        }\n",
    "    iterations = np.unique(dfs['iteration'])\n",
    "    for i in iterations:\n",
    "        df = dfs[dfs['iteration']==i]\n",
    "        goal_state = df.iloc[0]['goal_state']\n",
    "\n",
    "        # Collect relevant states\n",
    "        xys = []\n",
    "        for x in np.unique(df['x']):\n",
    "            for y in np.unique(df['y']):\n",
    "                if [x, y] == goal_state: continue\n",
    "                xys.append([x,y])\n",
    "        xys = np.array(xys)\n",
    "        xys = xys[np.random.choice(xys.shape[0], size=10, replace=False)] # Sampling for speed\n",
    "\n",
    "        # Get pairwise angles\n",
    "        for idx_1, xy1 in enumerate(xys):\n",
    "            for xy2 in xys[idx_1+1:]:\n",
    "                df_xy1 = df[(df['x']==xy1[0])&(df['y']==xy1[1])]\n",
    "                df_xy2 = df[(df['x']==xy2[0])&(df['y']==xy2[1])]\n",
    "                for model in models:\n",
    "                    df_xy1_model = df_xy1[df_xy1['model']==model]\n",
    "                    df_xy2_model = df_xy2[df_xy2['model']==model]\n",
    "                    for episode in episodes:\n",
    "                        _df1 = df_xy1_model[df_xy1_model['episode']==episode]\n",
    "                        _df2 = df_xy2_model[df_xy2_model['episode']==episode]\n",
    "                        if len(_df1.index) == 0: continue\n",
    "                        assert(len(_df1.index)==1)\n",
    "                        assert(len(_df2.index)==1)\n",
    "                        arr1 = np.array(_df1.iloc[0]['latents'])\n",
    "                        arr2 = np.array(_df2.iloc[0]['latents'])\n",
    "                        sim = np.dot(arr1, arr2)/(np.linalg.norm(arr1)*np.linalg.norm(arr2))\n",
    "                        results['inner product'].append(sim)\n",
    "                        results['model'].append(model)\n",
    "                        results['episode'].append(episode)\n",
    "    with open(pfile, 'wb') as f:\n",
    "        pickle.dump(results, f)\n",
    "else:\n",
    "    with open(pfile, 'rb') as f:\n",
    "        results = pickle.load(f)"
   ]
  },
  {
   "cell_type": "code",
   "execution_count": 13,
   "metadata": {},
   "outputs": [],
   "source": [
    "df = pd.DataFrame(results)"
   ]
  },
  {
   "cell_type": "markdown",
   "metadata": {},
   "source": [
    "# IQN"
   ]
  },
  {
   "cell_type": "code",
   "execution_count": 15,
   "metadata": {},
   "outputs": [
    {
     "data": {
      "image/png": "[encoded data removed]",
      "text/plain": [
       "<Figure size 150x150 with 1 Axes>"
      ]
     },
     "metadata": {},
     "output_type": "display_data"
    }
   ],
   "source": [
    "fig, ax = plt.subplots(figsize=(1.5, 1.5), constrained_layout=True)\n",
    "sns.lineplot(y='inner product', x='episode',\n",
    "    color='purple',\n",
    "    linewidth=1, data=df, legend=None)\n",
    "plt.ylim(0,1)\n",
    "plt.xlabel('Training Steps')\n",
    "plt.ylabel('Inner Product')\n",
    "plt.show()"
   ]
  },
  {
   "cell_type": "markdown",
   "metadata": {},
   "source": [
    "# Main plot"
   ]
  },
  {
   "cell_type": "code",
   "execution_count": 15,
   "metadata": {},
   "outputs": [
    {
     "data": {
      "image/png": "[encoded data removed]",
      "text/plain": [
       "<Figure size 150x150 with 1 Axes>"
      ]
     },
     "metadata": {},
     "output_type": "display_data"
    }
   ],
   "source": [
    "fig, ax = plt.subplots(figsize=(1.5, 1.5), constrained_layout=True)\n",
    "sns.lineplot(y='inner product', x='episode',\n",
    "    hue_order=models,\n",
    "    hue='model',\n",
    "    linewidth=1, data=df, legend=None)\n",
    "plt.ylim(0,1)\n",
    "plt.xlabel('Training Steps')\n",
    "plt.ylabel('Inner Product')\n",
    "plt.savefig('1g.png', dpi=300, transparent=True)\n",
    "plt.show()"
   ]
  },
  {
   "cell_type": "code",
   "execution_count": null,
   "metadata": {},
   "outputs": [],
   "source": []
  }
 ],
 "metadata": {
  "kernelspec": {
   "display_name": "Python [conda env:.conda-auxrl]",
   "language": "python",
   "name": "conda-env-.conda-auxrl-py"
  },
  "language_info": {
   "codemirror_mode": {
    "name": "ipython",
    "version": 3
   },
   "file_extension": ".py",
   "mimetype": "text/x-python",
   "name": "python",
   "nbconvert_exporter": "python",
   "pygments_lexer": "ipython3",
   "version": "3.8.13"
  }
 },
 "nbformat": 4,
 "nbformat_minor": 5
}
