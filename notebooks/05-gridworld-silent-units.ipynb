{
 "cells": [
  {
   "cell_type": "code",
   "execution_count": 1,
   "metadata": {},
   "outputs": [],
   "source": [
    "import sys\n",
    "import logging\n",
    "import pickle\n",
    "import yaml\n",
    "import matplotlib.cm as cm\n",
    "from joblib import Parallel, delayed\n",
    "import numpy as np\n",
    "import matplotlib.pyplot as plt\n",
    "import os\n",
    "import time\n",
    "import seaborn as sns\n",
    "import pandas as pd\n",
    "from scipy.stats import sem\n",
    "from configs import engram_dir"
   ]
  },
  {
   "cell_type": "markdown",
   "metadata": {},
   "source": [
    "# Parameters"
   ]
  },
  {
   "cell_type": "code",
   "execution_count": 2,
   "metadata": {},
   "outputs": [],
   "source": [
    "generic_exp_name = 'new_gridworld8x8_shuffobs'\n",
    "network_yaml = 'dm'\n",
    "episode = 600\n",
    "models = ['mf0', 'entro0', 'g0_-2_entro-1']\n",
    "model_labels = ['MF', 'MF + N', 'MF + P/N']"
   ]
  },
  {
   "cell_type": "code",
   "execution_count": 3,
   "metadata": {},
   "outputs": [],
   "source": [
    "dims = np.arange(2,20)"
   ]
  },
  {
   "cell_type": "code",
   "execution_count": 4,
   "metadata": {},
   "outputs": [],
   "source": [
    "episode = 600"
   ]
  },
  {
   "cell_type": "code",
   "execution_count": 5,
   "metadata": {},
   "outputs": [],
   "source": [
    "def smooth(xs, ys, n=3):\n",
    "    vals = np.copy(ys)\n",
    "    smoothed = np.convolve(ys, np.ones(n)/n, mode='same')\n",
    "    vals[n:-n] = smoothed[n:-n]\n",
    "    return vals"
   ]
  },
  {
   "cell_type": "markdown",
   "metadata": {},
   "source": [
    "# Collecting info"
   ]
  },
  {
   "cell_type": "code",
   "execution_count": 6,
   "metadata": {},
   "outputs": [],
   "source": [
    "data = {\n",
    "    'dims': [],\n",
    "    'zerofields': [],\n",
    "    'models': []\n",
    "}\n",
    "\n",
    "for internal_dim in dims:\n",
    "    exp_name = f'{generic_exp_name}_{network_yaml}_dim{internal_dim}'\n",
    "    analysis_dir = f'{engram_dir}analysis/{exp_name}/'\n",
    "    repr_df_path = f'{analysis_dir}representation_df_ep{episode}.p'\n",
    "    if not os.path.exists(repr_df_path):\n",
    "        continue\n",
    "    with open(repr_df_path, 'rb') as f:\n",
    "        repr_df = pickle.load(f)\n",
    "    for model in models:\n",
    "        _model = f'{generic_exp_name}_{model}'\n",
    "        model_df = repr_df[repr_df['model'] == _model]\n",
    "        if model_df.empty:\n",
    "            continue\n",
    "        iterations = np.unique(model_df['iteration'])\n",
    "        for i in iterations:\n",
    "            _df = model_df[model_df['iteration'] == i]\n",
    "            width = np.max(_df['x']) + 2\n",
    "            height = np.max(_df['y']) + 2\n",
    "            _sample = np.array(_df.head(1)['latents'].item())\n",
    "            n_units = _sample.size\n",
    "            heatmap = np.zeros((n_units, width, height))\n",
    "            for _, row in _df.iterrows():\n",
    "                x = row['x']\n",
    "                y = row['y']\n",
    "                latents = np.array(row['latents'])\n",
    "                heatmap[:,x,y] = latents\n",
    "            heatmap[heatmap<0] = 0\n",
    "            hh = np.sum(heatmap.reshape((internal_dim,-1)), axis=1)\n",
    "            data['dims'].append(internal_dim)\n",
    "            data['zerofields'].append(np.sum(hh < 1E-4)/internal_dim)\n",
    "            data['models'].append(model)"
   ]
  },
  {
   "cell_type": "markdown",
   "metadata": {},
   "source": [
    "# Measuring collapse"
   ]
  },
  {
   "cell_type": "code",
   "execution_count": 7,
   "metadata": {},
   "outputs": [],
   "source": [
    "df = pd.DataFrame(data)"
   ]
  },
  {
   "cell_type": "code",
   "execution_count": 17,
   "metadata": {},
   "outputs": [
    {
     "data": {
      "image/png": "[encoded data removed]",
      "text/plain": [
       "<Figure size 150x150 with 1 Axes>"
      ]
     },
     "metadata": {},
     "output_type": "display_data"
    }
   ],
   "source": [
    "colors = cm.get_cmap('Oranges')\n",
    "c_steps = np.linspace(0.4, 0.8, 4, endpoint=True)\n",
    "colors=['C0', 'C2', colors(c_steps[0])]\n",
    "smooth_line = True\n",
    "fig, ax = plt.subplots(\n",
    "    figsize=(1.5, 1.5), constrained_layout=True)\n",
    "dims = np.unique(df['dims'])\n",
    "dims.sort()\n",
    "for _idx, model in enumerate(models):\n",
    "    means = []\n",
    "    sems = []\n",
    "    for d in dims:\n",
    "        r = df[(df['models']==model) & (df['dims']==d)]\n",
    "        zerofields = r['zerofields']\n",
    "        means.append(np.mean(zerofields))\n",
    "        sems.append(sem(zerofields))\n",
    "    means = np.array(means)\n",
    "    sems = np.array(sems)\n",
    "    means = smooth(dims, means, 2)\n",
    "    sems = smooth(dims, np.array(sems), 2)\n",
    "    mean_lowerbound = means - sems\n",
    "    mean_upperbound = means + sems\n",
    "    ax.plot(dims, means, label=model, color=colors[_idx])\n",
    "    ax.fill_between(\n",
    "        dims, mean_lowerbound,\n",
    "        mean_upperbound, alpha=0.2, color=colors[_idx])\n",
    "plt.ylabel('Fraction Silent')\n",
    "plt.xlabel('Latent Size')\n",
    "plt.ylim(0, 1.0)\n",
    "plt.savefig('1f.png', dpi=300, transparent=True)\n",
    "plt.show()"
   ]
  },
  {
   "cell_type": "code",
   "execution_count": null,
   "metadata": {},
   "outputs": [],
   "source": []
  }
 ],
 "metadata": {
  "kernelspec": {
   "display_name": "Python [conda env:.conda-auxrl]",
   "language": "python",
   "name": "conda-env-.conda-auxrl-py"
  },
  "language_info": {
   "codemirror_mode": {
    "name": "ipython",
    "version": 3
   },
   "file_extension": ".py",
   "mimetype": "text/x-python",
   "name": "python",
   "nbconvert_exporter": "python",
   "pygments_lexer": "ipython3",
   "version": "3.8.13"
  }
 },
 "nbformat": 4,
 "nbformat_minor": 5
}
