{
 "cells": [
  {
   "cell_type": "code",
   "execution_count": 1,
   "id": "989671fb",
   "metadata": {},
   "outputs": [],
   "source": [
    "import pickle\n",
    "import numpy as np\n",
    "import matplotlib.pyplot as plt\n",
    "import pandas as pd\n",
    "import seaborn as sns\n",
    "import os\n",
    "from scipy.stats import sem\n",
    "import matplotlib.cm as cm\n",
    "from configs import engram_dir"
   ]
  },
  {
   "cell_type": "markdown",
   "id": "1e2f8fd6",
   "metadata": {},
   "source": [
    "# Helper functions"
   ]
  },
  {
   "cell_type": "code",
   "execution_count": 2,
   "id": "e8e697f6",
   "metadata": {},
   "outputs": [],
   "source": [
    "from sklearn.metrics import auc"
   ]
  },
  {
   "cell_type": "code",
   "execution_count": 3,
   "id": "8201a2bb",
   "metadata": {},
   "outputs": [],
   "source": [
    "def plot(\n",
    "    df, figsize=(6.4*0.75, 4.8*0.75),\n",
    "    fnames=None, figname=None, labels=None,\n",
    "    smooth_plot=True, smooth_plot_n=2, colors=None,\n",
    "    legend_title=None, ylim=None, plot_title=None, show_legend=True,\n",
    "    plot_auc=False, ylabel='Avg Episode Score', xlim=None):\n",
    "    \n",
    "    fig, ax = plt.subplots(figsize=figsize)\n",
    "    epsilons = np.sort(np.unique(df['epsilons']))\n",
    "    if fnames is None:\n",
    "        fnames = np.unique(df['model'])\n",
    "    for fname_idx, fname in enumerate(fnames):\n",
    "        means = []\n",
    "        sems = []\n",
    "        for eps in epsilons:\n",
    "            df_subset = df[(df['model']==fname) & (df['epsilons']==eps)]\n",
    "            vals = df_subset['valid_score']\n",
    "            means.append(np.mean(vals))\n",
    "            sems.append(sem(vals))\n",
    "        means = np.array(means)\n",
    "        sems = np.array(sems)\n",
    "        if smooth_plot:\n",
    "            means = smooth(epsilons, means, smooth_plot_n)\n",
    "            sems = smooth(epsilons, sems, smooth_plot_n)\n",
    "        line = np.array(means)\n",
    "        shading_lower = means - sems\n",
    "        shading_upper = means + sems\n",
    "        x_axis = epsilons\n",
    "        if colors is not None:\n",
    "            color = colors[fname_idx]\n",
    "        else:\n",
    "            color = None\n",
    "        if labels != None:\n",
    "            label = fname_labels[fname_idx]\n",
    "        else:\n",
    "            label = fname\n",
    "        ax.plot(x_axis, line, label=label, color=color, alpha=0.8)\n",
    "        ax.fill_between(x_axis, shading_lower, shading_upper, alpha=0.2,color=color)\n",
    "    plt.ylabel(ylabel)\n",
    "    plt.xlabel('Policy $\\epsilon$')\n",
    "    if show_legend:\n",
    "        plt.legend(title=legend_title, fontsize=12, title_fontsize=12)\n",
    "    if ylim != None:\n",
    "        plt.ylim(ylim[0], ylim[1])\n",
    "    if xlim != None:\n",
    "        plt.xlim(xlim[0], xlim[1])\n",
    "    if plot_title != None:\n",
    "        plt.title(plot_title)\n",
    "    plt.tight_layout()\n",
    "    if figname != None:\n",
    "        plt.savefig(figname+'.png', dpi=300)\n",
    "    plt.show()"
   ]
  },
  {
   "cell_type": "code",
   "execution_count": 4,
   "id": "ecbeb720",
   "metadata": {},
   "outputs": [],
   "source": [
    "def smooth(xs, ys, n=3):\n",
    "    vals = np.copy(ys)\n",
    "    smoothed = np.convolve(ys, np.ones(n)/n, mode='same')\n",
    "    vals[1:-1] = smoothed[1:-1]\n",
    "    return vals"
   ]
  },
  {
   "cell_type": "code",
   "execution_count": 13,
   "id": "a606e90d",
   "metadata": {},
   "outputs": [],
   "source": [
    "def get_df(base, z, epsilons, net_yaml, ep=600):\n",
    "    data = {\n",
    "        'valid_score': [], 'model': [],\n",
    "        'epsilons': [], 'file': []}\n",
    "    for epsilon in epsilons:\n",
    "        eps_base = base\n",
    "        if epsilon < 0.1:\n",
    "            eps_base = 'transitionreval_' + eps_base\n",
    "            eps_base += f'_eps{epsilon:0.2f}'\n",
    "        elif epsilon < 1.0:\n",
    "            eps_base = 'transitionreval_' + eps_base\n",
    "            eps_base += f'_eps{epsilon:0.1f}'\n",
    "        else:\n",
    "            eps_base = 'transitionreval_' + eps_base\n",
    "        eps_base += '_shuffobs'\n",
    "        task_dir = f'{eps_base}_{net_yaml}_dim{z}'\n",
    "        task_dir = f'{engram_dir}pickles/{task_dir}/'\n",
    "        if not os.path.exists(task_dir): continue\n",
    "        for pickle_file in os.listdir(task_dir):\n",
    "            if not pickle_file.endswith('.p'): continue\n",
    "            pickle_file = f'{task_dir}{pickle_file}'\n",
    "            with open(pickle_file, 'rb') as f:\n",
    "                results = pickle.load(f)\n",
    "            valid_score = results['valid_score']\n",
    "            valid_score = smooth(results['episode'], valid_score, n=30)\n",
    "            valid_steps = results['valid_steps_per_ep']\n",
    "            model = results['model'][0].split(eps_base+'_')[-1]\n",
    "            data['valid_score'].append(valid_score[ep])\n",
    "            data['model'].append(model)\n",
    "            data['epsilons'].append(epsilon)\n",
    "            data['file'].append(pickle_file)\n",
    "    df = pd.DataFrame(data)\n",
    "    return df"
   ]
  },
  {
   "cell_type": "markdown",
   "id": "08b0d5a0",
   "metadata": {},
   "source": [
    "# Final performance"
   ]
  },
  {
   "cell_type": "code",
   "execution_count": 14,
   "id": "ffac5839",
   "metadata": {},
   "outputs": [],
   "source": [
    "epsilons = [0.4, 0.5, 0.6, 0.7, 0.8, 0.9, 1.0]"
   ]
  },
  {
   "cell_type": "code",
   "execution_count": 41,
   "id": "2b872032",
   "metadata": {},
   "outputs": [],
   "source": [
    "recalculate = False\n",
    "if recalculate:\n",
    "    task_df = get_df('new_gridworld8x8', 17, epsilons, 'dm_large_q', ep=600)\n",
    "    with open('pickles/2h_transitionreval_ep600.p', 'wb') as f:\n",
    "        pickle.dump(task_df, f)\n",
    "else:\n",
    "    with open('pickles/2h_transitionreval_ep600.p', 'rb') as f:\n",
    "        task_df = pickle.load(f)"
   ]
  },
  {
   "cell_type": "code",
   "execution_count": 42,
   "id": "7faa982e",
   "metadata": {},
   "outputs": [
    {
     "data": {
      "image/png": "[encoded data removed]",
      "text/plain": [
       "<Figure size 175x150 with 1 Axes>"
      ]
     },
     "metadata": {},
     "output_type": "display_data"
    }
   ],
   "source": [
    "df = task_df.copy()\n",
    "df = df[(df['model']=='entro2') | (df['model']=='g0.8_-4_entro0')]\n",
    "df = df[df['epsilons']!=0.5]\n",
    "df = df[df['epsilons']!=0.7]\n",
    "fig, ax = plt.subplots(figsize=(1.5, 1.5), constrained_layout=True)\n",
    "colors = cm.get_cmap('Oranges')\n",
    "c_steps = np.linspace(0.4, 0.8, 4, endpoint=True)\n",
    "ax = sns.barplot(\n",
    "    y='valid_score', x='epsilons',\n",
    "    data=df, hue='model', hue_order=['entro2', 'g0.8_-4_entro0'],\n",
    "    palette=['C2', colors(c_steps[-1])],\n",
    "    )\n",
    "ax.legend_.remove()\n",
    "plt.ylim(0.6, 1)\n",
    "plt.xlabel('Policy $\\epsilon$')\n",
    "plt.ylabel('Episode Score')\n",
    "plt.savefig('2h.png', dpi=300, transparent=True)\n",
    "plt.show()"
   ]
  },
  {
   "cell_type": "code",
   "execution_count": 43,
   "id": "0b0c2978",
   "metadata": {},
   "outputs": [],
   "source": [
    "recalculate = False\n",
    "if recalculate:\n",
    "    task_df = get_df('new_gridworld8x8', 17, epsilons, 'dm_large_q', ep=150)\n",
    "    with open('pickles/2h_transitionreval_ep150.p', 'wb') as f:\n",
    "        pickle.dump(task_df, f)\n",
    "else:\n",
    "    with open('pickles/2h_transitionreval_ep150.p', 'rb') as f:\n",
    "        task_df = pickle.load(f)"
   ]
  },
  {
   "cell_type": "code",
   "execution_count": 45,
   "id": "435baf05",
   "metadata": {},
   "outputs": [
    {
     "data": {
      "image/png": "[encoded data removed]",
      "text/plain": [
       "<Figure size 150x150 with 1 Axes>"
      ]
     },
     "metadata": {},
     "output_type": "display_data"
    }
   ],
   "source": [
    "df = task_df.copy()\n",
    "df = df[(df['model']=='entro2') | (df['model']=='g0.8_-4_entro0')]\n",
    "df = df[df['epsilons']!=0.5]\n",
    "df = df[df['epsilons']!=0.7]\n",
    "fig, ax = plt.subplots(figsize=(1.5, 1.5), constrained_layout=True)\n",
    "colors = cm.get_cmap('Oranges')\n",
    "c_steps = np.linspace(0.4, 0.8, 4, endpoint=True)\n",
    "ax = sns.barplot(\n",
    "    y='valid_score', x='epsilons',\n",
    "    data=df, hue='model', hue_order=['entro2', 'g0.8_-4_entro0'],\n",
    "    palette=['C2', colors(c_steps[-1])],\n",
    "    )\n",
    "ax.legend_.remove()\n",
    "plt.ylim(0.6, 1)\n",
    "plt.xlabel('Policy $\\epsilon$')\n",
    "plt.ylabel('Episode Score')\n",
    "plt.savefig('2h.png', dpi=300, transparent=True)\n",
    "plt.show()"
   ]
  },
  {
   "cell_type": "code",
   "execution_count": null,
   "id": "3d812f14",
   "metadata": {},
   "outputs": [],
   "source": []
  }
 ],
 "metadata": {
  "kernelspec": {
   "display_name": "Python 3 (ipykernel)",
   "language": "python",
   "name": "python3"
  },
  "language_info": {
   "codemirror_mode": {
    "name": "ipython",
    "version": 3
   },
   "file_extension": ".py",
   "mimetype": "text/x-python",
   "name": "python",
   "nbconvert_exporter": "python",
   "pygments_lexer": "ipython3",
   "version": "3.10.6"
  }
 },
 "nbformat": 4,
 "nbformat_minor": 5
}
