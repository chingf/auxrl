{
 "cells": [
  {
   "cell_type": "code",
   "execution_count": 1,
   "metadata": {},
   "outputs": [],
   "source": [
    "import pickle\n",
    "import numpy as np\n",
    "import matplotlib.pyplot as plt\n",
    "import pandas as pd\n",
    "import seaborn as sns\n",
    "import configs\n",
    "import os\n",
    "from scipy.stats import sem\n",
    "import matplotlib.cm as cm"
   ]
  },
  {
   "cell_type": "code",
   "execution_count": 2,
   "metadata": {},
   "outputs": [],
   "source": [
    "plt.rcParams['font.family'] = 'sans-serif'"
   ]
  },
  {
   "cell_type": "markdown",
   "metadata": {},
   "source": [
    "# Helper functions"
   ]
  },
  {
   "cell_type": "code",
   "execution_count": 20,
   "metadata": {},
   "outputs": [],
   "source": [
    "def smooth(xs, ys, n=3):\n",
    "    return np.convolve(ys, np.ones(n)/n, mode='same')"
   ]
  },
  {
   "cell_type": "markdown",
   "metadata": {},
   "source": [
    "# Transfer Results"
   ]
  },
  {
   "cell_type": "code",
   "execution_count": 5,
   "metadata": {},
   "outputs": [],
   "source": [
    "zs = np.arange(4, 18)"
   ]
  },
  {
   "cell_type": "code",
   "execution_count": 7,
   "metadata": {},
   "outputs": [],
   "source": [
    "engram_dir = '/mnt/smb/locker/aronov-locker/Ching/rl/'"
   ]
  },
  {
   "cell_type": "code",
   "execution_count": 8,
   "metadata": {},
   "outputs": [],
   "source": [
    "transfer_data = {\n",
    "    'performance': [], 'dims': [], 'epochs': [],\n",
    "    'fname': [], 'z': [], 'steps': []\n",
    "    }\n",
    "for z in zs:\n",
    "    transfer_dir = f'frozentransfer_ccn_Tsweep_dm_dim{z}'\n",
    "    #transfer_dir = f'frozentransfer_foragingT2_dm_dim{z}'\n",
    "    transfer_dir = f'{engram_dir}pickles/{transfer_dir}/'\n",
    "    if not os.path.exists(transfer_dir):\n",
    "        continue\n",
    "    for pickle_file in os.listdir(transfer_dir):\n",
    "        pickle_file = f'{transfer_dir}{pickle_file}'\n",
    "        with open(pickle_file, 'rb') as f:\n",
    "            results = pickle.load(f)\n",
    "        valid_scores = results['valid_scores']\n",
    "        valid_steps = results['valid_steps']\n",
    "        dimensionality_tracking = results['dimensionality_tracking']\n",
    "        fnames = results['fname']\n",
    "        n_fname = len(results['fname'])\n",
    "        n_scores = len(results['valid_scores'])\n",
    "        multiple = int(n_fname/n_scores)\n",
    "        for idx in range(n_scores):\n",
    "            perf = valid_scores[idx]\n",
    "            steps = valid_steps[idx]\n",
    "            dim = dimensionality_tracking[idx]\n",
    "            fname = fnames[idx*multiple]\n",
    "            if fname.endswith('_10'):\n",
    "                fname = '10'\n",
    "            elif '_8' in fname:\n",
    "                fname = '8'\n",
    "            elif 'mf' in fname:\n",
    "                fname = 'No Aux. Task'\n",
    "            elif '_4' in fname:\n",
    "                fname = '4'\n",
    "            elif '_2' in fname:\n",
    "                fname = '2'\n",
    "            elif '_1' in fname:\n",
    "                fname = '1'\n",
    "            for epoch in range(len(perf)):\n",
    "                transfer_data['performance'].append(perf[epoch])\n",
    "                transfer_data['steps'].append(steps[epoch])\n",
    "                transfer_data['dims'].append(dim)\n",
    "                transfer_data['epochs'].append(epoch)\n",
    "                transfer_data['fname'].append(fname)\n",
    "                transfer_data['z'].append(z)\n",
    "transfer_df = pd.DataFrame(transfer_data)"
   ]
  },
  {
   "cell_type": "code",
   "execution_count": 9,
   "metadata": {},
   "outputs": [
    {
     "data": {
      "text/plain": [
       "array(['1', '10', '2', '4', '8', 'No Aux. Task'], dtype=object)"
      ]
     },
     "execution_count": 9,
     "metadata": {},
     "output_type": "execute_result"
    }
   ],
   "source": [
    "np.unique(transfer_df['fname'])"
   ]
  },
  {
   "cell_type": "code",
   "execution_count": 14,
   "metadata": {},
   "outputs": [],
   "source": [
    "import matplotlib.cm as cm"
   ]
  },
  {
   "cell_type": "code",
   "execution_count": 36,
   "metadata": {},
   "outputs": [],
   "source": [
    "def plotA(\n",
    "    df, plot_key, plot_epoch,\n",
    "    fnames=None, figname=None,\n",
    "    smooth_line=True, smooth_n=5, smooth_plot=True, colors=None,\n",
    "    legend_title='Auxiliary Task'):\n",
    "    \n",
    "    fig, ax = plt.subplots(figsize=(4,2.))\n",
    "    zs = np.sort(np.unique(df['z']))\n",
    "    epochs = np.sort(np.unique(df['epochs']))\n",
    "    if fnames is None:\n",
    "        fnames = np.unique(df['fname'])\n",
    "    for fname_idx, fname in enumerate(fnames):\n",
    "        line = []\n",
    "        shading_lower = []\n",
    "        shading_upper = []\n",
    "        for z in zs:\n",
    "            means = []\n",
    "            sems = []\n",
    "            df_subset = df[(df['fname']==fname) & (df['z']==z)]\n",
    "            for epoch in epochs:\n",
    "                vals = df_subset[df_subset['epochs']==epoch]\n",
    "                vals = vals[plot_key]\n",
    "                means.append(np.mean(vals))\n",
    "                sems.append(sem(vals))\n",
    "            means = np.array(means)\n",
    "            sems = np.array(sems)\n",
    "            mean_lowerbound = means - sems\n",
    "            mean_upperbound = means + sems\n",
    "            if smooth_line:\n",
    "                means = smooth(epochs, means, smooth_n)\n",
    "                mean_lowerbound = smooth(epochs, mean_lowerbound)\n",
    "                mean_upperbound = smooth(epochs, mean_upperbound)\n",
    "            line.append(means[plot_epoch])\n",
    "            shading_lower.append(mean_lowerbound[plot_epoch])\n",
    "            shading_upper.append(mean_upperbound[plot_epoch])\n",
    "        if smooth_plot:\n",
    "            _line = smooth(zs, line, 2)\n",
    "            _shading_lower = smooth(zs, shading_lower, 2)\n",
    "            _shading_upper = smooth(zs, shading_upper, 2)\n",
    "            _line[0] = line[0]; _line[-1] = line[-1]\n",
    "            _shading_lower[0] = shading_lower[0]\n",
    "            _shading_lower[-1] = shading_lower[-1]\n",
    "            _shading_upper[0] = shading_upper[0]\n",
    "            _shading_upper[-1] = shading_upper[-1]\n",
    "            line = _line; shading_lower = _shading_lower;\n",
    "            shading_uppper = _shading_upper\n",
    "        x_axis = zs#/26\n",
    "        if colors is not None:\n",
    "            color = colors[fname_idx]\n",
    "        if fname == '10':\n",
    "            label = 'Predictive Task'\n",
    "        elif fname == 'No Aux. Task':\n",
    "            label = fname\n",
    "        else:\n",
    "            label = None\n",
    "        ax.plot(x_axis, line, label=label, color=color)\n",
    "        ax.fill_between(x_axis, shading_lower, shading_upper, alpha=0.4,color=color)\n",
    "    plt.ylabel('Test Score')\n",
    "    plt.xlabel('Latent Dimension Size')\n",
    "    #plt.xticks([0.75, 1, 1.25], ['$0.75$x', '$1$x', '$1.25$x'])\n",
    "    plt.legend(title=legend_title, title_fontsize=14)\n",
    "    plt.ylim(-0.05, 1.05)\n",
    "    plt.tight_layout()\n",
    "    if figname != None:\n",
    "        plt.savefig(figname+'.png', dpi=300)\n",
    "    plt.show()"
   ]
  },
  {
   "cell_type": "code",
   "execution_count": 37,
   "metadata": {
    "scrolled": true
   },
   "outputs": [
    {
     "data": {
      "image/png": "[encoded data removed]",
      "text/plain": [
       "<Figure size 288x144 with 1 Axes>"
      ]
     },
     "metadata": {
      "needs_background": "light"
     },
     "output_type": "display_data"
    }
   ],
   "source": [
    "colors = cm.get_cmap('Oranges')\n",
    "color_steps = np.linspace(0.4, 0.8, 5, endpoint=True)\n",
    "plotA(transfer_df, 'performance', 38, smooth_line=True, smooth_n=3,\n",
    "      fnames=['1', '10', '2', '4', '8', 'No Aux. Task'],\n",
    "      smooth_plot=False,\n",
    "      figname='decodersize_transfer_late', legend_title='Encoder Initialization',\n",
    "      colors = [colors(i) for i in color_steps] + ['C0']\n",
    "     )"
   ]
  },
  {
   "cell_type": "markdown",
   "metadata": {},
   "source": [
    "# Task A Results"
   ]
  },
  {
   "cell_type": "code",
   "execution_count": 28,
   "metadata": {},
   "outputs": [],
   "source": [
    "transfer_data = {\n",
    "    'performance': [], 'dims': [], 'epochs': [],\n",
    "    'fname': [], 'z': [], 'steps': []\n",
    "    }\n",
    "for z in zs:\n",
    "    transfer_dir = f'ccn_Tsweep_dm_dim{z}'\n",
    "    #transfer_dir = f'frozentransfer_foragingT2_dm_dim{z}'\n",
    "    transfer_dir = f'{engram_dir}pickles/{transfer_dir}/'\n",
    "    if not os.path.exists(transfer_dir):\n",
    "        continue\n",
    "    for pickle_file in os.listdir(transfer_dir):\n",
    "        pickle_file = f'{transfer_dir}{pickle_file}'\n",
    "        with open(pickle_file, 'rb') as f:\n",
    "            results = pickle.load(f)\n",
    "        valid_scores = results['valid_scores']\n",
    "        valid_steps = results['valid_steps']\n",
    "        dimensionality_tracking = results['dimensionality_tracking']\n",
    "        fnames = results['fname']\n",
    "        n_fname = len(results['fname'])\n",
    "        n_scores = len(results['valid_scores'])\n",
    "        multiple = int(n_fname/n_scores)\n",
    "        for idx in range(n_scores):\n",
    "            perf = valid_scores[idx]\n",
    "            steps = valid_steps[idx]\n",
    "            dim = dimensionality_tracking[idx]\n",
    "            fname = fnames[idx*multiple]\n",
    "            if fname.endswith('_10'):\n",
    "                fname = '10'\n",
    "            elif '_8' in fname:\n",
    "                fname = '8'\n",
    "            elif 'mf' in fname:\n",
    "                fname = 'No Aux. Task'\n",
    "            elif '_4' in fname:\n",
    "                fname = '4'\n",
    "            elif '_2' in fname:\n",
    "                fname = '2'\n",
    "            elif '_1' in fname:\n",
    "                fname = '1'\n",
    "            for epoch in range(len(perf)):\n",
    "                transfer_data['performance'].append(perf[epoch])\n",
    "                transfer_data['steps'].append(steps[epoch])\n",
    "                transfer_data['dims'].append(dim)\n",
    "                transfer_data['epochs'].append(epoch)\n",
    "                transfer_data['fname'].append(fname)\n",
    "                transfer_data['z'].append(z)\n",
    "taskA_df = pd.DataFrame(transfer_data)"
   ]
  },
  {
   "cell_type": "code",
   "execution_count": 30,
   "metadata": {},
   "outputs": [
    {
     "data": {
      "image/png": "[encoded data removed]",
      "text/plain": [
       "<Figure size 432x288 with 1 Axes>"
      ]
     },
     "metadata": {
      "needs_background": "light"
     },
     "output_type": "display_data"
    }
   ],
   "source": [
    "colors = cm.get_cmap('Oranges')\n",
    "color_steps = np.linspace(0.4, 0.8, 5, endpoint=True)\n",
    "plotA(taskA_df, 'performance', 38, smooth_line=True, smooth_n=3,\n",
    "      fnames=['No Aux. Task', '1', '10', '2', '4', '8'],\n",
    "      smooth_plot=False,\n",
    "      figname='decodersize_late', legend_title='Learning',\n",
    "      colors = ['C0'] + [colors(i) for i in color_steps]\n",
    "     )"
   ]
  },
  {
   "cell_type": "code",
   "execution_count": null,
   "metadata": {},
   "outputs": [],
   "source": []
  }
 ],
 "metadata": {
  "kernelspec": {
   "display_name": "Python 3",
   "language": "python",
   "name": "python3"
  },
  "language_info": {
   "codemirror_mode": {
    "name": "ipython",
    "version": 3
   },
   "file_extension": ".py",
   "mimetype": "text/x-python",
   "name": "python",
   "nbconvert_exporter": "python",
   "pygments_lexer": "ipython3",
   "version": "3.7.3"
  }
 },
 "nbformat": 4,
 "nbformat_minor": 5
}
