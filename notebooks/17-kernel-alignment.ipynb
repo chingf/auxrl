{
 "cells": [
  {
   "cell_type": "code",
   "execution_count": 16,
   "metadata": {},
   "outputs": [],
   "source": [
    "import sys\n",
    "import logging\n",
    "import pickle\n",
    "import yaml\n",
    "import matplotlib.cm as cm\n",
    "from joblib import Parallel, delayed\n",
    "import numpy as np\n",
    "import matplotlib.pyplot as plt\n",
    "from sklearn.decomposition import PCA\n",
    "import os\n",
    "import time\n",
    "import seaborn as sns\n",
    "import pandas as pd\n",
    "from configs import engram_dir"
   ]
  },
  {
   "cell_type": "markdown",
   "metadata": {},
   "source": [
    "# Parameters"
   ]
  },
  {
   "cell_type": "code",
   "execution_count": 62,
   "metadata": {},
   "outputs": [],
   "source": [
    "episodes = np.arange(100, 700, 100)"
   ]
  },
  {
   "cell_type": "code",
   "execution_count": 18,
   "metadata": {},
   "outputs": [],
   "source": [
    "internal_dim = 10\n",
    "exp_name = 'gridworld_discount0.9_eps1.0_dm_dim10_shuffobs'\n",
    "network_yaml = 'dm'\n",
    "models = ['mf0', 'g0_-2_entro-1', 'entro-1']"
   ]
  },
  {
   "cell_type": "code",
   "execution_count": 19,
   "metadata": {},
   "outputs": [],
   "source": [
    "# internal_dim = 10\n",
    "# generic_exp_name = 'iqn_shuffobs'\n",
    "# network_yaml = 'iqn'\n",
    "# models = ['mf1']"
   ]
  },
  {
   "cell_type": "code",
   "execution_count": 20,
   "metadata": {},
   "outputs": [],
   "source": [
    "nnets_dir = f'{engram_dir}nnets/{exp_name}/'\n",
    "pickle_dir = f'{engram_dir}pickles/{exp_name}/'\n",
    "analysis_dir = f'{engram_dir}analysis/{exp_name}/'"
   ]
  },
  {
   "cell_type": "markdown",
   "metadata": {},
   "source": [
    "# Helper functions"
   ]
  },
  {
   "cell_type": "code",
   "execution_count": 56,
   "metadata": {},
   "outputs": [],
   "source": [
    "def manhattan_dist(loc1, loc2):\n",
    "    xdist = np.abs(loc1[0]-loc2[0])\n",
    "    ydist = np.abs(loc1[1]-loc2[1])\n",
    "    return xdist + ydist\n",
    "\n",
    "def make_input_cov_matrix(xys, gamma=0.5):\n",
    "    n_samples = xys.shape[0]\n",
    "    cov_matrix = np.zeros((n_samples, n_samples))\n",
    "    np.fill_diagonal(cov_matrix, 1)\n",
    "    for i in range(n_samples):\n",
    "        for j in range(0, i):\n",
    "            dist = manhattan_dist(xys[i], xys[j])\n",
    "            cov = gamma**dist\n",
    "            cov_matrix[i, j] = cov_matrix[j, i] = cov\n",
    "    return cov_matrix\n",
    "\n",
    "def get_kernel_alignment(K_A, K_B):\n",
    "    numerator = np.trace(K_A @ K_B)\n",
    "    denominator = np.sqrt(np.trace(K_A @ K_A) * np.trace(K_B @ K_B))\n",
    "    alignment = numerator/denominator\n",
    "    return alignment"
   ]
  },
  {
   "cell_type": "markdown",
   "metadata": {},
   "source": [
    "# Load analysis"
   ]
  },
  {
   "cell_type": "code",
   "execution_count": 21,
   "metadata": {},
   "outputs": [],
   "source": [
    "recalculate = True"
   ]
  },
  {
   "cell_type": "code",
   "execution_count": 22,
   "metadata": {},
   "outputs": [],
   "source": [
    "if 'iqn' in generic_exp_name:\n",
    "    pfile = 'pickles/kernel_alignment_iqn.p'\n",
    "else:\n",
    "    pfile = 'pickles/kernel_alignment.p'"
   ]
  },
  {
   "cell_type": "code",
   "execution_count": 84,
   "metadata": {},
   "outputs": [],
   "source": [
    "if recalculate:\n",
    "    # Load all dataframes\n",
    "    dfs = []\n",
    "    for episode in episodes:\n",
    "        with open(f'{analysis_dir}representation_df_ep{episode}.p', 'rb') as f:\n",
    "            repr_df = pickle.load(f)\n",
    "        repr_df['episode'] = episode\n",
    "        dfs.append(repr_df)\n",
    "    dfs = pd.concat(dfs)\n",
    "    results = {\n",
    "        'kernel alignment': [],\n",
    "        'model': [],\n",
    "        'episode': []}\n",
    "\n",
    "    # Make input covariance matrix\n",
    "    xys = []\n",
    "    for x in np.unique(dfs['x']):\n",
    "        for y in np.unique(dfs['y']):\n",
    "            xys.append([x,y])\n",
    "    xys = np.array(xys)\n",
    "    K_inputs = make_input_cov_matrix(xys, gamma=0.7)\n",
    "\n",
    "    # Get kernel alignment for each model seed and episode\n",
    "    for model in models:\n",
    "        model_df = dfs[dfs['model']==model]\n",
    "        iterations = np.unique(model_df['iteration'])\n",
    "        for i in iterations:\n",
    "            iter_df = model_df[model_df['iteration']==i]\n",
    "            for episode in episodes:\n",
    "                _df = iter_df[iter_df['episode']==episode]\n",
    "                latents = []\n",
    "                for xy in xys:\n",
    "                    __df = _df[(_df['x']==xy[0])&(_df['y']==xy[1])]\n",
    "                    if len(__df.index) != 1: continue\n",
    "                    latents.append(np.array(__df.iloc[0]['latents']))\n",
    "                latents = np.array(latents) # (samples, dim)\n",
    "                latents -= latents.mean(0)[None,:]\n",
    "                K_latents = latents @ latents.T\n",
    "                val = get_kernel_alignment(K_latents, K_inputs)\n",
    "                results['kernel alignment'].append(val)\n",
    "                results['model'].append(model)\n",
    "                results['episode'].append(episode)\n",
    "#     with open(pfile, 'wb') as f:\n",
    "#         pickle.dump(results, f)\n",
    "else:\n",
    "    with open(pfile, 'rb') as f:\n",
    "        results = pickle.load(f)"
   ]
  },
  {
   "cell_type": "markdown",
   "metadata": {},
   "source": [
    "# Main plot"
   ]
  },
  {
   "cell_type": "code",
   "execution_count": 85,
   "metadata": {},
   "outputs": [],
   "source": [
    "df = pd.DataFrame(results)"
   ]
  },
  {
   "cell_type": "code",
   "execution_count": 86,
   "metadata": {},
   "outputs": [
    {
     "data": {
      "image/png": "[encoded data removed]",
      "text/plain": [
       "<Figure size 150x150 with 1 Axes>"
      ]
     },
     "metadata": {},
     "output_type": "display_data"
    }
   ],
   "source": [
    "fig, ax = plt.subplots(figsize=(1.5, 1.5), constrained_layout=True)\n",
    "sns.lineplot(y='kernel alignment', x='episode',\n",
    "    hue_order=models,\n",
    "    hue='model',\n",
    "    linewidth=1, data=df, legend=None)\n",
    "plt.ylim(0,1)\n",
    "plt.xlabel('Training Steps')\n",
    "#plt.ylabel('Inner Product')\n",
    "#plt.savefig('1g.png', dpi=300, transparent=True)\n",
    "plt.show()"
   ]
  },
  {
   "cell_type": "code",
   "execution_count": null,
   "metadata": {},
   "outputs": [],
   "source": []
  }
 ],
 "metadata": {
  "kernelspec": {
   "display_name": "Python [conda env:.conda-auxrl]",
   "language": "python",
   "name": "conda-env-.conda-auxrl-py"
  },
  "language_info": {
   "codemirror_mode": {
    "name": "ipython",
    "version": 3
   },
   "file_extension": ".py",
   "mimetype": "text/x-python",
   "name": "python",
   "nbconvert_exporter": "python",
   "pygments_lexer": "ipython3",
   "version": "3.8.13"
  }
 },
 "nbformat": 4,
 "nbformat_minor": 5
}
