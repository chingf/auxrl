{
 "cells": [
  {
   "cell_type": "code",
   "execution_count": 1,
   "metadata": {},
   "outputs": [],
   "source": [
    "import numpy as np\n",
    "import os\n",
    "import subprocess\n",
    "from subprocess import Popen, PIPE\n",
    "import sys\n",
    "import torch"
   ]
  },
  {
   "cell_type": "code",
   "execution_count": 2,
   "metadata": {},
   "outputs": [
    {
     "name": "stdout",
     "output_type": "stream",
     "text": [
      "cuda\n"
     ]
    },
    {
     "data": {
      "text/plain": [
       "tensor([0., 0.], device='cuda:0')"
      ]
     },
     "execution_count": 2,
     "metadata": {},
     "output_type": "execute_result"
    }
   ],
   "source": [
    "device = 'cuda' if torch.cuda.is_available() else 'cpu'\n",
    "print(device)\n",
    "torch.zeros(2).to(device)"
   ]
  },
  {
   "cell_type": "code",
   "execution_count": 96,
   "metadata": {},
   "outputs": [
    {
     "name": "stdout",
     "output_type": "stream",
     "text": [
      "Mon Jan 30 19:00:31 2023       \n",
      "+-----------------------------------------------------------------------------+\n",
      "| NVIDIA-SMI 525.60.13    Driver Version: 525.60.13    CUDA Version: 12.0     |\n",
      "|-------------------------------+----------------------+----------------------+\n",
      "| GPU  Name        Persistence-M| Bus-Id        Disp.A | Volatile Uncorr. ECC |\n",
      "| Fan  Temp  Perf  Pwr:Usage/Cap|         Memory-Usage | GPU-Util  Compute M. |\n",
      "|                               |                      |               MIG M. |\n",
      "|===============================+======================+======================|\n",
      "|   0  NVIDIA GeForce ...  On   | 00000000:04:00.0 Off |                  N/A |\n",
      "|  0%   46C    P2    80W / 250W |   3180MiB / 11264MiB |     74%      Default |\n",
      "|                               |                      |                  N/A |\n",
      "+-------------------------------+----------------------+----------------------+\n",
      "|   1  NVIDIA GeForce ...  On   | 00000000:05:00.0 Off |                  N/A |\n",
      "|  0%   48C    P2    84W / 250W |   3224MiB / 11264MiB |     86%      Default |\n",
      "|                               |                      |                  N/A |\n",
      "+-------------------------------+----------------------+----------------------+\n",
      "|   2  NVIDIA GeForce ...  On   | 00000000:08:00.0 Off |                  N/A |\n",
      "|  0%   39C    P2    85W / 250W |   3224MiB / 11264MiB |     83%      Default |\n",
      "|                               |                      |                  N/A |\n",
      "+-------------------------------+----------------------+----------------------+\n",
      "|   3  NVIDIA GeForce ...  On   | 00000000:09:00.0 Off |                  N/A |\n",
      "|  0%   38C    P2    80W / 250W |   2580MiB / 11264MiB |     59%      Default |\n",
      "|                               |                      |                  N/A |\n",
      "+-------------------------------+----------------------+----------------------+\n",
      "                                                                               \n",
      "+-----------------------------------------------------------------------------+\n",
      "| Processes:                                                                  |\n",
      "|  GPU   GI   CI        PID   Type   Process name                  GPU Memory |\n",
      "|        ID   ID                                                   Usage      |\n",
      "|=============================================================================|\n",
      "|    0   N/A  N/A     33806      C   ...nda/envs/auxrl/bin/python      600MiB |\n",
      "|    0   N/A  N/A     35188      C   python                            644MiB |\n",
      "|    0   N/A  N/A     35192      C   python                            644MiB |\n",
      "|    0   N/A  N/A     35196      C   python                            644MiB |\n",
      "|    0   N/A  N/A     35200      C   python                            644MiB |\n",
      "|    1   N/A  N/A     35189      C   python                            644MiB |\n",
      "|    1   N/A  N/A     35193      C   python                            644MiB |\n",
      "|    1   N/A  N/A     35197      C   python                            644MiB |\n",
      "|    1   N/A  N/A     35201      C   python                            644MiB |\n",
      "|    1   N/A  N/A     35204      C   python                            644MiB |\n",
      "|    2   N/A  N/A     35190      C   python                            644MiB |\n",
      "|    2   N/A  N/A     35194      C   python                            644MiB |\n",
      "|    2   N/A  N/A     35198      C   python                            644MiB |\n",
      "|    2   N/A  N/A     35202      C   python                            644MiB |\n",
      "|    2   N/A  N/A     35205      C   python                            644MiB |\n",
      "|    3   N/A  N/A     35191      C   python                            644MiB |\n",
      "|    3   N/A  N/A     35195      C   python                            644MiB |\n",
      "|    3   N/A  N/A     35199      C   python                            644MiB |\n",
      "|    3   N/A  N/A     35203      C   python                            644MiB |\n",
      "+-----------------------------------------------------------------------------+\n"
     ]
    }
   ],
   "source": [
    "!nvidia-smi"
   ]
  },
  {
   "cell_type": "code",
   "execution_count": 64,
   "metadata": {},
   "outputs": [],
   "source": [
    "import psutil"
   ]
  },
  {
   "cell_type": "code",
   "execution_count": 6,
   "metadata": {},
   "outputs": [
    {
     "name": "stdout",
     "output_type": "stream",
     "text": [
      "0,1,2,3\n",
      "4\n"
     ]
    }
   ],
   "source": [
    "my_env = os.environ\n",
    "NUM_TOTAL_GPUS = int((len(my_env[\"CUDA_VISIBLE_DEVICES\"]) + 1)/2)\n",
    "print(my_env[\"CUDA_VISIBLE_DEVICES\"])\n",
    "print(NUM_TOTAL_GPUS)"
   ]
  },
  {
   "cell_type": "code",
   "execution_count": 65,
   "metadata": {},
   "outputs": [
    {
     "name": "stdout",
     "output_type": "stream",
     "text": [
      "The CPU usage is:  21.5\n"
     ]
    }
   ],
   "source": [
    "# Percent usage over 4 seconds\n",
    "print('The CPU usage is: ', psutil.cpu_percent(4))"
   ]
  },
  {
   "cell_type": "code",
   "execution_count": 66,
   "metadata": {},
   "outputs": [
    {
     "name": "stdout",
     "output_type": "stream",
     "text": [
      "RAM memory % used: 25.8\n",
      "RAM Used (GB): 33.914863616\n"
     ]
    }
   ],
   "source": [
    "# Getting % usage of virtual_memory ( 3rd field)\n",
    "print('RAM memory % used:', psutil.virtual_memory()[2])\n",
    "# Getting usage of virtual_memory in GB ( 4th field)\n",
    "print('RAM Used (GB):', psutil.virtual_memory()[3]/1000000000)"
   ]
  },
  {
   "cell_type": "code",
   "execution_count": 21,
   "metadata": {},
   "outputs": [],
   "source": [
    "NUM_TOTAL_GPUS = 4"
   ]
  },
  {
   "cell_type": "code",
   "execution_count": 5,
   "metadata": {},
   "outputs": [
    {
     "data": {
      "text/plain": [
       "environ{'SLURM_NODELIST': 'ax03',\n",
       "        'SLURM_CHECKPOINT_IMAGE_DIR': '/var/slurm/checkpoint',\n",
       "        'MANPATH': '/share/lmod/lmod/share/man:',\n",
       "        'SLURM_JOB_NAME': 'jupyter',\n",
       "        'XDG_SESSION_ID': '301547',\n",
       "        'HOSTNAME': 'ax03',\n",
       "        'SLURM_TOPOLOGY_ADDR': 'ax03',\n",
       "        'SLURMD_NODENAME': 'ax03',\n",
       "        'SLURM_PRIO_PROCESS': '0',\n",
       "        'SLURM_NODE_ALIASES': '(null)',\n",
       "        'SHELL': '/bin/bash',\n",
       "        'TERM': 'xterm-color',\n",
       "        '__LMOD_REF_COUNT_MODULEPATH': '/share/modulefiles:1',\n",
       "        'HISTSIZE': '1000',\n",
       "        'SLURM_JOB_QOS': 'eval',\n",
       "        'SSH_CLIENT': '10.192.138.219 55637 22',\n",
       "        'MODULEPATH_ROOT': '/share/modulefiles',\n",
       "        'SLURM_TOPOLOGY_ADDR_PATTERN': 'node',\n",
       "        'TMPDIR': '/tmp',\n",
       "        'CONDA_SHLVL': '2',\n",
       "        'LIBRARY_PATH': '/share/apps/cudnn/7.6.1.34-10.1/lib64:/share/apps/cuda/10.1.168/lib64',\n",
       "        'CONDA_PROMPT_MODIFIER': '(auxrl) ',\n",
       "        'LMOD_PKG': '/share/lmod/lmod',\n",
       "        'LMOD_VERSION': '8.1.7',\n",
       "        'SLURM_JOB_GPUS': '0,1,2,3',\n",
       "        'SSH_TTY': '/dev/pts/16',\n",
       "        '__LMOD_REF_COUNT_LOADEDMODULES': 'anaconda3-2019.03:1;cuda/10.1.168:1;cudnn/7.6.1.34-10.1:1',\n",
       "        '__LMOD_REF_COUNT_CMAKE_PREFIX_PATH': '/share/apps/cudnn/7.6.1.34-10.1:1;/share/apps/cuda/10.1.168:1',\n",
       "        'NO_PROXY': 'columbia.edu',\n",
       "        'SLURM_MEM_PER_CPU': '4096',\n",
       "        'USER': 'cf2794',\n",
       "        'http_proxy': 'http://gw-srv-01.rc.zi.columbia.edu:3128',\n",
       "        'CUDA_HOME': '/share/apps/cuda/10.1.168',\n",
       "        'SLURM_NNODES': '1',\n",
       "        'LS_COLORS': 'rs=0:di=38;5;27:ln=38;5;51:mh=44;38;5;15:pi=40;38;5;11:so=38;5;13:do=38;5;5:bd=48;5;232;38;5;11:cd=48;5;232;38;5;3:or=48;5;232;38;5;9:mi=05;48;5;232;38;5;15:su=48;5;196;38;5;15:sg=48;5;11;38;5;16:ca=48;5;196;38;5;226:tw=48;5;10;38;5;16:ow=48;5;10;38;5;21:st=48;5;21;38;5;15:ex=38;5;34:*.tar=38;5;9:*.tgz=38;5;9:*.arc=38;5;9:*.arj=38;5;9:*.taz=38;5;9:*.lha=38;5;9:*.lz4=38;5;9:*.lzh=38;5;9:*.lzma=38;5;9:*.tlz=38;5;9:*.txz=38;5;9:*.tzo=38;5;9:*.t7z=38;5;9:*.zip=38;5;9:*.z=38;5;9:*.Z=38;5;9:*.dz=38;5;9:*.gz=38;5;9:*.lrz=38;5;9:*.lz=38;5;9:*.lzo=38;5;9:*.xz=38;5;9:*.bz2=38;5;9:*.bz=38;5;9:*.tbz=38;5;9:*.tbz2=38;5;9:*.tz=38;5;9:*.deb=38;5;9:*.rpm=38;5;9:*.jar=38;5;9:*.war=38;5;9:*.ear=38;5;9:*.sar=38;5;9:*.rar=38;5;9:*.alz=38;5;9:*.ace=38;5;9:*.zoo=38;5;9:*.cpio=38;5;9:*.7z=38;5;9:*.rz=38;5;9:*.cab=38;5;9:*.jpg=38;5;13:*.jpeg=38;5;13:*.gif=38;5;13:*.bmp=38;5;13:*.pbm=38;5;13:*.pgm=38;5;13:*.ppm=38;5;13:*.tga=38;5;13:*.xbm=38;5;13:*.xpm=38;5;13:*.tif=38;5;13:*.tiff=38;5;13:*.png=38;5;13:*.svg=38;5;13:*.svgz=38;5;13:*.mng=38;5;13:*.pcx=38;5;13:*.mov=38;5;13:*.mpg=38;5;13:*.mpeg=38;5;13:*.m2v=38;5;13:*.mkv=38;5;13:*.webm=38;5;13:*.ogm=38;5;13:*.mp4=38;5;13:*.m4v=38;5;13:*.mp4v=38;5;13:*.vob=38;5;13:*.qt=38;5;13:*.nuv=38;5;13:*.wmv=38;5;13:*.asf=38;5;13:*.rm=38;5;13:*.rmvb=38;5;13:*.flc=38;5;13:*.avi=38;5;13:*.fli=38;5;13:*.flv=38;5;13:*.gl=38;5;13:*.dl=38;5;13:*.xcf=38;5;13:*.xwd=38;5;13:*.yuv=38;5;13:*.cgm=38;5;13:*.emf=38;5;13:*.axv=38;5;13:*.anx=38;5;13:*.ogv=38;5;13:*.ogx=38;5;13:*.aac=38;5;45:*.au=38;5;45:*.flac=38;5;45:*.mid=38;5;45:*.midi=38;5;45:*.mka=38;5;45:*.mp3=38;5;45:*.mpc=38;5;45:*.ogg=38;5;45:*.ra=38;5;45:*.wav=38;5;45:*.axa=38;5;45:*.oga=38;5;45:*.spx=38;5;45:*.xspf=38;5;45:',\n",
       "        'SBATCH_PARTITION': 'ctn,burst',\n",
       "        'LMOD_sys': 'Linux',\n",
       "        'LD_LIBRARY_PATH': '/share/apps/cudnn/7.6.1.34-10.1/lib64:/share/apps/cuda/10.1.168/lib64',\n",
       "        'CONDA_EXE': '/share/apps/anaconda3-2019.03/bin/conda',\n",
       "        'CPATH': '/share/apps/cudnn/7.6.1.34-10.1/include:/share/apps/cuda/10.1.168/include',\n",
       "        'SLURM_JOBID': '537034',\n",
       "        '__LMOD_REF_COUNT__LMFILES_': '/share/modulefiles/anaconda3-2019.03.lua:1;/share/modulefiles/cuda/10.1.168:1;/share/modulefiles/cudnn/7.6.1.34-10.1:1',\n",
       "        'JPY_PARENT_PID': '55508',\n",
       "        'JUPYTER_PATH': '/share/apps/anaconda3-2019.03/bin/jupyter-notebook',\n",
       "        '_CE_CONDA': '',\n",
       "        'CONDA_PREFIX_1': '/share/apps/anaconda3-2019.03',\n",
       "        'PATH': '/share/apps/cuda/10.1.168/bin:/home/cf2794/.conda/envs/auxrl/bin:/usr/local/bin:/usr/bin:/usr/local/sbin:/usr/sbin:/home/cf2794/.local/bin:/home/cf2794/bin',\n",
       "        'MAIL': '/var/spool/mail/cf2794',\n",
       "        '_ModuleTable001_': 'X01vZHVsZVRhYmxlXz17WyJNVHZlcnNpb24iXT0zLFsiY19yZWJ1aWxkVGltZSJdPWZhbHNlLFsiY19zaG9ydFRpbWUiXT1mYWxzZSxkZXB0aFQ9e30sZmFtaWx5PXt9LG1UPXtbImFuYWNvbmRhMy0yMDE5LjAzIl09e1siZm4iXT0iL3NoYXJlL21vZHVsZWZpbGVzL2FuYWNvbmRhMy0yMDE5LjAzLmx1YSIsWyJmdWxsTmFtZSJdPSJhbmFjb25kYTMtMjAxOS4wMyIsWyJsb2FkT3JkZXIiXT0xLHByb3BUPXt9LFsic3RhY2tEZXB0aCJdPTAsWyJzdGF0dXMiXT0iYWN0aXZlIixbInVzZXJOYW1lIl09ImFuYWNvbmRhMy0yMDE5LjAzIix9LGN1ZGE9e1siZm4iXT0iL3NoYXJlL21vZHVsZWZpbGVzL2N1ZGEvMTAuMS4xNjgiLFsiZnVsbE5hbWUiXT0iY3VkYS8xMC4xLjE2OCIsWyJs',\n",
       "        'SLURM_TASKS_PER_NODE': '1',\n",
       "        'SLURM_PARTITION': 'ctn,burst',\n",
       "        'SLURM_WORKING_CLUSTER': 'axon:slurm:6817:8448',\n",
       "        'SLURM_CPUS_PER_TASK': '12',\n",
       "        'SLURM_JOB_ID': '537034',\n",
       "        'CONDA_PREFIX': '/home/cf2794/.conda/envs/auxrl',\n",
       "        'PWD': '/home/cf2794/Code/deer/examples/test_CRAR',\n",
       "        'SLURM_JOB_USER': 'cf2794',\n",
       "        '_LMFILES_': '/share/modulefiles/anaconda3-2019.03.lua:/share/modulefiles/cuda/10.1.168:/share/modulefiles/cudnn/7.6.1.34-10.1',\n",
       "        'CUDA_VISIBLE_DEVICES': '0,1,2,3',\n",
       "        'LANG': 'en_US.UTF-8',\n",
       "        'MODULEPATH': '/share/modulefiles',\n",
       "        'LOADEDMODULES': 'anaconda3-2019.03:cuda/10.1.168:cudnn/7.6.1.34-10.1',\n",
       "        '_ModuleTable_Sz_': '2',\n",
       "        'SLURM_JOB_UID': '413748551',\n",
       "        'SLURM_NODEID': '0',\n",
       "        'SLURM_SUBMIT_DIR': '/share/ctn/users/cf2794/Code/deer/examples/test_CRAR',\n",
       "        'LMOD_CMD': '/share/lmod/lmod/libexec/lmod',\n",
       "        'SLURM_TASK_PID': '55483',\n",
       "        'https_proxy': 'http://gw-srv-01.rc.zi.columbia.edu:3128',\n",
       "        'HTTPS_PROXY': 'http://gw-srv-01.rc.zi.columbia.edu:3128',\n",
       "        'SLURM_CPUS_ON_NODE': '12',\n",
       "        'KRB5CCNAME': 'FILE:/srv/krb5/krb5cc_413748551',\n",
       "        'HISTCONTROL': 'ignoredups',\n",
       "        '_CE_M': '',\n",
       "        'ENVIRONMENT': 'BATCH',\n",
       "        'SLURM_PROCID': '0',\n",
       "        'SLURM_JOB_NODELIST': 'ax03',\n",
       "        'HOME': '/home/cf2794',\n",
       "        'SHLVL': '3',\n",
       "        'SJUPYTER_TMPFILE': '/home/cf2794/.sjupyter/tmp.VAsDTOeGFs',\n",
       "        '__LMOD_REF_COUNT_PATH': '/share/apps/cuda/10.1.168/bin:1;/share/apps/anaconda3-2019.03/bin:2;/usr/local/bin:1;/usr/bin:1;/usr/local/sbin:1;/usr/sbin:1;/home/cf2794/.local/bin:1;/home/cf2794/bin:1',\n",
       "        'SLURM_LOCALID': '0',\n",
       "        '__LMOD_REF_COUNT_CPATH': '/share/apps/cudnn/7.6.1.34-10.1/include:1;/share/apps/cuda/10.1.168/include:1',\n",
       "        'no_proxy': 'columbia.edu',\n",
       "        '_ModuleTable002_': 'b2FkT3JkZXIiXT0yLHByb3BUPXt9LFsic3RhY2tEZXB0aCJdPTAsWyJzdGF0dXMiXT0iYWN0aXZlIixbInVzZXJOYW1lIl09ImN1ZGEvMTAuMS4xNjgiLH0sY3Vkbm49e1siZm4iXT0iL3NoYXJlL21vZHVsZWZpbGVzL2N1ZG5uLzcuNi4xLjM0LTEwLjEiLFsiZnVsbE5hbWUiXT0iY3Vkbm4vNy42LjEuMzQtMTAuMSIsWyJsb2FkT3JkZXIiXT0zLHByb3BUPXt9LFsic3RhY2tEZXB0aCJdPTAsWyJzdGF0dXMiXT0iYWN0aXZlIixbInVzZXJOYW1lIl09ImN1ZG5uLzcuNi4xLjM0LTEwLjEiLH0sfSxtcGF0aEE9eyIvc2hhcmUvbW9kdWxlZmlsZXMiLH0sWyJzeXN0ZW1CYXNlTVBBVEgiXT0iL3NoYXJlL21vZHVsZWZpbGVzIix9',\n",
       "        'SLURM_CLUSTER_NAME': 'axon',\n",
       "        'SLURM_JOB_CPUS_PER_NODE': '12',\n",
       "        'SLURM_JOB_GID': '413600513',\n",
       "        'HTTP_PROXY': 'http://gw-srv-01.rc.zi.columbia.edu:3128',\n",
       "        'SLURM_SUBMIT_HOST': 'axon.rc.zi.columbia.edu',\n",
       "        'SLURM_GTIDS': '0',\n",
       "        'BASH_ENV': '/share/lmod/lmod/init/bash',\n",
       "        'SLURM_JOB_PARTITION': 'ctn',\n",
       "        'LOGNAME': 'cf2794',\n",
       "        'CONDA_PYTHON_EXE': '/share/apps/anaconda3-2019.03/bin/python',\n",
       "        'SSH_CONNECTION': '10.192.138.219 55637 10.198.30.29 22',\n",
       "        'SLURM_JOB_ACCOUNT': 'ctn',\n",
       "        'GPU_DEVICE_ORDINAL': '0,1,2,3',\n",
       "        'MODULESHOME': '/share/lmod/lmod',\n",
       "        '__LMOD_REF_COUNT_LIBRARY_PATH': '/share/apps/cudnn/7.6.1.34-10.1/lib64:1;/share/apps/cuda/10.1.168/lib64:1',\n",
       "        'SLURM_JOB_NUM_NODES': '1',\n",
       "        'LESSOPEN': '||/usr/bin/lesspipe.sh %s',\n",
       "        'LMOD_SETTARG_FULL_SUPPORT': 'no',\n",
       "        'CONDA_DEFAULT_ENV': 'auxrl',\n",
       "        '__LMOD_REF_COUNT_LD_LIBRARY_PATH': '/share/apps/cudnn/7.6.1.34-10.1/lib64:1;/share/apps/cuda/10.1.168/lib64:1',\n",
       "        'SJUPYTER_USER_DIR': '/home/cf2794/.sjupyter',\n",
       "        'XDG_RUNTIME_DIR': '',\n",
       "        'CMAKE_PREFIX_PATH': '/share/apps/cudnn/7.6.1.34-10.1:/share/apps/cuda/10.1.168',\n",
       "        'CURRENTDIR': '/home/cf2794/Code/deer/examples/test_CRAR',\n",
       "        'LMOD_DIR': '/share/lmod/lmod/libexec',\n",
       "        'BASH_FUNC_module()': '() {  eval $($LMOD_CMD bash \"$@\") && eval $(${LMOD_SETTARG_CMD:-:} -s sh)\\n}',\n",
       "        'BASH_FUNC_ml()': '() {  eval $($LMOD_DIR/ml_cmd \"$@\")\\n}',\n",
       "        'PYDEVD_USE_FRAME_EVAL': 'NO',\n",
       "        'CLICOLOR': '1',\n",
       "        'PAGER': 'cat',\n",
       "        'GIT_PAGER': 'cat',\n",
       "        'MPLBACKEND': 'module://matplotlib_inline.backend_inline'}"
      ]
     },
     "execution_count": 5,
     "metadata": {},
     "output_type": "execute_result"
    }
   ],
   "source": [
    "my_env"
   ]
  },
  {
   "cell_type": "code",
   "execution_count": 6,
   "metadata": {},
   "outputs": [],
   "source": [
    "engram_dir = '/mnt/smb/locker/aronov-locker/Ching/rl/'"
   ]
  },
  {
   "cell_type": "code",
   "execution_count": 7,
   "metadata": {},
   "outputs": [],
   "source": [
    "count = 0\n",
    "processes = []"
   ]
  },
  {
   "cell_type": "markdown",
   "metadata": {},
   "source": [
    "# First batch of jobs"
   ]
  },
  {
   "cell_type": "code",
   "execution_count": 8,
   "metadata": {},
   "outputs": [],
   "source": [
    "# Run foraging for d = 16, z = 4\n",
    "args = []\n",
    "d = 16\n",
    "z = 4\n",
    "for e in [10, 16, 32, 64]:\n",
    "    netfile = f'simplest_e{e}d{16}'\n",
    "    pickle_path = f'{engram_dir}pickles/foraging4x4_{netfile}_dim{z}/results_0.p'\n",
    "    if os.path.exists(pickle_path):\n",
    "        continue\n",
    "    args.append([\"python\", 'bash_foraging_script.py', str(0), str(1), netfile, str(z)])"
   ]
  },
  {
   "cell_type": "code",
   "execution_count": 10,
   "metadata": {},
   "outputs": [],
   "source": [
    "for arg in args:\n",
    "    my_env = os.environ\n",
    "    my_env[\"CUDA_VISIBLE_DEVICES\"] = str(count % NUM_TOTAL_GPUS)\n",
    "    my_env[\"PYTHONUNBUFFERED\"] = \"1\"\n",
    "    p = Popen(arg, stdout=PIPE, stderr=PIPE, env=my_env) \n",
    "    count += 1\n",
    "    processes.append(p)\n",
    "#my_env[\"PYTHONNOUSERSITE\"]=str(True) #sometimes I have to set this to true to force python to only use packages from the conda environment and not the global user packages\n",
    "# p = Popen([\"/home/jwl2182/.conda/envs/a40/bin/1python3\", \"-s\", program_filename, \"--trial\", str(trial), \"--some_other_argument\", \"value_of_argument\"],\n",
    "#         stdout=PIPE, stderr=PIPE, env=my_env) \n"
   ]
  },
  {
   "cell_type": "markdown",
   "metadata": {},
   "source": [
    "# Second batch of jobs"
   ]
  },
  {
   "cell_type": "code",
   "execution_count": 15,
   "metadata": {},
   "outputs": [],
   "source": [
    "# Run foraging for d = 16, z = 5\n",
    "args = []\n",
    "d = 16\n",
    "z = 5\n",
    "for e in [10, 16, 32, 64]:\n",
    "    netfile = f'simplest_e{e}d{16}'\n",
    "    pickle_path = f'{engram_dir}pickles/foraging4x4_{netfile}_dim{z}/results_0.p'\n",
    "    if os.path.exists(pickle_path):\n",
    "        continue\n",
    "    args.append([\"python\", 'bash_foraging_script.py', str(0), str(1), netfile, str(z)])"
   ]
  },
  {
   "cell_type": "code",
   "execution_count": 17,
   "metadata": {},
   "outputs": [],
   "source": [
    "for arg in args:\n",
    "    my_env = os.environ\n",
    "    my_env[\"CUDA_VISIBLE_DEVICES\"] = str(count % NUM_TOTAL_GPUS)\n",
    "    my_env[\"PYTHONUNBUFFERED\"] = \"1\"\n",
    "    p = Popen(arg, stdout=PIPE, stderr=PIPE, env=my_env) \n",
    "    count += 1\n",
    "    processes.append(p)\n",
    "#my_env[\"PYTHONNOUSERSITE\"]=str(True) #sometimes I have to set this to true to force python to only use packages from the conda environment and not the global user packages\n",
    "# p = Popen([\"/home/jwl2182/.conda/envs/a40/bin/1python3\", \"-s\", program_filename, \"--trial\", str(trial), \"--some_other_argument\", \"value_of_argument\"],\n",
    "#         stdout=PIPE, stderr=PIPE, env=my_env) \n"
   ]
  },
  {
   "cell_type": "markdown",
   "metadata": {},
   "source": [
    "# Third batch of jobs"
   ]
  },
  {
   "cell_type": "code",
   "execution_count": 24,
   "metadata": {},
   "outputs": [],
   "source": [
    "# Run foraging for d = 16, z = 5\n",
    "args = []\n",
    "d = 16\n",
    "z = 6\n",
    "for e in [10, 16, 32, 64]:\n",
    "    netfile = f'simplest_e{e}d{16}'\n",
    "    pickle_path = f'{engram_dir}pickles/foraging4x4_{netfile}_dim{z}/results_0.p'\n",
    "    if os.path.exists(pickle_path):\n",
    "        continue\n",
    "    args.append([\"python\", 'bash_foraging_script.py', str(0), str(1), netfile, str(z)])"
   ]
  },
  {
   "cell_type": "code",
   "execution_count": 26,
   "metadata": {},
   "outputs": [],
   "source": [
    "for arg in args:\n",
    "    my_env = os.environ\n",
    "    my_env[\"CUDA_VISIBLE_DEVICES\"] = str((count % 3) + 1)\n",
    "    my_env[\"PYTHONUNBUFFERED\"] = \"1\"\n",
    "    p = Popen(arg, stdout=PIPE, stderr=PIPE, env=my_env) \n",
    "    count += 1\n",
    "    processes.append(p)\n",
    "#my_env[\"PYTHONNOUSERSITE\"]=str(True) #sometimes I have to set this to true to force python to only use packages from the conda environment and not the global user packages\n",
    "# p = Popen([\"/home/jwl2182/.conda/envs/a40/bin/1python3\", \"-s\", program_filename, \"--trial\", str(trial), \"--some_other_argument\", \"value_of_argument\"],\n",
    "#         stdout=PIPE, stderr=PIPE, env=my_env) \n"
   ]
  },
  {
   "cell_type": "markdown",
   "metadata": {},
   "source": [
    "# Monitoring processes"
   ]
  },
  {
   "cell_type": "code",
   "execution_count": null,
   "metadata": {},
   "outputs": [],
   "source": [
    "for p in processes:\n",
    "    out = p.stdout.read()\n",
    "    if out == '' and process.poll() != None:\n",
    "        pass\n",
    "    if out != '':\n",
    "        sys.stdout.write(str(out))\n",
    "        sys.stdout.flush()"
   ]
  },
  {
   "cell_type": "code",
   "execution_count": null,
   "metadata": {},
   "outputs": [],
   "source": [
    "for p in processes:\n",
    "    p.wait()\n",
    "    output, error = p.communicate()\n",
    "    if p.returncode != 0: \n",
    "       print(\"failed %d %s %s\" % (p.returncode, output, error))"
   ]
  },
  {
   "cell_type": "raw",
   "metadata": {},
   "source": []
  }
 ],
 "metadata": {
  "kernelspec": {
   "display_name": "Python [conda env:.conda-auxrl]",
   "language": "python",
   "name": "conda-env-.conda-auxrl-py"
  },
  "language_info": {
   "codemirror_mode": {
    "name": "ipython",
    "version": 3
   },
   "file_extension": ".py",
   "mimetype": "text/x-python",
   "name": "python",
   "nbconvert_exporter": "python",
   "pygments_lexer": "ipython3",
   "version": "3.8.13"
  }
 },
 "nbformat": 4,
 "nbformat_minor": 2
}
