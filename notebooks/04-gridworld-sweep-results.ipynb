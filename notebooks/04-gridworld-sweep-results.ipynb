{
 "cells": [
  {
   "cell_type": "code",
   "execution_count": 1,
   "id": "516b90a2",
   "metadata": {},
   "outputs": [],
   "source": [
    "import pickle\n",
    "import numpy as np\n",
    "import matplotlib.pyplot as plt\n",
    "import pandas as pd\n",
    "import seaborn as sns\n",
    "import os\n",
    "from scipy.stats import sem\n",
    "import matplotlib.cm as cm\n",
    "from configs import engram_dir"
   ]
  },
  {
   "cell_type": "markdown",
   "id": "794a2b20",
   "metadata": {},
   "source": [
    "# Helper functions"
   ]
  },
  {
   "cell_type": "code",
   "execution_count": 2,
   "id": "d536b54a",
   "metadata": {},
   "outputs": [],
   "source": [
    "from sklearn.metrics import auc"
   ]
  },
  {
   "cell_type": "code",
   "execution_count": 3,
   "id": "6f54f0b7",
   "metadata": {},
   "outputs": [],
   "source": [
    "def plot(\n",
    "    df, plot_key, plot_ep, figsize=(6.4*0.75, 4.8*0.75),\n",
    "    fnames=None, figname=None, labels=None,\n",
    "    smooth_plot=True, smooth_plot_n=2, colors=None,\n",
    "    legend_title=None, ylim=None, plot_title=None, show_legend=True,\n",
    "    plot_auc=False, ylabel='Avg Episode Score', xlim=None):\n",
    "    \n",
    "    fig, ax = plt.subplots(figsize=figsize, constrained_layout=True)\n",
    "    zs = np.sort(np.unique(df['z']))\n",
    "    episode = np.sort(np.unique(df['episode']))\n",
    "    if fnames is None:\n",
    "        fnames = np.unique(df['model'])\n",
    "    for fname_idx, fname in enumerate(fnames):\n",
    "        line = []\n",
    "        shading_width = []\n",
    "        shading_lower = []\n",
    "        shading_upper = []\n",
    "        for z in zs:\n",
    "            df_subset = df[(df['model']==fname) & (df['z']==z)]\n",
    "            if plot_auc:\n",
    "                aucs = []\n",
    "                for file in np.unique(df_subset['file']):\n",
    "                    df_file_subset = df_subset[df_subset['file']==file]\n",
    "                    episodes = np.array(df_file_subset['episode'])\n",
    "                    vals = np.array(df_file_subset[plot_key])\n",
    "                    aucs.append(auc(episodes, vals)/episodes.max())\n",
    "                auc_mean = np.mean(aucs)\n",
    "                auc_sem = sem(aucs)\n",
    "                line.append(auc_mean)\n",
    "                shading_width.append(auc_sem)\n",
    "            else:\n",
    "                means = []\n",
    "                sems = []\n",
    "                val_len = 0\n",
    "                for ep in episode:\n",
    "                    vals = df_subset[df_subset['episode']==ep]\n",
    "                    vals = vals[plot_key]\n",
    "                    means.append(np.mean(vals))\n",
    "                    sems.append(sem(vals))\n",
    "                    if ep == plot_ep:\n",
    "                        val_len = len(vals)\n",
    "                means = np.array(means)\n",
    "                sems = np.array(sems)\n",
    "                if z == 5:\n",
    "                    print(fname)\n",
    "                    print(f'Mean: {means[plot_ep]}, SEM: {sems[plot_ep]} for {val_len} vals')\n",
    "                line.append(means[plot_ep])\n",
    "                shading_width.append(sems[plot_ep])\n",
    "        if smooth_plot:\n",
    "            _line = smooth(zs, line, smooth_plot_n)\n",
    "            _shading_width = smooth(zs, shading_width, smooth_plot_n)\n",
    "            line = np.array(_line)\n",
    "            shading_lower = line - _shading_width\n",
    "            shading_upper = line + _shading_width\n",
    "        x_axis = zs\n",
    "        if colors is not None:\n",
    "            color = colors[fname_idx]\n",
    "        else:\n",
    "            color = None\n",
    "        if labels != None:\n",
    "            label = fname_labels[fname_idx]\n",
    "        else:\n",
    "            label = fname\n",
    "        ax.plot(x_axis, line, label=label, color=color, alpha=0.8)\n",
    "        ax.fill_between(x_axis, shading_lower, shading_upper, alpha=0.2,color=color)\n",
    "    plt.xlabel('Latent Dimensions')\n",
    "    if show_legend: plt.legend(title=legend_title)\n",
    "    if ylabel != None:\n",
    "        plt.ylabel(ylabel)\n",
    "    if ylim != None:\n",
    "        plt.ylim(ylim[0], ylim[1])\n",
    "    if xlim != None:\n",
    "        plt.xlim(xlim[0], xlim[1])\n",
    "    if plot_title != None:\n",
    "        plt.title(plot_title)\n",
    "    plt.xlabel('Latent Size')\n",
    "    if figname != None:\n",
    "        plt.savefig(figname + '.png', dpi=300, transparent=True)\n",
    "    plt.show()"
   ]
  },
  {
   "cell_type": "code",
   "execution_count": 4,
   "id": "b54be29c",
   "metadata": {},
   "outputs": [],
   "source": [
    "def smooth(xs, ys, n=3):\n",
    "    vals = np.copy(ys)\n",
    "    smoothed = np.convolve(ys, np.ones(n)/n, mode='same')\n",
    "    vals[1:-1] = smoothed[1:-1]\n",
    "    return vals"
   ]
  },
  {
   "cell_type": "code",
   "execution_count": 5,
   "id": "c0ee91dc",
   "metadata": {},
   "outputs": [],
   "source": [
    "def get_df(base, zs, net_yaml):\n",
    "    data = {\n",
    "        'valid_score': [], 'valid_steps':[], 'dims': [],\n",
    "        'episode': [], 'model': [], 'z': [], 'step': [], 'file': []}\n",
    "    for z in zs:\n",
    "        task_dir = f'{base}_{net_yaml}_dim{z}'\n",
    "        task_dir = f'{engram_dir}pickles/{task_dir}/'\n",
    "        if not os.path.exists(task_dir): continue\n",
    "        for pickle_file in os.listdir(task_dir):\n",
    "            if not pickle_file.endswith('.p'): continue\n",
    "            pickle_file = f'{task_dir}{pickle_file}'\n",
    "            with open(pickle_file, 'rb') as f:\n",
    "                results = pickle.load(f)\n",
    "            valid_score = results['valid_score']\n",
    "            valid_steps = results['valid_steps_per_ep']\n",
    "            episode = results['episode']\n",
    "            model = results['model']\n",
    "            step = results['step']\n",
    "            for i in range(len(valid_score)):\n",
    "                if valid_score[i] == None: continue\n",
    "                data['valid_score'].append(valid_score[i])\n",
    "                data['valid_steps'].append(valid_steps[i])\n",
    "                data['dims'].append(z)\n",
    "                data['episode'].append(episode[i])\n",
    "                _model = model[i].split(base+'_')[-1]\n",
    "                data['model'].append(_model)\n",
    "                data['z'].append(z)\n",
    "                data['step'].append(step[i])\n",
    "                data['file'].append(pickle_file)\n",
    "    df = pd.DataFrame(data)\n",
    "    return df"
   ]
  },
  {
   "cell_type": "markdown",
   "id": "399de27a",
   "metadata": {},
   "source": [
    "# Initial Gridworld Experiments"
   ]
  },
  {
   "cell_type": "code",
   "execution_count": 6,
   "id": "2e16b352",
   "metadata": {},
   "outputs": [],
   "source": [
    "zs = np.arange(2, 13)"
   ]
  },
  {
   "cell_type": "code",
   "execution_count": 7,
   "id": "23b9c114",
   "metadata": {},
   "outputs": [],
   "source": [
    "recalculate = False\n",
    "if recalculate:\n",
    "    task_df = get_df('new_gridworld8x8_shuffobs', zs, 'dm')\n",
    "    with open('pickles/new_gridworld8x8_shuffobs.p', 'wb') as f:\n",
    "        pickle.dump(task_df, f)\n",
    "else:\n",
    "    with open('pickles/new_gridworld8x8_shuffobs.p', 'rb') as f:\n",
    "        task_df = pickle.load(f)"
   ]
  },
  {
   "cell_type": "code",
   "execution_count": 9,
   "id": "fd42aaf5",
   "metadata": {},
   "outputs": [
    {
     "name": "stdout",
     "output_type": "stream",
     "text": [
      "mf0\n",
      "Mean: 0.7866666666666666, SEM: 0.06673559654894302 for 30 vals\n",
      "entro0\n",
      "Mean: 0.8166666666666667, SEM: 0.05007656972326521 for 30 vals\n",
      "g0_-2_entro-1\n",
      "Mean: 0.9666666666666667, SEM: 0.033333333333333326 for 30 vals\n"
     ]
    },
    {
     "data": {
      "image/png": "[encoded data removed]",
      "text/plain": [
       "<Figure size 150x150 with 1 Axes>"
      ]
     },
     "metadata": {},
     "output_type": "display_data"
    }
   ],
   "source": [
    "colors = cm.get_cmap('Oranges')\n",
    "c_steps = np.linspace(0.4, 0.8, 4, endpoint=True)\n",
    "plot(\n",
    "    task_df, 'valid_score', 600, figsize=(1.5, 1.5),\n",
    "    fnames=['mf0', 'entro0', 'g0_-2_entro-1'],\n",
    "    smooth_plot=True, smooth_plot_n=2,\n",
    "    figname='1e', colors=['C0', 'C2', colors(c_steps[0])],\n",
    "    show_legend=False, plot_title='', ylim=(0,1), ylabel='Episode Score'\n",
    "    )"
   ]
  },
  {
   "cell_type": "markdown",
   "id": "e35bd6a9",
   "metadata": {},
   "source": [
    "# Effect of Large Q"
   ]
  },
  {
   "cell_type": "code",
   "execution_count": 6,
   "id": "b27a7a56",
   "metadata": {},
   "outputs": [],
   "source": [
    "zs = np.arange(2, 22)"
   ]
  },
  {
   "cell_type": "code",
   "execution_count": 18,
   "id": "27e722aa",
   "metadata": {},
   "outputs": [],
   "source": [
    "recalculate = False\n",
    "if recalculate:\n",
    "    task_df = get_df('new_gridworld8x8_shuffobs', zs, 'dm_large_q')\n",
    "    with open('pickles/s2_large_q.p', 'wb') as f:\n",
    "        pickle.dump(task_df, f)\n",
    "else:\n",
    "    with open('pickles/s2_large_q.p', 'rb') as f:\n",
    "        task_df = pickle.load(f)"
   ]
  },
  {
   "cell_type": "code",
   "execution_count": 19,
   "id": "a30a41e9",
   "metadata": {},
   "outputs": [
    {
     "name": "stdout",
     "output_type": "stream",
     "text": [
      "mf0\n",
      "Mean: 0.82, SEM: 0.04534937327643742 for 45 vals\n",
      "entro2\n",
      "Mean: 0.882222222222222, SEM: 0.029178809401166194 for 45 vals\n",
      "g0_-2_entro-1\n",
      "Mean: 1.0, SEM: 0.0 for 45 vals\n"
     ]
    },
    {
     "data": {
      "image/png": "[encoded data removed]",
      "text/plain": [
       "<Figure size 150x150 with 1 Axes>"
      ]
     },
     "metadata": {},
     "output_type": "display_data"
    }
   ],
   "source": [
    "colors = cm.get_cmap('Oranges')\n",
    "c_steps = np.linspace(0.4, 0.8, 4, endpoint=True)\n",
    "plot(\n",
    "    task_df, 'valid_score', 600, figsize=(1.5, 1.5),\n",
    "    fnames=['mf0', 'entro2', 'g0_-2_entro-1'],\n",
    "    smooth_plot=True, smooth_plot_n=2,\n",
    "    figname='s1b', colors=['C0', 'C2', colors(c_steps[0])],\n",
    "    show_legend=False, plot_title='', ylim=(0,1), ylabel='Episode Score',\n",
    "    xlim=[2,11]\n",
    "    )"
   ]
  },
  {
   "cell_type": "markdown",
   "id": "13707ce7",
   "metadata": {},
   "source": [
    "# Effect of Large Encoder"
   ]
  },
  {
   "cell_type": "code",
   "execution_count": 11,
   "id": "9229c688",
   "metadata": {},
   "outputs": [],
   "source": [
    "zs = np.arange(2, 22)"
   ]
  },
  {
   "cell_type": "code",
   "execution_count": 13,
   "id": "76c4767a",
   "metadata": {},
   "outputs": [],
   "source": [
    "recalculate = False\n",
    "if recalculate:\n",
    "    task_df = get_df('new_gridworld8x8_shuffobs', zs, 'dm_large_encoder')\n",
    "    with open('pickles/s2_large_encoder.p', 'wb') as f:\n",
    "        pickle.dump(task_df, f)\n",
    "else:\n",
    "    with open('pickles/s2_large_encoder.p', 'rb') as f:\n",
    "        task_df = pickle.load(f)"
   ]
  },
  {
   "cell_type": "code",
   "execution_count": 17,
   "id": "e541dc10",
   "metadata": {},
   "outputs": [
    {
     "name": "stdout",
     "output_type": "stream",
     "text": [
      "mf1\n",
      "Mean: 0.6466666666666665, SEM: 0.07607215771934321 for 30 vals\n",
      "entro0\n",
      "Mean: 0.8533333333333333, SEM: 0.036113910884685047 for 30 vals\n",
      "g0_-2_entro-1\n",
      "Mean: 0.9933333333333334, SEM: 0.006666666666666665 for 30 vals\n"
     ]
    },
    {
     "data": {
      "image/png": "[encoded data removed]",
      "text/plain": [
       "<Figure size 150x150 with 1 Axes>"
      ]
     },
     "metadata": {},
     "output_type": "display_data"
    }
   ],
   "source": [
    "colors = cm.get_cmap('Oranges')\n",
    "c_steps = np.linspace(0.4, 0.8, 4, endpoint=True)\n",
    "plot(\n",
    "    task_df, 'valid_score', 600, figsize=(1.5, 1.5),\n",
    "    fnames=['mf1', 'entro0', 'g0_-2_entro-1',],\n",
    "    smooth_plot=True, smooth_plot_n=2, figname='s1c',\n",
    "    colors=['C0', 'C2', colors(c_steps[0])],\n",
    "    show_legend=False, plot_title='', ylim=(0,1), ylabel='Episode Score'\n",
    "    )"
   ]
  },
  {
   "cell_type": "code",
   "execution_count": null,
   "id": "1e1f68df",
   "metadata": {},
   "outputs": [],
   "source": []
  }
 ],
 "metadata": {
  "kernelspec": {
   "display_name": "Python 3 (ipykernel)",
   "language": "python",
   "name": "python3"
  },
  "language_info": {
   "codemirror_mode": {
    "name": "ipython",
    "version": 3
   },
   "file_extension": ".py",
   "mimetype": "text/x-python",
   "name": "python",
   "nbconvert_exporter": "python",
   "pygments_lexer": "ipython3",
   "version": "3.10.6"
  }
 },
 "nbformat": 4,
 "nbformat_minor": 5
}
