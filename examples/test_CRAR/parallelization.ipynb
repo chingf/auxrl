{
 "cells": [
  {
   "cell_type": "code",
   "execution_count": 1,
   "metadata": {},
   "outputs": [],
   "source": [
    "import numpy as np\n",
    "import os\n",
    "import subprocess\n",
    "from subprocess import Popen, PIPE\n",
    "import sys\n",
    "import torch"
   ]
  },
  {
   "cell_type": "code",
   "execution_count": 2,
   "metadata": {},
   "outputs": [
    {
     "name": "stdout",
     "output_type": "stream",
     "text": [
      "cuda\n"
     ]
    },
    {
     "data": {
      "text/plain": [
       "tensor([0., 0.], device='cuda:0')"
      ]
     },
     "execution_count": 2,
     "metadata": {},
     "output_type": "execute_result"
    }
   ],
   "source": [
    "device = 'cuda' if torch.cuda.is_available() else 'cpu'\n",
    "print(device)\n",
    "torch.zeros(2).to(device)"
   ]
  },
  {
   "cell_type": "code",
   "execution_count": 181,
   "metadata": {},
   "outputs": [
    {
     "data": {
      "text/plain": [
       "environ{'SLURM_NODELIST': 'ax03',\n",
       "        'SLURM_CHECKPOINT_IMAGE_DIR': '/var/slurm/checkpoint',\n",
       "        'MANPATH': '/share/lmod/lmod/share/man:',\n",
       "        'SLURM_JOB_NAME': 'jupyter',\n",
       "        'XDG_SESSION_ID': '276847',\n",
       "        'HOSTNAME': 'ax03',\n",
       "        'SLURM_TOPOLOGY_ADDR': 'ax03',\n",
       "        'SLURMD_NODENAME': 'ax03',\n",
       "        'SLURM_PRIO_PROCESS': '0',\n",
       "        'SLURM_SRUN_COMM_PORT': '41798',\n",
       "        'SLURM_NODE_ALIASES': '(null)',\n",
       "        '__LMOD_REF_COUNT_MODULEPATH': '/share/modulefiles:1',\n",
       "        'TERM': 'xterm-color',\n",
       "        'SHELL': '/bin/bash',\n",
       "        'HISTSIZE': '1000',\n",
       "        'SLURM_PTY_WIN_ROW': '49',\n",
       "        'SLURM_JOB_QOS': 'eval',\n",
       "        'MODULEPATH_ROOT': '/share/modulefiles',\n",
       "        'SSH_CLIENT': '10.192.133.64 56937 22',\n",
       "        'SLURM_TOPOLOGY_ADDR_PATTERN': 'node',\n",
       "        'TMPDIR': '/tmp',\n",
       "        'LIBRARY_PATH': '/share/apps/cudnn/7.6.1.34-10.1/lib64:/share/apps/cuda/10.1.168/lib64',\n",
       "        'CONDA_SHLVL': '2',\n",
       "        'CONDA_PROMPT_MODIFIER': '(hcnn) ',\n",
       "        'LMOD_PKG': '/share/lmod/lmod',\n",
       "        'SLURM_CPU_BIND_VERBOSE': 'quiet',\n",
       "        'LMOD_VERSION': '8.1.7',\n",
       "        'SLURM_JOB_GPUS': '1,3',\n",
       "        'SSH_TTY': '/dev/pts/26',\n",
       "        '__LMOD_REF_COUNT_CMAKE_PREFIX_PATH': '/share/apps/cudnn/7.6.1.34-10.1:1;/share/apps/cuda/10.1.168:1',\n",
       "        '__LMOD_REF_COUNT_LOADEDMODULES': 'anaconda3-2019.03:1;cuda/10.1.168:1;cudnn/7.6.1.34-10.1:1',\n",
       "        'SLURM_CPU_BIND_LIST': '0x00000100000000010000',\n",
       "        'NO_PROXY': 'columbia.edu',\n",
       "        'SLURM_MEM_PER_CPU': '4096',\n",
       "        'CUDA_HOME': '/share/apps/cuda/10.1.168',\n",
       "        'http_proxy': 'http://gw-srv-01.rc.zi.columbia.edu:3128',\n",
       "        'USER': 'cf2794',\n",
       "        'SLURM_NNODES': '1',\n",
       "        'LD_LIBRARY_PATH': '/share/apps/cudnn/7.6.1.34-10.1/lib64:/share/apps/cuda/10.1.168/lib64',\n",
       "        'LMOD_sys': 'Linux',\n",
       "        'SBATCH_PARTITION': 'ctn,burst',\n",
       "        'LS_COLORS': 'rs=0:di=38;5;27:ln=38;5;51:mh=44;38;5;15:pi=40;38;5;11:so=38;5;13:do=38;5;5:bd=48;5;232;38;5;11:cd=48;5;232;38;5;3:or=48;5;232;38;5;9:mi=05;48;5;232;38;5;15:su=48;5;196;38;5;15:sg=48;5;11;38;5;16:ca=48;5;196;38;5;226:tw=48;5;10;38;5;16:ow=48;5;10;38;5;21:st=48;5;21;38;5;15:ex=38;5;34:*.tar=38;5;9:*.tgz=38;5;9:*.arc=38;5;9:*.arj=38;5;9:*.taz=38;5;9:*.lha=38;5;9:*.lz4=38;5;9:*.lzh=38;5;9:*.lzma=38;5;9:*.tlz=38;5;9:*.txz=38;5;9:*.tzo=38;5;9:*.t7z=38;5;9:*.zip=38;5;9:*.z=38;5;9:*.Z=38;5;9:*.dz=38;5;9:*.gz=38;5;9:*.lrz=38;5;9:*.lz=38;5;9:*.lzo=38;5;9:*.xz=38;5;9:*.bz2=38;5;9:*.bz=38;5;9:*.tbz=38;5;9:*.tbz2=38;5;9:*.tz=38;5;9:*.deb=38;5;9:*.rpm=38;5;9:*.jar=38;5;9:*.war=38;5;9:*.ear=38;5;9:*.sar=38;5;9:*.rar=38;5;9:*.alz=38;5;9:*.ace=38;5;9:*.zoo=38;5;9:*.cpio=38;5;9:*.7z=38;5;9:*.rz=38;5;9:*.cab=38;5;9:*.jpg=38;5;13:*.jpeg=38;5;13:*.gif=38;5;13:*.bmp=38;5;13:*.pbm=38;5;13:*.pgm=38;5;13:*.ppm=38;5;13:*.tga=38;5;13:*.xbm=38;5;13:*.xpm=38;5;13:*.tif=38;5;13:*.tiff=38;5;13:*.png=38;5;13:*.svg=38;5;13:*.svgz=38;5;13:*.mng=38;5;13:*.pcx=38;5;13:*.mov=38;5;13:*.mpg=38;5;13:*.mpeg=38;5;13:*.m2v=38;5;13:*.mkv=38;5;13:*.webm=38;5;13:*.ogm=38;5;13:*.mp4=38;5;13:*.m4v=38;5;13:*.mp4v=38;5;13:*.vob=38;5;13:*.qt=38;5;13:*.nuv=38;5;13:*.wmv=38;5;13:*.asf=38;5;13:*.rm=38;5;13:*.rmvb=38;5;13:*.flc=38;5;13:*.avi=38;5;13:*.fli=38;5;13:*.flv=38;5;13:*.gl=38;5;13:*.dl=38;5;13:*.xcf=38;5;13:*.xwd=38;5;13:*.yuv=38;5;13:*.cgm=38;5;13:*.emf=38;5;13:*.axv=38;5;13:*.anx=38;5;13:*.ogv=38;5;13:*.ogx=38;5;13:*.aac=38;5;45:*.au=38;5;45:*.flac=38;5;45:*.mid=38;5;45:*.midi=38;5;45:*.mka=38;5;45:*.mp3=38;5;45:*.mpc=38;5;45:*.ogg=38;5;45:*.ra=38;5;45:*.wav=38;5;45:*.axa=38;5;45:*.oga=38;5;45:*.spx=38;5;45:*.xspf=38;5;45:',\n",
       "        'CONDA_EXE': '/share/apps/anaconda3-2019.03/bin/conda',\n",
       "        'SLURM_STEP_NUM_NODES': '1',\n",
       "        'CPATH': '/share/apps/cudnn/7.6.1.34-10.1/include:/share/apps/cuda/10.1.168/include',\n",
       "        'SRUN_DEBUG': '3',\n",
       "        'SLURM_JOBID': '508643',\n",
       "        '__LMOD_REF_COUNT__LMFILES_': '/share/modulefiles/anaconda3-2019.03.lua:1;/share/modulefiles/cuda/10.1.168:1;/share/modulefiles/cudnn/7.6.1.34-10.1:1',\n",
       "        'JPY_PARENT_PID': '28371',\n",
       "        'SLURM_NTASKS': '1',\n",
       "        'SLURM_LAUNCH_NODE_IPADDR': '10.198.30.29',\n",
       "        'SLURM_STEP_ID': '0',\n",
       "        'JUPYTER_PATH': '/share/apps/anaconda3-2019.03/bin/jupyter-notebook',\n",
       "        '_CE_CONDA': '',\n",
       "        'CONDA_PREFIX_1': '/share/apps/anaconda3-2019.03',\n",
       "        '_ModuleTable001_': 'X01vZHVsZVRhYmxlXz17WyJNVHZlcnNpb24iXT0zLFsiY19yZWJ1aWxkVGltZSJdPWZhbHNlLFsiY19zaG9ydFRpbWUiXT1mYWxzZSxkZXB0aFQ9e30sZmFtaWx5PXt9LG1UPXtbImFuYWNvbmRhMy0yMDE5LjAzIl09e1siZm4iXT0iL3NoYXJlL21vZHVsZWZpbGVzL2FuYWNvbmRhMy0yMDE5LjAzLmx1YSIsWyJmdWxsTmFtZSJdPSJhbmFjb25kYTMtMjAxOS4wMyIsWyJsb2FkT3JkZXIiXT0xLHByb3BUPXt9LFsic3RhY2tEZXB0aCJdPTAsWyJzdGF0dXMiXT0iYWN0aXZlIixbInVzZXJOYW1lIl09ImFuYWNvbmRhMy0yMDE5LjAzIix9LGN1ZGE9e1siZm4iXT0iL3NoYXJlL21vZHVsZWZpbGVzL2N1ZGEvMTAuMS4xNjgiLFsiZnVsbE5hbWUiXT0iY3VkYS8xMC4xLjE2OCIsWyJs',\n",
       "        'MAIL': '/var/spool/mail/cf2794',\n",
       "        'PATH': '/share/apps/cuda/10.1.168/bin:/home/cf2794/.conda/envs/hcnn/bin:/usr/local/bin:/usr/bin:/usr/local/sbin:/usr/sbin:/home/cf2794/.local/bin:/home/cf2794/bin',\n",
       "        'SLURM_TASKS_PER_NODE': '1',\n",
       "        'SLURM_STEP_LAUNCHER_PORT': '41798',\n",
       "        'SLURM_PARTITION': 'ctn,burst',\n",
       "        'SLURM_WORKING_CLUSTER': 'axon:slurm:6817:8448',\n",
       "        'SLURM_CPUS_PER_TASK': '4',\n",
       "        'SLURM_JOB_ID': '508643',\n",
       "        'CONDA_PREFIX': '/home/cf2794/.conda/envs/hcnn',\n",
       "        'PWD': '/home/cf2794/Code/deer/examples/test_CRAR',\n",
       "        'SLURM_STEPID': '0',\n",
       "        'SLURM_JOB_USER': 'cf2794',\n",
       "        '_LMFILES_': '/share/modulefiles/anaconda3-2019.03.lua:/share/modulefiles/cuda/10.1.168:/share/modulefiles/cudnn/7.6.1.34-10.1',\n",
       "        'SLURM_SRUN_COMM_HOST': '10.198.30.29',\n",
       "        'CUDA_VISIBLE_DEVICES': '0',\n",
       "        'SLURM_CPU_BIND_TYPE': 'mask_cpu:',\n",
       "        'LANG': 'en_US.UTF-8',\n",
       "        'MODULEPATH': '/share/modulefiles',\n",
       "        'SLURM_PTY_WIN_COL': '166',\n",
       "        '_ModuleTable_Sz_': '2',\n",
       "        'LOADEDMODULES': 'anaconda3-2019.03:cuda/10.1.168:cudnn/7.6.1.34-10.1',\n",
       "        'SLURM_JOB_UID': '413748551',\n",
       "        'SLURM_NODEID': '0',\n",
       "        'SLURM_SUBMIT_DIR': '/share/ctn/users/cf2794/Code/deer/examples/test_CRAR',\n",
       "        'LMOD_CMD': '/share/lmod/lmod/libexec/lmod',\n",
       "        'SLURM_NPROCS': '1',\n",
       "        'SLURM_TASK_PID': '28345',\n",
       "        'HTTPS_PROXY': 'http://gw-srv-01.rc.zi.columbia.edu:3128',\n",
       "        'https_proxy': 'http://gw-srv-01.rc.zi.columbia.edu:3128',\n",
       "        'SLURM_DISTRIBUTION': 'cyclic',\n",
       "        'SLURM_CPUS_ON_NODE': '4',\n",
       "        '_CE_M': '',\n",
       "        'HISTCONTROL': 'ignoredups',\n",
       "        'KRB5CCNAME': 'FILE:/srv/krb5/krb5cc_413748551',\n",
       "        'SLURM_PROCID': '0',\n",
       "        'ENVIRONMENT': 'BATCH',\n",
       "        'SLURM_JOB_NODELIST': 'ax03',\n",
       "        'SHLVL': '4',\n",
       "        'HOME': '/home/cf2794',\n",
       "        'SLURM_PTY_PORT': '42986',\n",
       "        'SJUPYTER_TMPFILE': '/home/cf2794/.sjupyter/tmp.pe5c4i65pE',\n",
       "        '__LMOD_REF_COUNT_PATH': '/share/apps/cuda/10.1.168/bin:1;/share/apps/anaconda3-2019.03/bin:2;/usr/local/bin:1;/usr/bin:1;/usr/local/sbin:1;/usr/sbin:1;/home/cf2794/.local/bin:1;/home/cf2794/bin:1',\n",
       "        'SLURM_LOCALID': '0',\n",
       "        '__LMOD_REF_COUNT_CPATH': '/share/apps/cudnn/7.6.1.34-10.1/include:1;/share/apps/cuda/10.1.168/include:1',\n",
       "        '_ModuleTable002_': 'b2FkT3JkZXIiXT0yLHByb3BUPXt9LFsic3RhY2tEZXB0aCJdPTAsWyJzdGF0dXMiXT0iYWN0aXZlIixbInVzZXJOYW1lIl09ImN1ZGEvMTAuMS4xNjgiLH0sY3Vkbm49e1siZm4iXT0iL3NoYXJlL21vZHVsZWZpbGVzL2N1ZG5uLzcuNi4xLjM0LTEwLjEiLFsiZnVsbE5hbWUiXT0iY3Vkbm4vNy42LjEuMzQtMTAuMSIsWyJsb2FkT3JkZXIiXT0zLHByb3BUPXt9LFsic3RhY2tEZXB0aCJdPTAsWyJzdGF0dXMiXT0iYWN0aXZlIixbInVzZXJOYW1lIl09ImN1ZG5uLzcuNi4xLjM0LTEwLjEiLH0sfSxtcGF0aEE9eyIvc2hhcmUvbW9kdWxlZmlsZXMiLH0sWyJzeXN0ZW1CYXNlTVBBVEgiXT0iL3NoYXJlL21vZHVsZWZpbGVzIix9',\n",
       "        'no_proxy': 'columbia.edu',\n",
       "        'SLURM_CLUSTER_NAME': 'axon',\n",
       "        'SLURM_JOB_CPUS_PER_NODE': '4',\n",
       "        'SLURM_JOB_GID': '413600513',\n",
       "        'HTTP_PROXY': 'http://gw-srv-01.rc.zi.columbia.edu:3128',\n",
       "        'SLURM_SUBMIT_HOST': 'ax07.rc.zi.columbia.edu',\n",
       "        'SLURM_GTIDS': '0',\n",
       "        'BASH_ENV': '/share/lmod/lmod/init/bash',\n",
       "        'SLURM_JOB_PARTITION': 'ctn',\n",
       "        'CONDA_PYTHON_EXE': '/share/apps/anaconda3-2019.03/bin/python',\n",
       "        'LOGNAME': 'cf2794',\n",
       "        'SLURM_STEP_NUM_TASKS': '1',\n",
       "        'SSH_CONNECTION': '10.192.133.64 56937 10.198.30.29 22',\n",
       "        'SLURM_JOB_ACCOUNT': 'ctn',\n",
       "        'GPU_DEVICE_ORDINAL': '0,1',\n",
       "        '__LMOD_REF_COUNT_LIBRARY_PATH': '/share/apps/cudnn/7.6.1.34-10.1/lib64:1;/share/apps/cuda/10.1.168/lib64:1',\n",
       "        'MODULESHOME': '/share/lmod/lmod',\n",
       "        'SLURM_JOB_NUM_NODES': '1',\n",
       "        '__LMOD_REF_COUNT_LD_LIBRARY_PATH': '/share/apps/cudnn/7.6.1.34-10.1/lib64:1;/share/apps/cuda/10.1.168/lib64:1',\n",
       "        'CONDA_DEFAULT_ENV': 'hcnn',\n",
       "        'LMOD_SETTARG_FULL_SUPPORT': 'no',\n",
       "        'LESSOPEN': '||/usr/bin/lesspipe.sh %s',\n",
       "        'SJUPYTER_USER_DIR': '/home/cf2794/.sjupyter',\n",
       "        'SLURM_STEP_TASKS_PER_NODE': '1',\n",
       "        'SLURM_STEP_NODELIST': 'ax07',\n",
       "        'CMAKE_PREFIX_PATH': '/share/apps/cudnn/7.6.1.34-10.1:/share/apps/cuda/10.1.168',\n",
       "        'XDG_RUNTIME_DIR': '',\n",
       "        'CURRENTDIR': '/home/cf2794/Code/deer/examples/test_CRAR',\n",
       "        'LMOD_DIR': '/share/lmod/lmod/libexec',\n",
       "        'SLURM_CPU_BIND': 'quiet,mask_cpu:0x00000100000000010000',\n",
       "        'BASH_FUNC_module()': '() {  eval $($LMOD_CMD bash \"$@\") && eval $(${LMOD_SETTARG_CMD:-:} -s sh)\\n}',\n",
       "        'BASH_FUNC_ml()': '() {  eval $($LMOD_DIR/ml_cmd \"$@\")\\n}',\n",
       "        'PYDEVD_USE_FRAME_EVAL': 'NO',\n",
       "        'CLICOLOR': '1',\n",
       "        'PAGER': 'cat',\n",
       "        'GIT_PAGER': 'cat',\n",
       "        'MPLBACKEND': 'module://matplotlib_inline.backend_inline'}"
      ]
     },
     "execution_count": 181,
     "metadata": {},
     "output_type": "execute_result"
    }
   ],
   "source": [
    "os.environ"
   ]
  },
  {
   "cell_type": "code",
   "execution_count": 193,
   "metadata": {},
   "outputs": [
    {
     "name": "stdout",
     "output_type": "stream",
     "text": [
      "Sat Jan 21 20:48:11 2023       \n",
      "+-----------------------------------------------------------------------------+\n",
      "| NVIDIA-SMI 525.60.13    Driver Version: 525.60.13    CUDA Version: 12.0     |\n",
      "|-------------------------------+----------------------+----------------------+\n",
      "| GPU  Name        Persistence-M| Bus-Id        Disp.A | Volatile Uncorr. ECC |\n",
      "| Fan  Temp  Perf  Pwr:Usage/Cap|         Memory-Usage | GPU-Util  Compute M. |\n",
      "|                               |                      |               MIG M. |\n",
      "|===============================+======================+======================|\n",
      "|   0  NVIDIA GeForce ...  On   | 00000000:05:00.0 Off |                  N/A |\n",
      "|  0%   31C    P8     7W / 250W |   6302MiB / 11264MiB |      0%      Default |\n",
      "|                               |                      |                  N/A |\n",
      "+-------------------------------+----------------------+----------------------+\n",
      "|   1  NVIDIA GeForce ...  On   | 00000000:09:00.0 Off |                  N/A |\n",
      "|  0%   17C    P8     8W / 250W |      4MiB / 11264MiB |      0%      Default |\n",
      "|                               |                      |                  N/A |\n",
      "+-------------------------------+----------------------+----------------------+\n",
      "                                                                               \n",
      "+-----------------------------------------------------------------------------+\n",
      "| Processes:                                                                  |\n",
      "|  GPU   GI   CI        PID   Type   Process name                  GPU Memory |\n",
      "|        ID   ID                                                   Usage      |\n",
      "|=============================================================================|\n",
      "|    0   N/A  N/A     19171      C   python                            732MiB |\n",
      "|    0   N/A  N/A     19176      C   python                            732MiB |\n",
      "|    0   N/A  N/A     19179      C   python                            732MiB |\n",
      "|    0   N/A  N/A     19183      C   python                            732MiB |\n",
      "|    0   N/A  N/A     19185      C   python                            732MiB |\n",
      "|    0   N/A  N/A     19201      C   python                            732MiB |\n",
      "|    0   N/A  N/A     19210      C   python                            732MiB |\n",
      "|    0   N/A  N/A     19213      C   python                            732MiB |\n",
      "|    0   N/A  N/A     30496      C   ...onda/envs/hcnn/bin/python      438MiB |\n",
      "+-----------------------------------------------------------------------------+\n"
     ]
    }
   ],
   "source": [
    "!nvidia-smi"
   ]
  },
  {
   "cell_type": "code",
   "execution_count": 162,
   "metadata": {},
   "outputs": [
    {
     "name": "stdout",
     "output_type": "stream",
     "text": [
      "0\n"
     ]
    }
   ],
   "source": [
    "my_env = os.environ\n",
    "NUM_TOTAL_GPUS = len(my_env[\"CUDA_VISIBLE_DEVICES\"])\n",
    "print(my_env[\"CUDA_VISIBLE_DEVICES\"])"
   ]
  },
  {
   "cell_type": "code",
   "execution_count": 176,
   "metadata": {},
   "outputs": [],
   "source": [
    "count = 0\n",
    "processes = []"
   ]
  },
  {
   "cell_type": "code",
   "execution_count": 177,
   "metadata": {},
   "outputs": [],
   "source": [
    "args = []\n",
    "threads = 20\n",
    "for i in range(threads):\n",
    "    args.append([\"python\", 'foraging_script.py', str(i), str(threads)])\n",
    "    \n",
    "for arg in args:\n",
    "    my_env = os.environ\n",
    "    my_env[\"CUDA_VISIBLE_DEVICES\"] = str(count % NUM_TOTAL_GPUS)\n",
    "    p = Popen(arg, stdout=PIPE, stderr=PIPE, env=my_env) \n",
    "    count += 1\n",
    "    processes.append(p)\n",
    "#my_env[\"PYTHONNOUSERSITE\"]=str(True) #sometimes I have to set this to true to force python to only use packages from the conda environment and not the global user packages\n",
    "#my_env[\"PYTHONUNBUFFERED\"] = \"1\" #sometimes I have to set this to true if I want to print the outputs of the processes\n",
    "# p = Popen([\"/home/jwl2182/.conda/envs/a40/bin/1python3\", \"-s\", program_filename, \"--trial\", str(trial), \"--some_other_argument\", \"value_of_argument\"],\n",
    "#         stdout=PIPE, stderr=PIPE, env=my_env) \n"
   ]
  },
  {
   "cell_type": "code",
   "execution_count": 174,
   "metadata": {},
   "outputs": [
    {
     "name": "stdout",
     "output_type": "stream",
     "text": [
      "b'hello\\n'b'hello\\n'b'hello\\n'b'hello\\n'b'hello\\n'b'hello\\n'b'hello\\n'b'hello\\n'b'hello\\n'b'hello\\n'"
     ]
    }
   ],
   "source": [
    "for p in processes:\n",
    "    out = p.stdout.read()\n",
    "    if out == '' and process.poll() != None:\n",
    "        pass\n",
    "    if out != '':\n",
    "        sys.stdout.write(str(out))\n",
    "        sys.stdout.flush()"
   ]
  },
  {
   "cell_type": "code",
   "execution_count": null,
   "metadata": {},
   "outputs": [],
   "source": [
    "for p in processes:\n",
    "    p.wait()\n",
    "    output, error = p.communicate()\n",
    "    if p.returncode != 0: \n",
    "       print(\"failed %d %s %s\" % (p.returncode, output, error))"
   ]
  },
  {
   "cell_type": "raw",
   "metadata": {},
   "source": []
  }
 ],
 "metadata": {
  "kernelspec": {
   "display_name": "Python [conda env:.conda-hcnn]",
   "language": "python",
   "name": "conda-env-.conda-hcnn-py"
  },
  "language_info": {
   "codemirror_mode": {
    "name": "ipython",
    "version": 3
   },
   "file_extension": ".py",
   "mimetype": "text/x-python",
   "name": "python",
   "nbconvert_exporter": "python",
   "pygments_lexer": "ipython3",
   "version": "3.7.13"
  }
 },
 "nbformat": 4,
 "nbformat_minor": 2
}
